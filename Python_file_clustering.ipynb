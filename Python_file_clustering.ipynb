{
  "cells": [
    {
      "cell_type": "code",
      "execution_count": null,
      "metadata": {
        "id": "etnB_OW6PC7Y"
      },
      "outputs": [],
      "source": [
        "import pandas as pd\n",
        "from sklearn.cluster import KMeans\n",
        "import matplotlib.pyplot as plt\n",
        "import seaborn as sns"
      ]
    },
    {
      "cell_type": "code",
      "execution_count": null,
      "metadata": {
        "id": "7he6DN7OTJ36"
      },
      "outputs": [],
      "source": [
        "df=pd.read_excel('/content/Clustering Clean Ads_Data-2.xlsx')"
      ]
    },
    {
      "cell_type": "code",
      "execution_count": null,
      "metadata": {
        "colab": {
          "base_uri": "https://localhost:8080/",
          "height": 206
        },
        "id": "5NlUv5NoTacF",
        "outputId": "a433d2f2-68ab-4a10-9284-eb0556ca3a48"
      },
      "outputs": [
        {
          "output_type": "execute_result",
          "data": {
            "text/plain": [
              "          Timestamp InventoryType  Ad - Length  Ad- Width  Ad Size   Ad Type  \\\n",
              "23061   2020-9-13-7       Format5          720        300   216000  Inter220   \n",
              "23062   2020-11-2-7       Format5          720        300   216000  Inter224   \n",
              "23063  2020-9-14-22       Format5          720        300   216000  Inter218   \n",
              "23064  2020-11-18-2       Format4          120        600    72000  inter230   \n",
              "23065   2020-9-14-0       Format5          720        300   216000  Inter221   \n",
              "\n",
              "      Platform Device Type Format  Available_Impressions  Matched_Queries  \\\n",
              "23061      Web      Mobile  Video                      1                1   \n",
              "23062      Web     Desktop  Video                      3                2   \n",
              "23063      App      Mobile  Video                      2                1   \n",
              "23064    Video      Mobile  Video                      7                1   \n",
              "23065      App      Mobile  Video                      2                2   \n",
              "\n",
              "       Impressions  Clicks  Spend   Fee  Revenue  CTR  CPM  CPC  \n",
              "23061            1       1   0.07  0.35   0.0455  NaN  NaN  NaN  \n",
              "23062            2       1   0.04  0.35   0.0260  NaN  NaN  NaN  \n",
              "23063            1       1   0.05  0.35   0.0325  NaN  NaN  NaN  \n",
              "23064            1       1   0.07  0.35   0.0455  NaN  NaN  NaN  \n",
              "23065            2       1   0.09  0.35   0.0585  NaN  NaN  NaN  "
            ],
            "text/html": [
              "\n",
              "  <div id=\"df-c321b34b-5293-4238-90a7-9a92b379a5c8\">\n",
              "    <div class=\"colab-df-container\">\n",
              "      <div>\n",
              "<style scoped>\n",
              "    .dataframe tbody tr th:only-of-type {\n",
              "        vertical-align: middle;\n",
              "    }\n",
              "\n",
              "    .dataframe tbody tr th {\n",
              "        vertical-align: top;\n",
              "    }\n",
              "\n",
              "    .dataframe thead th {\n",
              "        text-align: right;\n",
              "    }\n",
              "</style>\n",
              "<table border=\"1\" class=\"dataframe\">\n",
              "  <thead>\n",
              "    <tr style=\"text-align: right;\">\n",
              "      <th></th>\n",
              "      <th>Timestamp</th>\n",
              "      <th>InventoryType</th>\n",
              "      <th>Ad - Length</th>\n",
              "      <th>Ad- Width</th>\n",
              "      <th>Ad Size</th>\n",
              "      <th>Ad Type</th>\n",
              "      <th>Platform</th>\n",
              "      <th>Device Type</th>\n",
              "      <th>Format</th>\n",
              "      <th>Available_Impressions</th>\n",
              "      <th>Matched_Queries</th>\n",
              "      <th>Impressions</th>\n",
              "      <th>Clicks</th>\n",
              "      <th>Spend</th>\n",
              "      <th>Fee</th>\n",
              "      <th>Revenue</th>\n",
              "      <th>CTR</th>\n",
              "      <th>CPM</th>\n",
              "      <th>CPC</th>\n",
              "    </tr>\n",
              "  </thead>\n",
              "  <tbody>\n",
              "    <tr>\n",
              "      <th>23061</th>\n",
              "      <td>2020-9-13-7</td>\n",
              "      <td>Format5</td>\n",
              "      <td>720</td>\n",
              "      <td>300</td>\n",
              "      <td>216000</td>\n",
              "      <td>Inter220</td>\n",
              "      <td>Web</td>\n",
              "      <td>Mobile</td>\n",
              "      <td>Video</td>\n",
              "      <td>1</td>\n",
              "      <td>1</td>\n",
              "      <td>1</td>\n",
              "      <td>1</td>\n",
              "      <td>0.07</td>\n",
              "      <td>0.35</td>\n",
              "      <td>0.0455</td>\n",
              "      <td>NaN</td>\n",
              "      <td>NaN</td>\n",
              "      <td>NaN</td>\n",
              "    </tr>\n",
              "    <tr>\n",
              "      <th>23062</th>\n",
              "      <td>2020-11-2-7</td>\n",
              "      <td>Format5</td>\n",
              "      <td>720</td>\n",
              "      <td>300</td>\n",
              "      <td>216000</td>\n",
              "      <td>Inter224</td>\n",
              "      <td>Web</td>\n",
              "      <td>Desktop</td>\n",
              "      <td>Video</td>\n",
              "      <td>3</td>\n",
              "      <td>2</td>\n",
              "      <td>2</td>\n",
              "      <td>1</td>\n",
              "      <td>0.04</td>\n",
              "      <td>0.35</td>\n",
              "      <td>0.0260</td>\n",
              "      <td>NaN</td>\n",
              "      <td>NaN</td>\n",
              "      <td>NaN</td>\n",
              "    </tr>\n",
              "    <tr>\n",
              "      <th>23063</th>\n",
              "      <td>2020-9-14-22</td>\n",
              "      <td>Format5</td>\n",
              "      <td>720</td>\n",
              "      <td>300</td>\n",
              "      <td>216000</td>\n",
              "      <td>Inter218</td>\n",
              "      <td>App</td>\n",
              "      <td>Mobile</td>\n",
              "      <td>Video</td>\n",
              "      <td>2</td>\n",
              "      <td>1</td>\n",
              "      <td>1</td>\n",
              "      <td>1</td>\n",
              "      <td>0.05</td>\n",
              "      <td>0.35</td>\n",
              "      <td>0.0325</td>\n",
              "      <td>NaN</td>\n",
              "      <td>NaN</td>\n",
              "      <td>NaN</td>\n",
              "    </tr>\n",
              "    <tr>\n",
              "      <th>23064</th>\n",
              "      <td>2020-11-18-2</td>\n",
              "      <td>Format4</td>\n",
              "      <td>120</td>\n",
              "      <td>600</td>\n",
              "      <td>72000</td>\n",
              "      <td>inter230</td>\n",
              "      <td>Video</td>\n",
              "      <td>Mobile</td>\n",
              "      <td>Video</td>\n",
              "      <td>7</td>\n",
              "      <td>1</td>\n",
              "      <td>1</td>\n",
              "      <td>1</td>\n",
              "      <td>0.07</td>\n",
              "      <td>0.35</td>\n",
              "      <td>0.0455</td>\n",
              "      <td>NaN</td>\n",
              "      <td>NaN</td>\n",
              "      <td>NaN</td>\n",
              "    </tr>\n",
              "    <tr>\n",
              "      <th>23065</th>\n",
              "      <td>2020-9-14-0</td>\n",
              "      <td>Format5</td>\n",
              "      <td>720</td>\n",
              "      <td>300</td>\n",
              "      <td>216000</td>\n",
              "      <td>Inter221</td>\n",
              "      <td>App</td>\n",
              "      <td>Mobile</td>\n",
              "      <td>Video</td>\n",
              "      <td>2</td>\n",
              "      <td>2</td>\n",
              "      <td>2</td>\n",
              "      <td>1</td>\n",
              "      <td>0.09</td>\n",
              "      <td>0.35</td>\n",
              "      <td>0.0585</td>\n",
              "      <td>NaN</td>\n",
              "      <td>NaN</td>\n",
              "      <td>NaN</td>\n",
              "    </tr>\n",
              "  </tbody>\n",
              "</table>\n",
              "</div>\n",
              "      <button class=\"colab-df-convert\" onclick=\"convertToInteractive('df-c321b34b-5293-4238-90a7-9a92b379a5c8')\"\n",
              "              title=\"Convert this dataframe to an interactive table.\"\n",
              "              style=\"display:none;\">\n",
              "        \n",
              "  <svg xmlns=\"http://www.w3.org/2000/svg\" height=\"24px\"viewBox=\"0 0 24 24\"\n",
              "       width=\"24px\">\n",
              "    <path d=\"M0 0h24v24H0V0z\" fill=\"none\"/>\n",
              "    <path d=\"M18.56 5.44l.94 2.06.94-2.06 2.06-.94-2.06-.94-.94-2.06-.94 2.06-2.06.94zm-11 1L8.5 8.5l.94-2.06 2.06-.94-2.06-.94L8.5 2.5l-.94 2.06-2.06.94zm10 10l.94 2.06.94-2.06 2.06-.94-2.06-.94-.94-2.06-.94 2.06-2.06.94z\"/><path d=\"M17.41 7.96l-1.37-1.37c-.4-.4-.92-.59-1.43-.59-.52 0-1.04.2-1.43.59L10.3 9.45l-7.72 7.72c-.78.78-.78 2.05 0 2.83L4 21.41c.39.39.9.59 1.41.59.51 0 1.02-.2 1.41-.59l7.78-7.78 2.81-2.81c.8-.78.8-2.07 0-2.86zM5.41 20L4 18.59l7.72-7.72 1.47 1.35L5.41 20z\"/>\n",
              "  </svg>\n",
              "      </button>\n",
              "      \n",
              "  <style>\n",
              "    .colab-df-container {\n",
              "      display:flex;\n",
              "      flex-wrap:wrap;\n",
              "      gap: 12px;\n",
              "    }\n",
              "\n",
              "    .colab-df-convert {\n",
              "      background-color: #E8F0FE;\n",
              "      border: none;\n",
              "      border-radius: 50%;\n",
              "      cursor: pointer;\n",
              "      display: none;\n",
              "      fill: #1967D2;\n",
              "      height: 32px;\n",
              "      padding: 0 0 0 0;\n",
              "      width: 32px;\n",
              "    }\n",
              "\n",
              "    .colab-df-convert:hover {\n",
              "      background-color: #E2EBFA;\n",
              "      box-shadow: 0px 1px 2px rgba(60, 64, 67, 0.3), 0px 1px 3px 1px rgba(60, 64, 67, 0.15);\n",
              "      fill: #174EA6;\n",
              "    }\n",
              "\n",
              "    [theme=dark] .colab-df-convert {\n",
              "      background-color: #3B4455;\n",
              "      fill: #D2E3FC;\n",
              "    }\n",
              "\n",
              "    [theme=dark] .colab-df-convert:hover {\n",
              "      background-color: #434B5C;\n",
              "      box-shadow: 0px 1px 3px 1px rgba(0, 0, 0, 0.15);\n",
              "      filter: drop-shadow(0px 1px 2px rgba(0, 0, 0, 0.3));\n",
              "      fill: #FFFFFF;\n",
              "    }\n",
              "  </style>\n",
              "\n",
              "      <script>\n",
              "        const buttonEl =\n",
              "          document.querySelector('#df-c321b34b-5293-4238-90a7-9a92b379a5c8 button.colab-df-convert');\n",
              "        buttonEl.style.display =\n",
              "          google.colab.kernel.accessAllowed ? 'block' : 'none';\n",
              "\n",
              "        async function convertToInteractive(key) {\n",
              "          const element = document.querySelector('#df-c321b34b-5293-4238-90a7-9a92b379a5c8');\n",
              "          const dataTable =\n",
              "            await google.colab.kernel.invokeFunction('convertToInteractive',\n",
              "                                                     [key], {});\n",
              "          if (!dataTable) return;\n",
              "\n",
              "          const docLinkHtml = 'Like what you see? Visit the ' +\n",
              "            '<a target=\"_blank\" href=https://colab.research.google.com/notebooks/data_table.ipynb>data table notebook</a>'\n",
              "            + ' to learn more about interactive tables.';\n",
              "          element.innerHTML = '';\n",
              "          dataTable['output_type'] = 'display_data';\n",
              "          await google.colab.output.renderOutput(dataTable, element);\n",
              "          const docLink = document.createElement('div');\n",
              "          docLink.innerHTML = docLinkHtml;\n",
              "          element.appendChild(docLink);\n",
              "        }\n",
              "      </script>\n",
              "    </div>\n",
              "  </div>\n",
              "  "
            ]
          },
          "metadata": {},
          "execution_count": 3
        }
      ],
      "source": [
        "df.tail(5)"
      ]
    },
    {
      "cell_type": "code",
      "execution_count": null,
      "metadata": {
        "colab": {
          "base_uri": "https://localhost:8080/"
        },
        "id": "WIlUo0Jtm40B",
        "outputId": "7a7a5970-803f-4579-9bc8-2d00a4072154"
      },
      "outputs": [
        {
          "output_type": "execute_result",
          "data": {
            "text/plain": [
              "(23066, 19)"
            ]
          },
          "metadata": {},
          "execution_count": 4
        }
      ],
      "source": [
        "df.shape"
      ]
    },
    {
      "cell_type": "code",
      "execution_count": null,
      "metadata": {
        "colab": {
          "base_uri": "https://localhost:8080/"
        },
        "id": "3se08LBbTg03",
        "outputId": "48d43bef-e507-4262-8494-a3746df72742"
      },
      "outputs": [
        {
          "output_type": "stream",
          "name": "stdout",
          "text": [
            "<class 'pandas.core.frame.DataFrame'>\n",
            "RangeIndex: 23066 entries, 0 to 23065\n",
            "Data columns (total 19 columns):\n",
            " #   Column                 Non-Null Count  Dtype  \n",
            "---  ------                 --------------  -----  \n",
            " 0   Timestamp              23066 non-null  object \n",
            " 1   InventoryType          23066 non-null  object \n",
            " 2   Ad - Length            23066 non-null  int64  \n",
            " 3   Ad- Width              23066 non-null  int64  \n",
            " 4   Ad Size                23066 non-null  int64  \n",
            " 5   Ad Type                23066 non-null  object \n",
            " 6   Platform               23066 non-null  object \n",
            " 7   Device Type            23066 non-null  object \n",
            " 8   Format                 23066 non-null  object \n",
            " 9   Available_Impressions  23066 non-null  int64  \n",
            " 10  Matched_Queries        23066 non-null  int64  \n",
            " 11  Impressions            23066 non-null  int64  \n",
            " 12  Clicks                 23066 non-null  int64  \n",
            " 13  Spend                  23066 non-null  float64\n",
            " 14  Fee                    23066 non-null  float64\n",
            " 15  Revenue                23066 non-null  float64\n",
            " 16  CTR                    18330 non-null  float64\n",
            " 17  CPM                    18330 non-null  float64\n",
            " 18  CPC                    18330 non-null  float64\n",
            "dtypes: float64(6), int64(7), object(6)\n",
            "memory usage: 3.3+ MB\n"
          ]
        }
      ],
      "source": [
        "df.info()"
      ]
    },
    {
      "cell_type": "code",
      "execution_count": null,
      "metadata": {
        "id": "68DQ1W3uECuX"
      },
      "outputs": [],
      "source": [
        "import numpy as np"
      ]
    },
    {
      "cell_type": "code",
      "execution_count": null,
      "metadata": {
        "id": "Ymty9pe4EAgs"
      },
      "outputs": [],
      "source": [
        "df_numeric = df.select_dtypes(include=[np.float64,np.int64])"
      ]
    },
    {
      "cell_type": "code",
      "execution_count": null,
      "metadata": {
        "id": "c9HEQstOEGO5"
      },
      "outputs": [],
      "source": []
    },
    {
      "cell_type": "code",
      "execution_count": null,
      "metadata": {
        "colab": {
          "base_uri": "https://localhost:8080/"
        },
        "id": "fODVbWBBVmYU",
        "outputId": "69318b48-d6d5-43df-8d40-cdd0f113ee5a"
      },
      "outputs": [
        {
          "output_type": "execute_result",
          "data": {
            "text/plain": [
              "Format4    7165\n",
              "Format5    4249\n",
              "Format1    3814\n",
              "Format3    3540\n",
              "Format6    1850\n",
              "Format2    1789\n",
              "Format7     659\n",
              "Name: InventoryType, dtype: int64"
            ]
          },
          "metadata": {},
          "execution_count": 8
        }
      ],
      "source": [
        "df.InventoryType.value_counts()"
      ]
    },
    {
      "cell_type": "code",
      "execution_count": null,
      "metadata": {
        "colab": {
          "base_uri": "https://localhost:8080/"
        },
        "id": "BIEmqaT5jSVX",
        "outputId": "07d32a58-d495-4b6a-c88b-f8bec5332366"
      },
      "outputs": [
        {
          "output_type": "execute_result",
          "data": {
            "text/plain": [
              "Index(['Timestamp', 'InventoryType', 'Ad - Length', 'Ad- Width', 'Ad Size',\n",
              "       'Ad Type', 'Platform', 'Device Type', 'Format', 'Available_Impressions',\n",
              "       'Matched_Queries', 'Impressions', 'Clicks', 'Spend', 'Fee', 'Revenue',\n",
              "       'CTR', 'CPM', 'CPC'],\n",
              "      dtype='object')"
            ]
          },
          "metadata": {},
          "execution_count": 9
        }
      ],
      "source": [
        "df.columns"
      ]
    },
    {
      "cell_type": "code",
      "execution_count": null,
      "metadata": {
        "colab": {
          "base_uri": "https://localhost:8080/"
        },
        "id": "EfLm2RevjH2U",
        "outputId": "d4e46fa4-e258-4464-f503-9a09cfe41411"
      },
      "outputs": [
        {
          "output_type": "execute_result",
          "data": {
            "text/plain": [
              "(Inter224    1658\n",
              " Inter217    1655\n",
              " Inter223    1654\n",
              " Inter219    1650\n",
              " Inter221    1650\n",
              " Inter222    1649\n",
              " Inter229    1648\n",
              " Inter227    1647\n",
              " Inter218    1645\n",
              " inter230    1644\n",
              " Inter220    1644\n",
              " Inter225    1643\n",
              " Inter226    1640\n",
              " Inter228    1639\n",
              " Name: Ad Type, dtype: int64, Video      11552\n",
              " Display    11514\n",
              " Name: Format, dtype: int64)"
            ]
          },
          "metadata": {},
          "execution_count": 10
        }
      ],
      "source": [
        "df['Ad Type'].value_counts(),df['Format'].value_counts()"
      ]
    },
    {
      "cell_type": "code",
      "execution_count": null,
      "metadata": {
        "colab": {
          "base_uri": "https://localhost:8080/"
        },
        "id": "XB_y4vnPvULs",
        "outputId": "841b06dc-6607-49d1-8089-4730959e2582"
      },
      "outputs": [
        {
          "output_type": "execute_result",
          "data": {
            "text/plain": [
              "Mobile     14806\n",
              "Desktop     8260\n",
              "Name: Device Type, dtype: int64"
            ]
          },
          "metadata": {},
          "execution_count": 11
        }
      ],
      "source": [
        "df['Device Type'].value_counts()"
      ]
    },
    {
      "cell_type": "code",
      "execution_count": null,
      "metadata": {
        "colab": {
          "base_uri": "https://localhost:8080/"
        },
        "id": "ACLfXggevG4d",
        "outputId": "ea20ff8c-6b34-4cf1-9c42-af7287e9be60"
      },
      "outputs": [
        {
          "output_type": "execute_result",
          "data": {
            "text/plain": [
              "Video    9873\n",
              "Web      8251\n",
              "App      4942\n",
              "Name: Platform, dtype: int64"
            ]
          },
          "metadata": {},
          "execution_count": 12
        }
      ],
      "source": [
        "df.Platform.value_counts()"
      ]
    },
    {
      "cell_type": "code",
      "execution_count": null,
      "metadata": {
        "colab": {
          "base_uri": "https://localhost:8080/"
        },
        "id": "5ir22vpTvnnc",
        "outputId": "bc2f6c7a-d658-43c9-f7f4-f5f24e35ead2"
      },
      "outputs": [
        {
          "output_type": "execute_result",
          "data": {
            "text/plain": [
              "Video      11552\n",
              "Display    11514\n",
              "Name: Format, dtype: int64"
            ]
          },
          "metadata": {},
          "execution_count": 13
        }
      ],
      "source": [
        "df.Format.value_counts()"
      ]
    },
    {
      "cell_type": "code",
      "execution_count": null,
      "metadata": {
        "colab": {
          "base_uri": "https://localhost:8080/",
          "height": 457
        },
        "id": "_qq7imOJjZoH",
        "outputId": "55019de6-22a8-492a-90fb-ec3128a22cc2"
      },
      "outputs": [
        {
          "output_type": "execute_result",
          "data": {
            "text/plain": [
              "                         count          mean           std         min  \\\n",
              "Ad - Length            23066.0  3.851631e+02  2.336514e+02    120.0000   \n",
              "Ad- Width              23066.0  3.378960e+02  2.030929e+02     70.0000   \n",
              "Ad Size                23066.0  9.667447e+04  6.153833e+04  33600.0000   \n",
              "Available_Impressions  23066.0  2.432044e+06  4.742888e+06      1.0000   \n",
              "Matched_Queries        23066.0  1.295099e+06  2.512970e+06      1.0000   \n",
              "Impressions            23066.0  1.241520e+06  2.429400e+06      1.0000   \n",
              "Clicks                 23066.0  1.067852e+04  1.735341e+04      1.0000   \n",
              "Spend                  23066.0  2.706626e+03  4.067927e+03      0.0000   \n",
              "Fee                    23066.0  3.351231e-01  3.196322e-02      0.2100   \n",
              "Revenue                23066.0  1.924252e+03  3.105238e+03      0.0000   \n",
              "CTR                    18330.0  7.366054e-02  7.515992e-02      0.0001   \n",
              "CPM                    18330.0  7.672045e+00  6.481391e+00      0.0000   \n",
              "CPC                    18330.0  3.510606e-01  3.433338e-01      0.0000   \n",
              "\n",
              "                                25%           50%           75%          max  \n",
              "Ad - Length              120.000000     300.00000  7.200000e+02       728.00  \n",
              "Ad- Width                250.000000     300.00000  6.000000e+02       600.00  \n",
              "Ad Size                72000.000000   72000.00000  8.400000e+04    216000.00  \n",
              "Available_Impressions  33672.250000  483771.00000  2.527712e+06  27592861.00  \n",
              "Matched_Queries        18282.500000  258087.50000  1.180700e+06  14702025.00  \n",
              "Impressions             7990.500000  225290.00000  1.112428e+06  14194774.00  \n",
              "Clicks                   710.000000    4425.00000  1.279375e+04    143049.00  \n",
              "Spend                     85.180000    1425.12500  3.121400e+03     26931.87  \n",
              "Fee                        0.330000       0.35000  3.500000e-01         0.35  \n",
              "Revenue                   55.365375     926.33500  2.091338e+03     21276.18  \n",
              "CTR                        0.002600       0.08255  1.300000e-01         1.00  \n",
              "CPM                        1.710000       7.66000  1.251000e+01        81.56  \n",
              "CPC                        0.090000       0.16000  5.700000e-01         7.26  "
            ],
            "text/html": [
              "\n",
              "  <div id=\"df-6ca54ac3-36c7-4994-aca5-1a38dbdc313b\">\n",
              "    <div class=\"colab-df-container\">\n",
              "      <div>\n",
              "<style scoped>\n",
              "    .dataframe tbody tr th:only-of-type {\n",
              "        vertical-align: middle;\n",
              "    }\n",
              "\n",
              "    .dataframe tbody tr th {\n",
              "        vertical-align: top;\n",
              "    }\n",
              "\n",
              "    .dataframe thead th {\n",
              "        text-align: right;\n",
              "    }\n",
              "</style>\n",
              "<table border=\"1\" class=\"dataframe\">\n",
              "  <thead>\n",
              "    <tr style=\"text-align: right;\">\n",
              "      <th></th>\n",
              "      <th>count</th>\n",
              "      <th>mean</th>\n",
              "      <th>std</th>\n",
              "      <th>min</th>\n",
              "      <th>25%</th>\n",
              "      <th>50%</th>\n",
              "      <th>75%</th>\n",
              "      <th>max</th>\n",
              "    </tr>\n",
              "  </thead>\n",
              "  <tbody>\n",
              "    <tr>\n",
              "      <th>Ad - Length</th>\n",
              "      <td>23066.0</td>\n",
              "      <td>3.851631e+02</td>\n",
              "      <td>2.336514e+02</td>\n",
              "      <td>120.0000</td>\n",
              "      <td>120.000000</td>\n",
              "      <td>300.00000</td>\n",
              "      <td>7.200000e+02</td>\n",
              "      <td>728.00</td>\n",
              "    </tr>\n",
              "    <tr>\n",
              "      <th>Ad- Width</th>\n",
              "      <td>23066.0</td>\n",
              "      <td>3.378960e+02</td>\n",
              "      <td>2.030929e+02</td>\n",
              "      <td>70.0000</td>\n",
              "      <td>250.000000</td>\n",
              "      <td>300.00000</td>\n",
              "      <td>6.000000e+02</td>\n",
              "      <td>600.00</td>\n",
              "    </tr>\n",
              "    <tr>\n",
              "      <th>Ad Size</th>\n",
              "      <td>23066.0</td>\n",
              "      <td>9.667447e+04</td>\n",
              "      <td>6.153833e+04</td>\n",
              "      <td>33600.0000</td>\n",
              "      <td>72000.000000</td>\n",
              "      <td>72000.00000</td>\n",
              "      <td>8.400000e+04</td>\n",
              "      <td>216000.00</td>\n",
              "    </tr>\n",
              "    <tr>\n",
              "      <th>Available_Impressions</th>\n",
              "      <td>23066.0</td>\n",
              "      <td>2.432044e+06</td>\n",
              "      <td>4.742888e+06</td>\n",
              "      <td>1.0000</td>\n",
              "      <td>33672.250000</td>\n",
              "      <td>483771.00000</td>\n",
              "      <td>2.527712e+06</td>\n",
              "      <td>27592861.00</td>\n",
              "    </tr>\n",
              "    <tr>\n",
              "      <th>Matched_Queries</th>\n",
              "      <td>23066.0</td>\n",
              "      <td>1.295099e+06</td>\n",
              "      <td>2.512970e+06</td>\n",
              "      <td>1.0000</td>\n",
              "      <td>18282.500000</td>\n",
              "      <td>258087.50000</td>\n",
              "      <td>1.180700e+06</td>\n",
              "      <td>14702025.00</td>\n",
              "    </tr>\n",
              "    <tr>\n",
              "      <th>Impressions</th>\n",
              "      <td>23066.0</td>\n",
              "      <td>1.241520e+06</td>\n",
              "      <td>2.429400e+06</td>\n",
              "      <td>1.0000</td>\n",
              "      <td>7990.500000</td>\n",
              "      <td>225290.00000</td>\n",
              "      <td>1.112428e+06</td>\n",
              "      <td>14194774.00</td>\n",
              "    </tr>\n",
              "    <tr>\n",
              "      <th>Clicks</th>\n",
              "      <td>23066.0</td>\n",
              "      <td>1.067852e+04</td>\n",
              "      <td>1.735341e+04</td>\n",
              "      <td>1.0000</td>\n",
              "      <td>710.000000</td>\n",
              "      <td>4425.00000</td>\n",
              "      <td>1.279375e+04</td>\n",
              "      <td>143049.00</td>\n",
              "    </tr>\n",
              "    <tr>\n",
              "      <th>Spend</th>\n",
              "      <td>23066.0</td>\n",
              "      <td>2.706626e+03</td>\n",
              "      <td>4.067927e+03</td>\n",
              "      <td>0.0000</td>\n",
              "      <td>85.180000</td>\n",
              "      <td>1425.12500</td>\n",
              "      <td>3.121400e+03</td>\n",
              "      <td>26931.87</td>\n",
              "    </tr>\n",
              "    <tr>\n",
              "      <th>Fee</th>\n",
              "      <td>23066.0</td>\n",
              "      <td>3.351231e-01</td>\n",
              "      <td>3.196322e-02</td>\n",
              "      <td>0.2100</td>\n",
              "      <td>0.330000</td>\n",
              "      <td>0.35000</td>\n",
              "      <td>3.500000e-01</td>\n",
              "      <td>0.35</td>\n",
              "    </tr>\n",
              "    <tr>\n",
              "      <th>Revenue</th>\n",
              "      <td>23066.0</td>\n",
              "      <td>1.924252e+03</td>\n",
              "      <td>3.105238e+03</td>\n",
              "      <td>0.0000</td>\n",
              "      <td>55.365375</td>\n",
              "      <td>926.33500</td>\n",
              "      <td>2.091338e+03</td>\n",
              "      <td>21276.18</td>\n",
              "    </tr>\n",
              "    <tr>\n",
              "      <th>CTR</th>\n",
              "      <td>18330.0</td>\n",
              "      <td>7.366054e-02</td>\n",
              "      <td>7.515992e-02</td>\n",
              "      <td>0.0001</td>\n",
              "      <td>0.002600</td>\n",
              "      <td>0.08255</td>\n",
              "      <td>1.300000e-01</td>\n",
              "      <td>1.00</td>\n",
              "    </tr>\n",
              "    <tr>\n",
              "      <th>CPM</th>\n",
              "      <td>18330.0</td>\n",
              "      <td>7.672045e+00</td>\n",
              "      <td>6.481391e+00</td>\n",
              "      <td>0.0000</td>\n",
              "      <td>1.710000</td>\n",
              "      <td>7.66000</td>\n",
              "      <td>1.251000e+01</td>\n",
              "      <td>81.56</td>\n",
              "    </tr>\n",
              "    <tr>\n",
              "      <th>CPC</th>\n",
              "      <td>18330.0</td>\n",
              "      <td>3.510606e-01</td>\n",
              "      <td>3.433338e-01</td>\n",
              "      <td>0.0000</td>\n",
              "      <td>0.090000</td>\n",
              "      <td>0.16000</td>\n",
              "      <td>5.700000e-01</td>\n",
              "      <td>7.26</td>\n",
              "    </tr>\n",
              "  </tbody>\n",
              "</table>\n",
              "</div>\n",
              "      <button class=\"colab-df-convert\" onclick=\"convertToInteractive('df-6ca54ac3-36c7-4994-aca5-1a38dbdc313b')\"\n",
              "              title=\"Convert this dataframe to an interactive table.\"\n",
              "              style=\"display:none;\">\n",
              "        \n",
              "  <svg xmlns=\"http://www.w3.org/2000/svg\" height=\"24px\"viewBox=\"0 0 24 24\"\n",
              "       width=\"24px\">\n",
              "    <path d=\"M0 0h24v24H0V0z\" fill=\"none\"/>\n",
              "    <path d=\"M18.56 5.44l.94 2.06.94-2.06 2.06-.94-2.06-.94-.94-2.06-.94 2.06-2.06.94zm-11 1L8.5 8.5l.94-2.06 2.06-.94-2.06-.94L8.5 2.5l-.94 2.06-2.06.94zm10 10l.94 2.06.94-2.06 2.06-.94-2.06-.94-.94-2.06-.94 2.06-2.06.94z\"/><path d=\"M17.41 7.96l-1.37-1.37c-.4-.4-.92-.59-1.43-.59-.52 0-1.04.2-1.43.59L10.3 9.45l-7.72 7.72c-.78.78-.78 2.05 0 2.83L4 21.41c.39.39.9.59 1.41.59.51 0 1.02-.2 1.41-.59l7.78-7.78 2.81-2.81c.8-.78.8-2.07 0-2.86zM5.41 20L4 18.59l7.72-7.72 1.47 1.35L5.41 20z\"/>\n",
              "  </svg>\n",
              "      </button>\n",
              "      \n",
              "  <style>\n",
              "    .colab-df-container {\n",
              "      display:flex;\n",
              "      flex-wrap:wrap;\n",
              "      gap: 12px;\n",
              "    }\n",
              "\n",
              "    .colab-df-convert {\n",
              "      background-color: #E8F0FE;\n",
              "      border: none;\n",
              "      border-radius: 50%;\n",
              "      cursor: pointer;\n",
              "      display: none;\n",
              "      fill: #1967D2;\n",
              "      height: 32px;\n",
              "      padding: 0 0 0 0;\n",
              "      width: 32px;\n",
              "    }\n",
              "\n",
              "    .colab-df-convert:hover {\n",
              "      background-color: #E2EBFA;\n",
              "      box-shadow: 0px 1px 2px rgba(60, 64, 67, 0.3), 0px 1px 3px 1px rgba(60, 64, 67, 0.15);\n",
              "      fill: #174EA6;\n",
              "    }\n",
              "\n",
              "    [theme=dark] .colab-df-convert {\n",
              "      background-color: #3B4455;\n",
              "      fill: #D2E3FC;\n",
              "    }\n",
              "\n",
              "    [theme=dark] .colab-df-convert:hover {\n",
              "      background-color: #434B5C;\n",
              "      box-shadow: 0px 1px 3px 1px rgba(0, 0, 0, 0.15);\n",
              "      filter: drop-shadow(0px 1px 2px rgba(0, 0, 0, 0.3));\n",
              "      fill: #FFFFFF;\n",
              "    }\n",
              "  </style>\n",
              "\n",
              "      <script>\n",
              "        const buttonEl =\n",
              "          document.querySelector('#df-6ca54ac3-36c7-4994-aca5-1a38dbdc313b button.colab-df-convert');\n",
              "        buttonEl.style.display =\n",
              "          google.colab.kernel.accessAllowed ? 'block' : 'none';\n",
              "\n",
              "        async function convertToInteractive(key) {\n",
              "          const element = document.querySelector('#df-6ca54ac3-36c7-4994-aca5-1a38dbdc313b');\n",
              "          const dataTable =\n",
              "            await google.colab.kernel.invokeFunction('convertToInteractive',\n",
              "                                                     [key], {});\n",
              "          if (!dataTable) return;\n",
              "\n",
              "          const docLinkHtml = 'Like what you see? Visit the ' +\n",
              "            '<a target=\"_blank\" href=https://colab.research.google.com/notebooks/data_table.ipynb>data table notebook</a>'\n",
              "            + ' to learn more about interactive tables.';\n",
              "          element.innerHTML = '';\n",
              "          dataTable['output_type'] = 'display_data';\n",
              "          await google.colab.output.renderOutput(dataTable, element);\n",
              "          const docLink = document.createElement('div');\n",
              "          docLink.innerHTML = docLinkHtml;\n",
              "          element.appendChild(docLink);\n",
              "        }\n",
              "      </script>\n",
              "    </div>\n",
              "  </div>\n",
              "  "
            ]
          },
          "metadata": {},
          "execution_count": 14
        }
      ],
      "source": [
        "df.describe().T"
      ]
    },
    {
      "cell_type": "code",
      "execution_count": null,
      "metadata": {
        "colab": {
          "base_uri": "https://localhost:8080/"
        },
        "id": "UEL1kP9-o2n7",
        "outputId": "95418cc0-d267-4d5f-8da1-6c9bc31dd016"
      },
      "outputs": [
        {
          "output_type": "execute_result",
          "data": {
            "text/plain": [
              "Timestamp                   0\n",
              "InventoryType               0\n",
              "Ad - Length                 0\n",
              "Ad- Width                   0\n",
              "Ad Size                     0\n",
              "Ad Type                     0\n",
              "Platform                    0\n",
              "Device Type                 0\n",
              "Format                      0\n",
              "Available_Impressions       0\n",
              "Matched_Queries             0\n",
              "Impressions                 0\n",
              "Clicks                      0\n",
              "Spend                       0\n",
              "Fee                         0\n",
              "Revenue                     0\n",
              "CTR                      4736\n",
              "CPM                      4736\n",
              "CPC                      4736\n",
              "dtype: int64"
            ]
          },
          "metadata": {},
          "execution_count": 15
        }
      ],
      "source": [
        "df.isnull().sum()"
      ]
    },
    {
      "cell_type": "code",
      "execution_count": null,
      "metadata": {
        "colab": {
          "base_uri": "https://localhost:8080/"
        },
        "id": "rC9d4N4y2TXD",
        "outputId": "c119376e-92d8-4bbb-d4fe-0d413d949bef"
      },
      "outputs": [
        {
          "output_type": "execute_result",
          "data": {
            "text/plain": [
              "0"
            ]
          },
          "metadata": {},
          "execution_count": 16
        }
      ],
      "source": [
        "df.duplicated().sum()"
      ]
    },
    {
      "cell_type": "code",
      "execution_count": null,
      "metadata": {
        "id": "ZvhCs7Gu4P9I"
      },
      "outputs": [],
      "source": [
        "def CTR_recalculated(x):\n",
        "\n",
        "    clicks=df.Clicks\n",
        "    impressions=df.Impressions\n",
        "    x = (clicks/impressions)*100\n",
        "    return x"
      ]
    },
    {
      "cell_type": "code",
      "execution_count": null,
      "metadata": {
        "id": "w3ULRGOx6a63"
      },
      "outputs": [],
      "source": [
        "def CPM_recalculated(x):\n",
        "\n",
        "    spend=df.Spend\n",
        "    impressions=df.Impressions\n",
        "    y = (spend/impressions)*1000\n",
        "    return y"
      ]
    },
    {
      "cell_type": "code",
      "execution_count": null,
      "metadata": {
        "id": "s0obumbW6thN"
      },
      "outputs": [],
      "source": [
        "\n",
        "def CPC_recalculated(x):\n",
        "\n",
        "    spend=df.Spend\n",
        "    clicks=df.Clicks\n",
        "    z = (spend/clicks)\n",
        "    return z"
      ]
    },
    {
      "cell_type": "code",
      "execution_count": null,
      "metadata": {
        "id": "mKyKRwBl4bm6"
      },
      "outputs": [],
      "source": [
        "df['CTR']= df[['CTR']].apply(lambda x: CTR_recalculated(x))"
      ]
    },
    {
      "cell_type": "code",
      "execution_count": null,
      "metadata": {
        "id": "64nqvLN_6IGl"
      },
      "outputs": [],
      "source": [
        "df['CPM']= df[['CPM']].apply(lambda x: CPM_recalculated(x))"
      ]
    },
    {
      "cell_type": "code",
      "execution_count": null,
      "metadata": {
        "id": "b_clxoFm7D3z"
      },
      "outputs": [],
      "source": [
        "df['CPC']= df[['CPC']].apply(lambda x: CPC_recalculated(x))"
      ]
    },
    {
      "cell_type": "code",
      "execution_count": null,
      "metadata": {
        "colab": {
          "base_uri": "https://localhost:8080/"
        },
        "id": "iEdzdxfO5krT",
        "outputId": "eda7513d-9516-43e8-e9c7-786560d69cd5"
      },
      "outputs": [
        {
          "output_type": "execute_result",
          "data": {
            "text/plain": [
              "Timestamp                0\n",
              "InventoryType            0\n",
              "Ad - Length              0\n",
              "Ad- Width                0\n",
              "Ad Size                  0\n",
              "Ad Type                  0\n",
              "Platform                 0\n",
              "Device Type              0\n",
              "Format                   0\n",
              "Available_Impressions    0\n",
              "Matched_Queries          0\n",
              "Impressions              0\n",
              "Clicks                   0\n",
              "Spend                    0\n",
              "Fee                      0\n",
              "Revenue                  0\n",
              "CTR                      0\n",
              "CPM                      0\n",
              "CPC                      0\n",
              "dtype: int64"
            ]
          },
          "metadata": {},
          "execution_count": 23
        }
      ],
      "source": [
        "df.isnull().sum()"
      ]
    },
    {
      "cell_type": "code",
      "execution_count": null,
      "metadata": {
        "colab": {
          "base_uri": "https://localhost:8080/"
        },
        "id": "5eXq900Y5wkV",
        "outputId": "feffee4d-91e7-4cc7-eb60-d21fe0999f5e"
      },
      "outputs": [
        {
          "output_type": "execute_result",
          "data": {
            "text/plain": [
              "0.02617801047120419"
            ]
          },
          "metadata": {},
          "execution_count": 24
        }
      ],
      "source": [
        "df._get_value(102,'CPM')"
      ]
    },
    {
      "cell_type": "code",
      "execution_count": null,
      "metadata": {
        "colab": {
          "base_uri": "https://localhost:8080/"
        },
        "id": "UF_0uRx177Ev",
        "outputId": "d267d354-6f50-4b9e-c60c-1d802274af96"
      },
      "outputs": [
        {
          "output_type": "execute_result",
          "data": {
            "text/plain": [
              "Timestamp                2020-9-16-11\n",
              "InventoryType                 Format1\n",
              "Ad - Length                       300\n",
              "Ad- Width                         250\n",
              "Ad Size                         75000\n",
              "Ad Type                      Inter226\n",
              "Platform                          Web\n",
              "Device Type                    Mobile\n",
              "Format                        Display\n",
              "Available_Impressions            1173\n",
              "Matched_Queries                   254\n",
              "Impressions                       253\n",
              "Clicks                              1\n",
              "Spend                            0.01\n",
              "Fee                              0.35\n",
              "Revenue                          0.01\n",
              "CTR                          0.395257\n",
              "CPM                          0.039526\n",
              "CPC                              0.01\n",
              "Name: 103, dtype: object"
            ]
          },
          "metadata": {},
          "execution_count": 25
        }
      ],
      "source": [
        "df.iloc[103]"
      ]
    },
    {
      "cell_type": "code",
      "execution_count": null,
      "metadata": {
        "colab": {
          "base_uri": "https://localhost:8080/"
        },
        "id": "YfPhkiSjASKH",
        "outputId": "21efbf23-d8d3-473d-efdd-51db5b38138b"
      },
      "outputs": [
        {
          "output_type": "execute_result",
          "data": {
            "text/plain": [
              "13"
            ]
          },
          "metadata": {},
          "execution_count": 26
        }
      ],
      "source": [
        "df_num = df.select_dtypes(include = ['float64', 'int64'])\n",
        "lstnumericcolumns = list(df_num.columns.values)\n",
        "len(lstnumericcolumns)"
      ]
    },
    {
      "cell_type": "code",
      "execution_count": null,
      "metadata": {
        "id": "v-CyJdJOEd8J"
      },
      "outputs": [],
      "source": [
        "def univariateAnalysis_numeric(column,nbins):\n",
        "    print(\"Description of \" + column)\n",
        "    print(\"----------------------------------------------------------------------------\")\n",
        "    print(df[column].describe(),end=' ')\n",
        "\n",
        "\n",
        "    plt.figure()\n",
        "    print(\"Distribution of \" + column)\n",
        "    print(\"----------------------------------------------------------------------------\")\n",
        "    sns.distplot(df[column], kde=False, color='g');\n",
        "    plt.show()\n",
        "\n",
        "    plt.figure()\n",
        "    print(\"BoxPlot of \" + column)\n",
        "    print(\"----------------------------------------------------------------------------\")\n",
        "    ax = sns.boxplot(x=df[column])\n",
        "    plt.show()"
      ]
    },
    {
      "cell_type": "code",
      "execution_count": null,
      "metadata": {
        "colab": {
          "base_uri": "https://localhost:8080/",
          "height": 1000
        },
        "id": "As6rewg6GMCO",
        "outputId": "75fe8179-30b9-4a88-ed86-708ce2afe10f"
      },
      "outputs": [
        {
          "output_type": "stream",
          "name": "stdout",
          "text": [
            "Description of Ad - Length\n",
            "----------------------------------------------------------------------------\n",
            "count    23066.000000\n",
            "mean       385.163097\n",
            "std        233.651434\n",
            "min        120.000000\n",
            "25%        120.000000\n",
            "50%        300.000000\n",
            "75%        720.000000\n",
            "max        728.000000\n",
            "Name: Ad - Length, dtype: float64 Distribution of Ad - Length\n",
            "----------------------------------------------------------------------------\n"
          ]
        },
        {
          "output_type": "stream",
          "name": "stderr",
          "text": [
            "/usr/local/lib/python3.8/dist-packages/seaborn/distributions.py:2619: FutureWarning: `distplot` is a deprecated function and will be removed in a future version. Please adapt your code to use either `displot` (a figure-level function with similar flexibility) or `histplot` (an axes-level function for histograms).\n",
            "  warnings.warn(msg, FutureWarning)\n"
          ]
        },
        {
          "output_type": "display_data",
          "data": {
            "text/plain": [
              "<Figure size 432x288 with 1 Axes>"
            ],
            "image/png": "[encoded data removed]"
          },
          "metadata": {
            "needs_background": "light"
          }
        },
        {
          "output_type": "stream",
          "name": "stdout",
          "text": [
            "BoxPlot of Ad - Length\n",
            "----------------------------------------------------------------------------\n"
          ]
        },
        {
          "output_type": "display_data",
          "data": {
            "text/plain": [
              "<Figure size 432x288 with 1 Axes>"
            ],
            "image/png": "[encoded data removed]"
          },
          "metadata": {
            "needs_background": "light"
          }
        },
        {
          "output_type": "stream",
          "name": "stdout",
          "text": [
            "Description of Ad- Width\n",
            "----------------------------------------------------------------------------\n",
            "count    23066.000000\n",
            "mean       337.896037\n",
            "std        203.092885\n",
            "min         70.000000\n",
            "25%        250.000000\n",
            "50%        300.000000\n",
            "75%        600.000000\n",
            "max        600.000000\n",
            "Name: Ad- Width, dtype: float64 Distribution of Ad- Width\n",
            "----------------------------------------------------------------------------\n"
          ]
        },
        {
          "output_type": "stream",
          "name": "stderr",
          "text": [
            "/usr/local/lib/python3.8/dist-packages/seaborn/distributions.py:2619: FutureWarning: `distplot` is a deprecated function and will be removed in a future version. Please adapt your code to use either `displot` (a figure-level function with similar flexibility) or `histplot` (an axes-level function for histograms).\n",
            "  warnings.warn(msg, FutureWarning)\n"
          ]
        },
        {
          "output_type": "display_data",
          "data": {
            "text/plain": [
              "<Figure size 432x288 with 1 Axes>"
            ],
            "image/png": "[encoded data removed]"
          },
          "metadata": {
            "needs_background": "light"
          }
        },
        {
          "output_type": "stream",
          "name": "stdout",
          "text": [
            "BoxPlot of Ad- Width\n",
            "----------------------------------------------------------------------------\n"
          ]
        },
        {
          "output_type": "display_data",
          "data": {
            "text/plain": [
              "<Figure size 432x288 with 1 Axes>"
            ],
            "image/png": "[encoded data removed]"
          },
          "metadata": {
            "needs_background": "light"
          }
        },
        {
          "output_type": "stream",
          "name": "stdout",
          "text": [
            "Description of Ad Size\n",
            "----------------------------------------------------------------------------\n",
            "count     23066.000000\n",
            "mean      96674.468048\n",
            "std       61538.329557\n",
            "min       33600.000000\n",
            "25%       72000.000000\n",
            "50%       72000.000000\n",
            "75%       84000.000000\n",
            "max      216000.000000\n",
            "Name: Ad Size, dtype: float64 Distribution of Ad Size\n",
            "----------------------------------------------------------------------------\n"
          ]
        },
        {
          "output_type": "stream",
          "name": "stderr",
          "text": [
            "/usr/local/lib/python3.8/dist-packages/seaborn/distributions.py:2619: FutureWarning: `distplot` is a deprecated function and will be removed in a future version. Please adapt your code to use either `displot` (a figure-level function with similar flexibility) or `histplot` (an axes-level function for histograms).\n",
            "  warnings.warn(msg, FutureWarning)\n"
          ]
        },
        {
          "output_type": "display_data",
          "data": {
            "text/plain": [
              "<Figure size 432x288 with 1 Axes>"
            ],
            "image/png": "[encoded data removed]"
          },
          "metadata": {
            "needs_background": "light"
          }
        },
        {
          "output_type": "stream",
          "name": "stdout",
          "text": [
            "BoxPlot of Ad Size\n",
            "----------------------------------------------------------------------------\n"
          ]
        },
        {
          "output_type": "display_data",
          "data": {
            "text/plain": [
              "<Figure size 432x288 with 1 Axes>"
            ],
            "image/png": "[encoded data removed]"
          },
          "metadata": {
            "needs_background": "light"
          }
        },
        {
          "output_type": "stream",
          "name": "stdout",
          "text": [
            "Description of Available_Impressions\n",
            "----------------------------------------------------------------------------\n",
            "count    2.306600e+04\n",
            "mean     2.432044e+06\n",
            "std      4.742888e+06\n",
            "min      1.000000e+00\n",
            "25%      3.367225e+04\n",
            "50%      4.837710e+05\n",
            "75%      2.527712e+06\n",
            "max      2.759286e+07\n",
            "Name: Available_Impressions, dtype: float64 Distribution of Available_Impressions\n",
            "----------------------------------------------------------------------------\n"
          ]
        },
        {
          "output_type": "stream",
          "name": "stderr",
          "text": [
            "/usr/local/lib/python3.8/dist-packages/seaborn/distributions.py:2619: FutureWarning: `distplot` is a deprecated function and will be removed in a future version. Please adapt your code to use either `displot` (a figure-level function with similar flexibility) or `histplot` (an axes-level function for histograms).\n",
            "  warnings.warn(msg, FutureWarning)\n"
          ]
        },
        {
          "output_type": "display_data",
          "data": {
            "text/plain": [
              "<Figure size 432x288 with 1 Axes>"
            ],
            "image/png": "[encoded data removed]"
          },
          "metadata": {
            "needs_background": "light"
          }
        },
        {
          "output_type": "stream",
          "name": "stdout",
          "text": [
            "BoxPlot of Available_Impressions\n",
            "----------------------------------------------------------------------------\n"
          ]
        },
        {
          "output_type": "display_data",
          "data": {
            "text/plain": [
              "<Figure size 432x288 with 1 Axes>"
            ],
            "image/png": "[encoded data removed]"
          },
          "metadata": {
            "needs_background": "light"
          }
        },
        {
          "output_type": "stream",
          "name": "stdout",
          "text": [
            "Description of Matched_Queries\n",
            "----------------------------------------------------------------------------\n",
            "count    2.306600e+04\n",
            "mean     1.295099e+06\n",
            "std      2.512970e+06\n",
            "min      1.000000e+00\n",
            "25%      1.828250e+04\n",
            "50%      2.580875e+05\n",
            "75%      1.180700e+06\n",
            "max      1.470202e+07\n",
            "Name: Matched_Queries, dtype: float64 Distribution of Matched_Queries\n",
            "----------------------------------------------------------------------------\n"
          ]
        },
        {
          "output_type": "stream",
          "name": "stderr",
          "text": [
            "/usr/local/lib/python3.8/dist-packages/seaborn/distributions.py:2619: FutureWarning: `distplot` is a deprecated function and will be removed in a future version. Please adapt your code to use either `displot` (a figure-level function with similar flexibility) or `histplot` (an axes-level function for histograms).\n",
            "  warnings.warn(msg, FutureWarning)\n"
          ]
        },
        {
          "output_type": "display_data",
          "data": {
            "text/plain": [
              "<Figure size 432x288 with 1 Axes>"
            ],
            "image/png": "[encoded data removed]"
          },
          "metadata": {
            "needs_background": "light"
          }
        },
        {
          "output_type": "stream",
          "name": "stdout",
          "text": [
            "BoxPlot of Matched_Queries\n",
            "----------------------------------------------------------------------------\n"
          ]
        },
        {
          "output_type": "display_data",
          "data": {
            "text/plain": [
              "<Figure size 432x288 with 1 Axes>"
            ],
            "image/png": "[encoded data removed]"
          },
          "metadata": {
            "needs_background": "light"
          }
        },
        {
          "output_type": "stream",
          "name": "stdout",
          "text": [
            "Description of Impressions\n",
            "----------------------------------------------------------------------------\n",
            "count    2.306600e+04\n",
            "mean     1.241520e+06\n",
            "std      2.429400e+06\n",
            "min      1.000000e+00\n",
            "25%      7.990500e+03\n",
            "50%      2.252900e+05\n",
            "75%      1.112428e+06\n",
            "max      1.419477e+07\n",
            "Name: Impressions, dtype: float64 Distribution of Impressions\n",
            "----------------------------------------------------------------------------\n"
          ]
        },
        {
          "output_type": "stream",
          "name": "stderr",
          "text": [
            "/usr/local/lib/python3.8/dist-packages/seaborn/distributions.py:2619: FutureWarning: `distplot` is a deprecated function and will be removed in a future version. Please adapt your code to use either `displot` (a figure-level function with similar flexibility) or `histplot` (an axes-level function for histograms).\n",
            "  warnings.warn(msg, FutureWarning)\n"
          ]
        },
        {
          "output_type": "display_data",
          "data": {
            "text/plain": [
              "<Figure size 432x288 with 1 Axes>"
            ],
            "image/png": "[encoded data removed]"
          },
          "metadata": {
            "needs_background": "light"
          }
        },
        {
          "output_type": "stream",
          "name": "stdout",
          "text": [
            "BoxPlot of Impressions\n",
            "----------------------------------------------------------------------------\n"
          ]
        },
        {
          "output_type": "display_data",
          "data": {
            "text/plain": [
              "<Figure size 432x288 with 1 Axes>"
            ],
            "image/png": "[encoded data removed]"
          },
          "metadata": {
            "needs_background": "light"
          }
        },
        {
          "output_type": "stream",
          "name": "stdout",
          "text": [
            "Description of Clicks\n",
            "----------------------------------------------------------------------------\n",
            "count     23066.000000\n",
            "mean      10678.518816\n",
            "std       17353.409363\n",
            "min           1.000000\n",
            "25%         710.000000\n",
            "50%        4425.000000\n",
            "75%       12793.750000\n",
            "max      143049.000000\n",
            "Name: Clicks, dtype: float64 Distribution of Clicks\n",
            "----------------------------------------------------------------------------\n"
          ]
        },
        {
          "output_type": "stream",
          "name": "stderr",
          "text": [
            "/usr/local/lib/python3.8/dist-packages/seaborn/distributions.py:2619: FutureWarning: `distplot` is a deprecated function and will be removed in a future version. Please adapt your code to use either `displot` (a figure-level function with similar flexibility) or `histplot` (an axes-level function for histograms).\n",
            "  warnings.warn(msg, FutureWarning)\n"
          ]
        },
        {
          "output_type": "display_data",
          "data": {
            "text/plain": [
              "<Figure size 432x288 with 1 Axes>"
            ],
            "image/png": "[encoded data removed]"
          },
          "metadata": {
            "needs_background": "light"
          }
        },
        {
          "output_type": "stream",
          "name": "stdout",
          "text": [
            "BoxPlot of Clicks\n",
            "----------------------------------------------------------------------------\n"
          ]
        },
        {
          "output_type": "display_data",
          "data": {
            "text/plain": [
              "<Figure size 432x288 with 1 Axes>"
            ],
            "image/png": "[encoded data removed]"
          },
          "metadata": {
            "needs_background": "light"
          }
        },
        {
          "output_type": "stream",
          "name": "stdout",
          "text": [
            "Description of Spend\n",
            "----------------------------------------------------------------------------\n",
            "count    23066.000000\n",
            "mean      2706.625689\n",
            "std       4067.927273\n",
            "min          0.000000\n",
            "25%         85.180000\n",
            "50%       1425.125000\n",
            "75%       3121.400000\n",
            "max      26931.870000\n",
            "Name: Spend, dtype: float64 Distribution of Spend\n",
            "----------------------------------------------------------------------------\n"
          ]
        },
        {
          "output_type": "stream",
          "name": "stderr",
          "text": [
            "/usr/local/lib/python3.8/dist-packages/seaborn/distributions.py:2619: FutureWarning: `distplot` is a deprecated function and will be removed in a future version. Please adapt your code to use either `displot` (a figure-level function with similar flexibility) or `histplot` (an axes-level function for histograms).\n",
            "  warnings.warn(msg, FutureWarning)\n"
          ]
        },
        {
          "output_type": "display_data",
          "data": {
            "text/plain": [
              "<Figure size 432x288 with 1 Axes>"
            ],
            "image/png": "[encoded data removed]"
          },
          "metadata": {
            "needs_background": "light"
          }
        },
        {
          "output_type": "stream",
          "name": "stdout",
          "text": [
            "BoxPlot of Spend\n",
            "----------------------------------------------------------------------------\n"
          ]
        },
        {
          "output_type": "display_data",
          "data": {
            "text/plain": [
              "<Figure size 432x288 with 1 Axes>"
            ],
            "image/png": "[encoded data removed]"
          },
          "metadata": {
            "needs_background": "light"
          }
        },
        {
          "output_type": "stream",
          "name": "stdout",
          "text": [
            "Description of Fee\n",
            "----------------------------------------------------------------------------\n",
            "count    23066.000000\n",
            "mean         0.335123\n",
            "std          0.031963\n",
            "min          0.210000\n",
            "25%          0.330000\n",
            "50%          0.350000\n",
            "75%          0.350000\n",
            "max          0.350000\n",
            "Name: Fee, dtype: float64 Distribution of Fee\n",
            "----------------------------------------------------------------------------\n"
          ]
        },
        {
          "output_type": "stream",
          "name": "stderr",
          "text": [
            "/usr/local/lib/python3.8/dist-packages/seaborn/distributions.py:2619: FutureWarning: `distplot` is a deprecated function and will be removed in a future version. Please adapt your code to use either `displot` (a figure-level function with similar flexibility) or `histplot` (an axes-level function for histograms).\n",
            "  warnings.warn(msg, FutureWarning)\n"
          ]
        },
        {
          "output_type": "display_data",
          "data": {
            "text/plain": [
              "<Figure size 432x288 with 1 Axes>"
            ],
            "image/png": "[encoded data removed]"
          },
          "metadata": {
            "needs_background": "light"
          }
        },
        {
          "output_type": "stream",
          "name": "stdout",
          "text": [
            "BoxPlot of Fee\n",
            "----------------------------------------------------------------------------\n"
          ]
        },
        {
          "output_type": "display_data",
          "data": {
            "text/plain": [
              "<Figure size 432x288 with 1 Axes>"
            ],
            "image/png": "[encoded data removed]"
          },
          "metadata": {
            "needs_background": "light"
          }
        },
        {
          "output_type": "stream",
          "name": "stdout",
          "text": [
            "Description of Revenue\n",
            "----------------------------------------------------------------------------\n",
            "count    23066.000000\n",
            "mean      1924.252331\n",
            "std       3105.238410\n",
            "min          0.000000\n",
            "25%         55.365375\n",
            "50%        926.335000\n",
            "75%       2091.338150\n",
            "max      21276.180000\n",
            "Name: Revenue, dtype: float64 Distribution of Revenue\n",
            "----------------------------------------------------------------------------\n"
          ]
        },
        {
          "output_type": "stream",
          "name": "stderr",
          "text": [
            "/usr/local/lib/python3.8/dist-packages/seaborn/distributions.py:2619: FutureWarning: `distplot` is a deprecated function and will be removed in a future version. Please adapt your code to use either `displot` (a figure-level function with similar flexibility) or `histplot` (an axes-level function for histograms).\n",
            "  warnings.warn(msg, FutureWarning)\n"
          ]
        },
        {
          "output_type": "display_data",
          "data": {
            "text/plain": [
              "<Figure size 432x288 with 1 Axes>"
            ],
            "image/png": "[encoded data removed]"
          },
          "metadata": {
            "needs_background": "light"
          }
        },
        {
          "output_type": "stream",
          "name": "stdout",
          "text": [
            "BoxPlot of Revenue\n",
            "----------------------------------------------------------------------------\n"
          ]
        },
        {
          "output_type": "display_data",
          "data": {
            "text/plain": [
              "<Figure size 432x288 with 1 Axes>"
            ],
            "image/png": "[encoded data removed]"
          },
          "metadata": {
            "needs_background": "light"
          }
        },
        {
          "output_type": "stream",
          "name": "stdout",
          "text": [
            "Description of CTR\n",
            "----------------------------------------------------------------------------\n",
            "count    23066.000000\n",
            "mean         8.409941\n",
            "std          9.262048\n",
            "min          0.010874\n",
            "25%          0.265107\n",
            "50%          9.391248\n",
            "75%         13.470571\n",
            "max        200.000000\n",
            "Name: CTR, dtype: float64 Distribution of CTR\n",
            "----------------------------------------------------------------------------\n"
          ]
        },
        {
          "output_type": "stream",
          "name": "stderr",
          "text": [
            "/usr/local/lib/python3.8/dist-packages/seaborn/distributions.py:2619: FutureWarning: `distplot` is a deprecated function and will be removed in a future version. Please adapt your code to use either `displot` (a figure-level function with similar flexibility) or `histplot` (an axes-level function for histograms).\n",
            "  warnings.warn(msg, FutureWarning)\n"
          ]
        },
        {
          "output_type": "display_data",
          "data": {
            "text/plain": [
              "<Figure size 432x288 with 1 Axes>"
            ],
            "image/png": "[encoded data removed]"
          },
          "metadata": {
            "needs_background": "light"
          }
        },
        {
          "output_type": "stream",
          "name": "stdout",
          "text": [
            "BoxPlot of CTR\n",
            "----------------------------------------------------------------------------\n"
          ]
        },
        {
          "output_type": "display_data",
          "data": {
            "text/plain": [
              "<Figure size 432x288 with 1 Axes>"
            ],
            "image/png": "[encoded data removed]"
          },
          "metadata": {
            "needs_background": "light"
          }
        },
        {
          "output_type": "stream",
          "name": "stdout",
          "text": [
            "Description of CPM\n",
            "----------------------------------------------------------------------------\n",
            "count    23066.000000\n",
            "mean         8.396849\n",
            "std          9.057760\n",
            "min          0.000000\n",
            "25%          1.749084\n",
            "50%          8.371566\n",
            "75%         13.042018\n",
            "max        715.000000\n",
            "Name: CPM, dtype: float64 Distribution of CPM\n",
            "----------------------------------------------------------------------------\n"
          ]
        },
        {
          "output_type": "stream",
          "name": "stderr",
          "text": [
            "/usr/local/lib/python3.8/dist-packages/seaborn/distributions.py:2619: FutureWarning: `distplot` is a deprecated function and will be removed in a future version. Please adapt your code to use either `displot` (a figure-level function with similar flexibility) or `histplot` (an axes-level function for histograms).\n",
            "  warnings.warn(msg, FutureWarning)\n"
          ]
        },
        {
          "output_type": "display_data",
          "data": {
            "text/plain": [
              "<Figure size 432x288 with 1 Axes>"
            ],
            "image/png": "[encoded data removed]"
          },
          "metadata": {
            "needs_background": "light"
          }
        },
        {
          "output_type": "stream",
          "name": "stdout",
          "text": [
            "BoxPlot of CPM\n",
            "----------------------------------------------------------------------------\n"
          ]
        },
        {
          "output_type": "display_data",
          "data": {
            "text/plain": [
              "<Figure size 432x288 with 1 Axes>"
            ],
            "image/png": "[encoded data removed]"
          },
          "metadata": {
            "needs_background": "light"
          }
        },
        {
          "output_type": "stream",
          "name": "stdout",
          "text": [
            "Description of CPC\n",
            "----------------------------------------------------------------------------\n",
            "count    23066.000000\n",
            "mean         0.336678\n",
            "std          0.341253\n",
            "min          0.000000\n",
            "25%          0.089736\n",
            "50%          0.139347\n",
            "75%          0.546242\n",
            "max          7.264000\n",
            "Name: CPC, dtype: float64 Distribution of CPC\n",
            "----------------------------------------------------------------------------\n"
          ]
        },
        {
          "output_type": "stream",
          "name": "stderr",
          "text": [
            "/usr/local/lib/python3.8/dist-packages/seaborn/distributions.py:2619: FutureWarning: `distplot` is a deprecated function and will be removed in a future version. Please adapt your code to use either `displot` (a figure-level function with similar flexibility) or `histplot` (an axes-level function for histograms).\n",
            "  warnings.warn(msg, FutureWarning)\n"
          ]
        },
        {
          "output_type": "display_data",
          "data": {
            "text/plain": [
              "<Figure size 432x288 with 1 Axes>"
            ],
            "image/png": "[encoded data removed]"
          },
          "metadata": {
            "needs_background": "light"
          }
        },
        {
          "output_type": "stream",
          "name": "stdout",
          "text": [
            "BoxPlot of CPC\n",
            "----------------------------------------------------------------------------\n"
          ]
        },
        {
          "output_type": "display_data",
          "data": {
            "text/plain": [
              "<Figure size 432x288 with 1 Axes>"
            ],
            "image/png": "[encoded data removed]"
          },
          "metadata": {
            "needs_background": "light"
          }
        }
      ],
      "source": [
        "for x in lstnumericcolumns:\n",
        "    univariateAnalysis_numeric(x,20)"
      ]
    },
    {
      "cell_type": "code",
      "execution_count": null,
      "metadata": {
        "colab": {
          "base_uri": "https://localhost:8080/",
          "height": 431
        },
        "id": "AOdrHGKDGkfg",
        "outputId": "c7dd8a4a-824a-48b3-c049-9c84a285f8bc"
      },
      "outputs": [
        {
          "output_type": "display_data",
          "data": {
            "text/plain": [
              "<Figure size 1440x360 with 1 Axes>"
            ],
            "image/png": "[encoded data removed]"
          },
          "metadata": {
            "needs_background": "light"
          }
        }
      ],
      "source": [
        "df_num.boxplot(figsize=(20,5))\n",
        "plt.xticks(rotation=90)\n",
        "plt.show()"
      ]
    },
    {
      "cell_type": "code",
      "execution_count": null,
      "metadata": {
        "colab": {
          "base_uri": "https://localhost:8080/"
        },
        "id": "gA-sSv3AJYWy",
        "outputId": "1d247d25-1add-43df-d092-9c5a4bc0ed2e"
      },
      "outputs": [
        {
          "output_type": "execute_result",
          "data": {
            "text/plain": [
              "Index(['Timestamp', 'InventoryType', 'Ad - Length', 'Ad- Width', 'Ad Size',\n",
              "       'Ad Type', 'Platform', 'Device Type', 'Format', 'Available_Impressions',\n",
              "       'Matched_Queries', 'Impressions', 'Clicks', 'Spend', 'Fee', 'Revenue',\n",
              "       'CTR', 'CPM', 'CPC'],\n",
              "      dtype='object')"
            ]
          },
          "metadata": {},
          "execution_count": 30
        }
      ],
      "source": [
        "df.columns\n"
      ]
    },
    {
      "cell_type": "code",
      "execution_count": null,
      "metadata": {
        "id": "H9SedXhUII5E"
      },
      "outputs": [],
      "source": [
        "no_outlier = ['Ad - Length','Ad- Width']"
      ]
    },
    {
      "cell_type": "code",
      "execution_count": null,
      "metadata": {
        "colab": {
          "base_uri": "https://localhost:8080/",
          "height": 367
        },
        "id": "msUE7yOjJgZt",
        "outputId": "0c7fcc6d-7292-4712-bd3c-926e761231a2"
      },
      "outputs": [
        {
          "output_type": "display_data",
          "data": {
            "text/plain": [
              "<Figure size 1440x360 with 1 Axes>"
            ],
            "image/png": "[encoded data removed]"
          },
          "metadata": {
            "needs_background": "light"
          }
        }
      ],
      "source": [
        "df_num[no_outlier].boxplot(figsize=(20,5))\n",
        "plt.xticks(rotation=90)\n",
        "plt.show()"
      ]
    },
    {
      "cell_type": "code",
      "execution_count": null,
      "metadata": {
        "id": "U7q8t-D6JjFp"
      },
      "outputs": [],
      "source": [
        "def treat_outlier(x):\n",
        "    # taking 5,25,75 percentile of column\n",
        "    q5= np.percentile(x,10)\n",
        "    q25=np.percentile(x,25)\n",
        "    q75=np.percentile(x,75)\n",
        "    dt=np.percentile(x,90)\n",
        "    #calculationg IQR range\n",
        "    IQR=q75-q25\n",
        "    #Calculating minimum threshold\n",
        "    lower_bound=q25-(1.5*IQR)\n",
        "    upper_bound=q75+(1.5*IQR)\n",
        "    #Capping outliers\n",
        "    return x.apply(lambda y: dt if y > upper_bound else y).apply(lambda y: q5 if y < lower_bound else y)"
      ]
    },
    {
      "cell_type": "code",
      "execution_count": null,
      "metadata": {
        "id": "zJhxLR-3J5Av"
      },
      "outputs": [],
      "source": [
        "outlier_list = [x for x in df_num.columns if x not in no_outlier]"
      ]
    },
    {
      "cell_type": "code",
      "execution_count": null,
      "metadata": {
        "colab": {
          "base_uri": "https://localhost:8080/"
        },
        "id": "SZ5_cyVaJ795",
        "outputId": "d71ea94f-93da-4551-c606-50f5dad202f1"
      },
      "outputs": [
        {
          "output_type": "stream",
          "name": "stderr",
          "text": [
            "<ipython-input-35-a8724f2eb622>:2: SettingWithCopyWarning: \n",
            "A value is trying to be set on a copy of a slice from a DataFrame.\n",
            "Try using .loc[row_indexer,col_indexer] = value instead\n",
            "\n",
            "See the caveats in the documentation: https://pandas.pydata.org/pandas-docs/stable/user_guide/indexing.html#returning-a-view-versus-a-copy\n",
            "  df_num[i]=treat_outlier(df_num[i])\n"
          ]
        }
      ],
      "source": [
        "for i in df_num[outlier_list]:\n",
        "    df_num[i]=treat_outlier(df_num[i])"
      ]
    },
    {
      "cell_type": "code",
      "execution_count": null,
      "metadata": {
        "id": "AW1PGnbslPWM"
      },
      "outputs": [],
      "source": []
    },
    {
      "cell_type": "code",
      "execution_count": null,
      "metadata": {
        "colab": {
          "base_uri": "https://localhost:8080/",
          "height": 431
        },
        "id": "5afY67O0KAb7",
        "outputId": "a6d03bfd-e53e-434d-91e4-2c4857754406"
      },
      "outputs": [
        {
          "output_type": "display_data",
          "data": {
            "text/plain": [
              "<Figure size 1440x360 with 1 Axes>"
            ],
            "image/png": "[encoded data removed]"
          },
          "metadata": {
            "needs_background": "light"
          }
        }
      ],
      "source": [
        "df_num.boxplot(figsize=(20,5))\n",
        "plt.xticks(rotation=90)\n",
        "plt.show()"
      ]
    },
    {
      "cell_type": "code",
      "execution_count": null,
      "metadata": {
        "colab": {
          "base_uri": "https://localhost:8080/",
          "height": 206
        },
        "id": "Lug1Sm5zKGDK",
        "outputId": "3861b591-cb35-47f4-c555-b36b4bc48c8b"
      },
      "outputs": [
        {
          "output_type": "execute_result",
          "data": {
            "text/plain": [
              "   Ad - Length  Ad- Width   Ad Size  Available_Impressions  Matched_Queries  \\\n",
              "0    -0.364496  -0.432797 -0.359227              -0.751005        -0.726531   \n",
              "1    -0.364496  -0.432797 -0.359227              -0.751017        -0.726563   \n",
              "2    -0.364496  -0.432797 -0.359227              -0.750578        -0.726506   \n",
              "3    -0.364496  -0.432797 -0.359227              -0.750716        -0.726391   \n",
              "4    -0.364496  -0.432797 -0.359227              -0.751278        -0.726598   \n",
              "\n",
              "   Impressions    Clicks     Spend       Fee   Revenue       CTR       CPM  \\\n",
              "0    -0.710672 -0.915008 -0.915611  0.500873 -0.878314 -0.983732 -1.224083   \n",
              "1    -0.710703 -0.915008 -0.915611  0.500873 -0.878314 -0.978484 -1.224083   \n",
              "2    -0.710645 -0.915008 -0.915611  0.500873 -0.878314 -0.987280 -1.224083   \n",
              "3    -0.710530 -0.915008 -0.915611  0.500873 -0.878314 -0.997408 -1.224083   \n",
              "4    -0.710738 -0.915008 -0.915611  0.500873 -0.878314 -0.970558 -1.224083   \n",
              "\n",
              "        CPC  \n",
              "0 -1.093037  \n",
              "1 -1.093037  \n",
              "2 -1.093037  \n",
              "3 -1.093037  \n",
              "4 -1.093037  "
            ],
            "text/html": [
              "\n",
              "  <div id=\"df-5ffe6770-26cb-4809-b36e-49f4643cf397\">\n",
              "    <div class=\"colab-df-container\">\n",
              "      <div>\n",
              "<style scoped>\n",
              "    .dataframe tbody tr th:only-of-type {\n",
              "        vertical-align: middle;\n",
              "    }\n",
              "\n",
              "    .dataframe tbody tr th {\n",
              "        vertical-align: top;\n",
              "    }\n",
              "\n",
              "    .dataframe thead th {\n",
              "        text-align: right;\n",
              "    }\n",
              "</style>\n",
              "<table border=\"1\" class=\"dataframe\">\n",
              "  <thead>\n",
              "    <tr style=\"text-align: right;\">\n",
              "      <th></th>\n",
              "      <th>Ad - Length</th>\n",
              "      <th>Ad- Width</th>\n",
              "      <th>Ad Size</th>\n",
              "      <th>Available_Impressions</th>\n",
              "      <th>Matched_Queries</th>\n",
              "      <th>Impressions</th>\n",
              "      <th>Clicks</th>\n",
              "      <th>Spend</th>\n",
              "      <th>Fee</th>\n",
              "      <th>Revenue</th>\n",
              "      <th>CTR</th>\n",
              "      <th>CPM</th>\n",
              "      <th>CPC</th>\n",
              "    </tr>\n",
              "  </thead>\n",
              "  <tbody>\n",
              "    <tr>\n",
              "      <th>0</th>\n",
              "      <td>-0.364496</td>\n",
              "      <td>-0.432797</td>\n",
              "      <td>-0.359227</td>\n",
              "      <td>-0.751005</td>\n",
              "      <td>-0.726531</td>\n",
              "      <td>-0.710672</td>\n",
              "      <td>-0.915008</td>\n",
              "      <td>-0.915611</td>\n",
              "      <td>0.500873</td>\n",
              "      <td>-0.878314</td>\n",
              "      <td>-0.983732</td>\n",
              "      <td>-1.224083</td>\n",
              "      <td>-1.093037</td>\n",
              "    </tr>\n",
              "    <tr>\n",
              "      <th>1</th>\n",
              "      <td>-0.364496</td>\n",
              "      <td>-0.432797</td>\n",
              "      <td>-0.359227</td>\n",
              "      <td>-0.751017</td>\n",
              "      <td>-0.726563</td>\n",
              "      <td>-0.710703</td>\n",
              "      <td>-0.915008</td>\n",
              "      <td>-0.915611</td>\n",
              "      <td>0.500873</td>\n",
              "      <td>-0.878314</td>\n",
              "      <td>-0.978484</td>\n",
              "      <td>-1.224083</td>\n",
              "      <td>-1.093037</td>\n",
              "    </tr>\n",
              "    <tr>\n",
              "      <th>2</th>\n",
              "      <td>-0.364496</td>\n",
              "      <td>-0.432797</td>\n",
              "      <td>-0.359227</td>\n",
              "      <td>-0.750578</td>\n",
              "      <td>-0.726506</td>\n",
              "      <td>-0.710645</td>\n",
              "      <td>-0.915008</td>\n",
              "      <td>-0.915611</td>\n",
              "      <td>0.500873</td>\n",
              "      <td>-0.878314</td>\n",
              "      <td>-0.987280</td>\n",
              "      <td>-1.224083</td>\n",
              "      <td>-1.093037</td>\n",
              "    </tr>\n",
              "    <tr>\n",
              "      <th>3</th>\n",
              "      <td>-0.364496</td>\n",
              "      <td>-0.432797</td>\n",
              "      <td>-0.359227</td>\n",
              "      <td>-0.750716</td>\n",
              "      <td>-0.726391</td>\n",
              "      <td>-0.710530</td>\n",
              "      <td>-0.915008</td>\n",
              "      <td>-0.915611</td>\n",
              "      <td>0.500873</td>\n",
              "      <td>-0.878314</td>\n",
              "      <td>-0.997408</td>\n",
              "      <td>-1.224083</td>\n",
              "      <td>-1.093037</td>\n",
              "    </tr>\n",
              "    <tr>\n",
              "      <th>4</th>\n",
              "      <td>-0.364496</td>\n",
              "      <td>-0.432797</td>\n",
              "      <td>-0.359227</td>\n",
              "      <td>-0.751278</td>\n",
              "      <td>-0.726598</td>\n",
              "      <td>-0.710738</td>\n",
              "      <td>-0.915008</td>\n",
              "      <td>-0.915611</td>\n",
              "      <td>0.500873</td>\n",
              "      <td>-0.878314</td>\n",
              "      <td>-0.970558</td>\n",
              "      <td>-1.224083</td>\n",
              "      <td>-1.093037</td>\n",
              "    </tr>\n",
              "  </tbody>\n",
              "</table>\n",
              "</div>\n",
              "      <button class=\"colab-df-convert\" onclick=\"convertToInteractive('df-5ffe6770-26cb-4809-b36e-49f4643cf397')\"\n",
              "              title=\"Convert this dataframe to an interactive table.\"\n",
              "              style=\"display:none;\">\n",
              "        \n",
              "  <svg xmlns=\"http://www.w3.org/2000/svg\" height=\"24px\"viewBox=\"0 0 24 24\"\n",
              "       width=\"24px\">\n",
              "    <path d=\"M0 0h24v24H0V0z\" fill=\"none\"/>\n",
              "    <path d=\"M18.56 5.44l.94 2.06.94-2.06 2.06-.94-2.06-.94-.94-2.06-.94 2.06-2.06.94zm-11 1L8.5 8.5l.94-2.06 2.06-.94-2.06-.94L8.5 2.5l-.94 2.06-2.06.94zm10 10l.94 2.06.94-2.06 2.06-.94-2.06-.94-.94-2.06-.94 2.06-2.06.94z\"/><path d=\"M17.41 7.96l-1.37-1.37c-.4-.4-.92-.59-1.43-.59-.52 0-1.04.2-1.43.59L10.3 9.45l-7.72 7.72c-.78.78-.78 2.05 0 2.83L4 21.41c.39.39.9.59 1.41.59.51 0 1.02-.2 1.41-.59l7.78-7.78 2.81-2.81c.8-.78.8-2.07 0-2.86zM5.41 20L4 18.59l7.72-7.72 1.47 1.35L5.41 20z\"/>\n",
              "  </svg>\n",
              "      </button>\n",
              "      \n",
              "  <style>\n",
              "    .colab-df-container {\n",
              "      display:flex;\n",
              "      flex-wrap:wrap;\n",
              "      gap: 12px;\n",
              "    }\n",
              "\n",
              "    .colab-df-convert {\n",
              "      background-color: #E8F0FE;\n",
              "      border: none;\n",
              "      border-radius: 50%;\n",
              "      cursor: pointer;\n",
              "      display: none;\n",
              "      fill: #1967D2;\n",
              "      height: 32px;\n",
              "      padding: 0 0 0 0;\n",
              "      width: 32px;\n",
              "    }\n",
              "\n",
              "    .colab-df-convert:hover {\n",
              "      background-color: #E2EBFA;\n",
              "      box-shadow: 0px 1px 2px rgba(60, 64, 67, 0.3), 0px 1px 3px 1px rgba(60, 64, 67, 0.15);\n",
              "      fill: #174EA6;\n",
              "    }\n",
              "\n",
              "    [theme=dark] .colab-df-convert {\n",
              "      background-color: #3B4455;\n",
              "      fill: #D2E3FC;\n",
              "    }\n",
              "\n",
              "    [theme=dark] .colab-df-convert:hover {\n",
              "      background-color: #434B5C;\n",
              "      box-shadow: 0px 1px 3px 1px rgba(0, 0, 0, 0.15);\n",
              "      filter: drop-shadow(0px 1px 2px rgba(0, 0, 0, 0.3));\n",
              "      fill: #FFFFFF;\n",
              "    }\n",
              "  </style>\n",
              "\n",
              "      <script>\n",
              "        const buttonEl =\n",
              "          document.querySelector('#df-5ffe6770-26cb-4809-b36e-49f4643cf397 button.colab-df-convert');\n",
              "        buttonEl.style.display =\n",
              "          google.colab.kernel.accessAllowed ? 'block' : 'none';\n",
              "\n",
              "        async function convertToInteractive(key) {\n",
              "          const element = document.querySelector('#df-5ffe6770-26cb-4809-b36e-49f4643cf397');\n",
              "          const dataTable =\n",
              "            await google.colab.kernel.invokeFunction('convertToInteractive',\n",
              "                                                     [key], {});\n",
              "          if (!dataTable) return;\n",
              "\n",
              "          const docLinkHtml = 'Like what you see? Visit the ' +\n",
              "            '<a target=\"_blank\" href=https://colab.research.google.com/notebooks/data_table.ipynb>data table notebook</a>'\n",
              "            + ' to learn more about interactive tables.';\n",
              "          element.innerHTML = '';\n",
              "          dataTable['output_type'] = 'display_data';\n",
              "          await google.colab.output.renderOutput(dataTable, element);\n",
              "          const docLink = document.createElement('div');\n",
              "          docLink.innerHTML = docLinkHtml;\n",
              "          element.appendChild(docLink);\n",
              "        }\n",
              "      </script>\n",
              "    </div>\n",
              "  </div>\n",
              "  "
            ]
          },
          "metadata": {},
          "execution_count": 37
        }
      ],
      "source": [
        "from scipy.stats import zscore\n",
        "df_num_scaled=df_num.apply(zscore)\n",
        "df_num_scaled.head()"
      ]
    },
    {
      "cell_type": "code",
      "execution_count": null,
      "metadata": {
        "colab": {
          "base_uri": "https://localhost:8080/",
          "height": 311
        },
        "id": "WvsoKHKaLZ5T",
        "outputId": "8ab4cd71-2d7e-4f44-f2dc-9a1a71afaf7d"
      },
      "outputs": [
        {
          "output_type": "display_data",
          "data": {
            "text/plain": [
              "<Figure size 1440x216 with 1 Axes>"
            ],
            "image/png": "[encoded data removed]"
          },
          "metadata": {
            "needs_background": "light"
          }
        }
      ],
      "source": [
        "df_num_scaled.boxplot(figsize=(20,3))\n",
        "plt.xticks(rotation=90)\n",
        "plt.show()"
      ]
    },
    {
      "cell_type": "code",
      "execution_count": null,
      "metadata": {
        "id": "x8_UuSnHLfBj"
      },
      "outputs": [],
      "source": [
        "from scipy.cluster.hierarchy import dendrogram, linkage"
      ]
    },
    {
      "cell_type": "code",
      "execution_count": null,
      "metadata": {
        "colab": {
          "base_uri": "https://localhost:8080/"
        },
        "id": "xaUL40xKNTH1",
        "outputId": "1ad06042-a2b5-4f9b-892b-94648f44e3a5"
      },
      "outputs": [
        {
          "output_type": "stream",
          "name": "stdout",
          "text": [
            "34.58887982368469\n"
          ]
        }
      ],
      "source": [
        "import time\n",
        "\n",
        "start = time.time()\n",
        "\n",
        "wardlink = linkage(df_num_scaled, method = 'ward')\n",
        "\n",
        "end = time.time()\n",
        "print(end - start)"
      ]
    },
    {
      "cell_type": "code",
      "execution_count": null,
      "metadata": {
        "colab": {
          "base_uri": "https://localhost:8080/"
        },
        "id": "H8lNcHGD3G6X",
        "outputId": "911b3eaf-f911-4386-b11e-a48b08288c7e"
      },
      "outputs": [
        {
          "output_type": "stream",
          "name": "stdout",
          "text": [
            "28.03858184814453\n"
          ]
        }
      ],
      "source": [
        "import time\n",
        "\n",
        "start = time.time()\n",
        "\n",
        "wardlink1 = linkage(df_num, method = 'ward')\n",
        "\n",
        "end = time.time()\n",
        "print(end - start)"
      ]
    },
    {
      "cell_type": "code",
      "execution_count": null,
      "metadata": {
        "colab": {
          "base_uri": "https://localhost:8080/"
        },
        "id": "42FY3hh3Fu6R",
        "outputId": "2f84d252-74d1-427d-d09c-57a3911e1526"
      },
      "outputs": [
        {
          "output_type": "execute_result",
          "data": {
            "text/plain": [
              "array(['Inter222', 'Inter227', 'Inter222', ..., 'Inter218', 'inter230',\n",
              "       'Inter221'], dtype=object)"
            ]
          },
          "metadata": {},
          "execution_count": 42
        }
      ],
      "source": [
        "labelList = np.array(df['Ad Type'])\n",
        "labelList"
      ]
    },
    {
      "cell_type": "code",
      "execution_count": null,
      "metadata": {
        "id": "xmsWWaQ8Fuw1"
      },
      "outputs": [],
      "source": []
    },
    {
      "cell_type": "code",
      "execution_count": null,
      "metadata": {
        "colab": {
          "base_uri": "https://localhost:8080/",
          "height": 268
        },
        "id": "gcD-0Lm_NmyO",
        "outputId": "2f9e4ec1-8de4-40c7-f247-65a11da78118"
      },
      "outputs": [
        {
          "output_type": "display_data",
          "data": {
            "text/plain": [
              "<Figure size 432x288 with 1 Axes>"
            ],
            "image/png": "[encoded data removed]"
          },
          "metadata": {
            "needs_background": "light"
          }
        }
      ],
      "source": [
        "dend = dendrogram(wardlink,\n",
        "                 truncate_mode='lastp',\n",
        "                 p = 10,\n",
        "                labels = labelList\n",
        "                 )"
      ]
    },
    {
      "cell_type": "code",
      "execution_count": null,
      "metadata": {
        "id": "WDT0lenNOr5u"
      },
      "outputs": [],
      "source": [
        "from scipy.cluster.hierarchy import fcluster"
      ]
    },
    {
      "cell_type": "code",
      "execution_count": null,
      "metadata": {
        "colab": {
          "base_uri": "https://localhost:8080/"
        },
        "id": "GHcmcWtGOF3P",
        "outputId": "a3d6434c-fb64-42e7-aef2-db5cf67d6dc5"
      },
      "outputs": [
        {
          "output_type": "execute_result",
          "data": {
            "text/plain": [
              "array([4, 4, 4, ..., 1, 3, 1], dtype=int32)"
            ]
          },
          "metadata": {},
          "execution_count": 251
        }
      ],
      "source": [
        "clusters = fcluster(wardlink,5, criterion='maxclust')\n",
        "clusters"
      ]
    },
    {
      "cell_type": "code",
      "execution_count": null,
      "metadata": {
        "id": "1a1cMv6yl1T4"
      },
      "outputs": [],
      "source": [
        "df['clusters'] = clusters"
      ]
    },
    {
      "cell_type": "code",
      "source": [
        "df.clusters.value_counts()"
      ],
      "metadata": {
        "colab": {
          "base_uri": "https://localhost:8080/"
        },
        "id": "3uz5AwEfic29",
        "outputId": "10956376-9ec0-4369-f96f-4c6bfb5f6182"
      },
      "execution_count": null,
      "outputs": [
        {
          "output_type": "execute_result",
          "data": {
            "text/plain": [
              "3    6899\n",
              "4    6811\n",
              "1    4765\n",
              "5    3338\n",
              "2    1253\n",
              "Name: clusters, dtype: int64"
            ]
          },
          "metadata": {},
          "execution_count": 253
        }
      ]
    },
    {
      "cell_type": "code",
      "execution_count": null,
      "metadata": {
        "id": "vdjplqAUrl5C"
      },
      "outputs": [],
      "source": [
        "q=df.groupby('clusters').mean()"
      ]
    },
    {
      "cell_type": "code",
      "execution_count": null,
      "metadata": {
        "colab": {
          "base_uri": "https://localhost:8080/",
          "height": 238
        },
        "id": "SpiWV8Oqr5ES",
        "outputId": "60591c54-8444-4193-8d2d-3b928abc0ec8"
      },
      "outputs": [
        {
          "output_type": "execute_result",
          "data": {
            "text/plain": [
              "          Ad - Length   Ad- Width        Ad Size  Available_Impressions  \\\n",
              "clusters                                                                  \n",
              "1          674.518363  332.486884  212101.573977           3.009302e+05   \n",
              "2          141.835595  572.067039   75715.881883           8.787287e+05   \n",
              "3          146.863024  556.471952   73492.390201           6.217201e+04   \n",
              "4          419.310527  148.119219   53766.219351           2.064921e+06   \n",
              "5          486.291192  193.190533   75234.140204           1.170445e+07   \n",
              "\n",
              "          Matched_Queries   Impressions        Clicks        Spend       Fee  \\\n",
              "clusters                                                                       \n",
              "1            1.603219e+05  1.398654e+05  13193.965163  1196.505681  0.349496   \n",
              "2            6.207391e+05  5.238120e+05  71556.263368  7645.819425  0.278819   \n",
              "3            3.864615e+04  2.971179e+04   4106.438759   430.959377  0.349162   \n",
              "4            1.014312e+06  9.747896e+05   3466.709000  1745.126111  0.347269   \n",
              "5            6.337908e+06  6.132361e+06  12534.271120  9673.524311  0.281941   \n",
              "\n",
              "              Revenue        CTR        CPM       CPC  \n",
              "clusters                                               \n",
              "1          779.437411  13.488182  11.856050  0.112954  \n",
              "2         5532.487799  13.774287  15.215559  0.110390  \n",
              "3          283.530730  15.814308  14.614285  0.101779  \n",
              "4         1144.464356   0.387131   1.785053  0.568884  \n",
              "5         7186.205077   0.213804   1.540024  0.752672  "
            ],
            "text/html": [
              "\n",
              "  <div id=\"df-d10320f8-a8fb-4fe9-945e-f30dd334ff44\">\n",
              "    <div class=\"colab-df-container\">\n",
              "      <div>\n",
              "<style scoped>\n",
              "    .dataframe tbody tr th:only-of-type {\n",
              "        vertical-align: middle;\n",
              "    }\n",
              "\n",
              "    .dataframe tbody tr th {\n",
              "        vertical-align: top;\n",
              "    }\n",
              "\n",
              "    .dataframe thead th {\n",
              "        text-align: right;\n",
              "    }\n",
              "</style>\n",
              "<table border=\"1\" class=\"dataframe\">\n",
              "  <thead>\n",
              "    <tr style=\"text-align: right;\">\n",
              "      <th></th>\n",
              "      <th>Ad - Length</th>\n",
              "      <th>Ad- Width</th>\n",
              "      <th>Ad Size</th>\n",
              "      <th>Available_Impressions</th>\n",
              "      <th>Matched_Queries</th>\n",
              "      <th>Impressions</th>\n",
              "      <th>Clicks</th>\n",
              "      <th>Spend</th>\n",
              "      <th>Fee</th>\n",
              "      <th>Revenue</th>\n",
              "      <th>CTR</th>\n",
              "      <th>CPM</th>\n",
              "      <th>CPC</th>\n",
              "    </tr>\n",
              "    <tr>\n",
              "      <th>clusters</th>\n",
              "      <th></th>\n",
              "      <th></th>\n",
              "      <th></th>\n",
              "      <th></th>\n",
              "      <th></th>\n",
              "      <th></th>\n",
              "      <th></th>\n",
              "      <th></th>\n",
              "      <th></th>\n",
              "      <th></th>\n",
              "      <th></th>\n",
              "      <th></th>\n",
              "      <th></th>\n",
              "    </tr>\n",
              "  </thead>\n",
              "  <tbody>\n",
              "    <tr>\n",
              "      <th>1</th>\n",
              "      <td>674.518363</td>\n",
              "      <td>332.486884</td>\n",
              "      <td>212101.573977</td>\n",
              "      <td>3.009302e+05</td>\n",
              "      <td>1.603219e+05</td>\n",
              "      <td>1.398654e+05</td>\n",
              "      <td>13193.965163</td>\n",
              "      <td>1196.505681</td>\n",
              "      <td>0.349496</td>\n",
              "      <td>779.437411</td>\n",
              "      <td>13.488182</td>\n",
              "      <td>11.856050</td>\n",
              "      <td>0.112954</td>\n",
              "    </tr>\n",
              "    <tr>\n",
              "      <th>2</th>\n",
              "      <td>141.835595</td>\n",
              "      <td>572.067039</td>\n",
              "      <td>75715.881883</td>\n",
              "      <td>8.787287e+05</td>\n",
              "      <td>6.207391e+05</td>\n",
              "      <td>5.238120e+05</td>\n",
              "      <td>71556.263368</td>\n",
              "      <td>7645.819425</td>\n",
              "      <td>0.278819</td>\n",
              "      <td>5532.487799</td>\n",
              "      <td>13.774287</td>\n",
              "      <td>15.215559</td>\n",
              "      <td>0.110390</td>\n",
              "    </tr>\n",
              "    <tr>\n",
              "      <th>3</th>\n",
              "      <td>146.863024</td>\n",
              "      <td>556.471952</td>\n",
              "      <td>73492.390201</td>\n",
              "      <td>6.217201e+04</td>\n",
              "      <td>3.864615e+04</td>\n",
              "      <td>2.971179e+04</td>\n",
              "      <td>4106.438759</td>\n",
              "      <td>430.959377</td>\n",
              "      <td>0.349162</td>\n",
              "      <td>283.530730</td>\n",
              "      <td>15.814308</td>\n",
              "      <td>14.614285</td>\n",
              "      <td>0.101779</td>\n",
              "    </tr>\n",
              "    <tr>\n",
              "      <th>4</th>\n",
              "      <td>419.310527</td>\n",
              "      <td>148.119219</td>\n",
              "      <td>53766.219351</td>\n",
              "      <td>2.064921e+06</td>\n",
              "      <td>1.014312e+06</td>\n",
              "      <td>9.747896e+05</td>\n",
              "      <td>3466.709000</td>\n",
              "      <td>1745.126111</td>\n",
              "      <td>0.347269</td>\n",
              "      <td>1144.464356</td>\n",
              "      <td>0.387131</td>\n",
              "      <td>1.785053</td>\n",
              "      <td>0.568884</td>\n",
              "    </tr>\n",
              "    <tr>\n",
              "      <th>5</th>\n",
              "      <td>486.291192</td>\n",
              "      <td>193.190533</td>\n",
              "      <td>75234.140204</td>\n",
              "      <td>1.170445e+07</td>\n",
              "      <td>6.337908e+06</td>\n",
              "      <td>6.132361e+06</td>\n",
              "      <td>12534.271120</td>\n",
              "      <td>9673.524311</td>\n",
              "      <td>0.281941</td>\n",
              "      <td>7186.205077</td>\n",
              "      <td>0.213804</td>\n",
              "      <td>1.540024</td>\n",
              "      <td>0.752672</td>\n",
              "    </tr>\n",
              "  </tbody>\n",
              "</table>\n",
              "</div>\n",
              "      <button class=\"colab-df-convert\" onclick=\"convertToInteractive('df-d10320f8-a8fb-4fe9-945e-f30dd334ff44')\"\n",
              "              title=\"Convert this dataframe to an interactive table.\"\n",
              "              style=\"display:none;\">\n",
              "        \n",
              "  <svg xmlns=\"http://www.w3.org/2000/svg\" height=\"24px\"viewBox=\"0 0 24 24\"\n",
              "       width=\"24px\">\n",
              "    <path d=\"M0 0h24v24H0V0z\" fill=\"none\"/>\n",
              "    <path d=\"M18.56 5.44l.94 2.06.94-2.06 2.06-.94-2.06-.94-.94-2.06-.94 2.06-2.06.94zm-11 1L8.5 8.5l.94-2.06 2.06-.94-2.06-.94L8.5 2.5l-.94 2.06-2.06.94zm10 10l.94 2.06.94-2.06 2.06-.94-2.06-.94-.94-2.06-.94 2.06-2.06.94z\"/><path d=\"M17.41 7.96l-1.37-1.37c-.4-.4-.92-.59-1.43-.59-.52 0-1.04.2-1.43.59L10.3 9.45l-7.72 7.72c-.78.78-.78 2.05 0 2.83L4 21.41c.39.39.9.59 1.41.59.51 0 1.02-.2 1.41-.59l7.78-7.78 2.81-2.81c.8-.78.8-2.07 0-2.86zM5.41 20L4 18.59l7.72-7.72 1.47 1.35L5.41 20z\"/>\n",
              "  </svg>\n",
              "      </button>\n",
              "      \n",
              "  <style>\n",
              "    .colab-df-container {\n",
              "      display:flex;\n",
              "      flex-wrap:wrap;\n",
              "      gap: 12px;\n",
              "    }\n",
              "\n",
              "    .colab-df-convert {\n",
              "      background-color: #E8F0FE;\n",
              "      border: none;\n",
              "      border-radius: 50%;\n",
              "      cursor: pointer;\n",
              "      display: none;\n",
              "      fill: #1967D2;\n",
              "      height: 32px;\n",
              "      padding: 0 0 0 0;\n",
              "      width: 32px;\n",
              "    }\n",
              "\n",
              "    .colab-df-convert:hover {\n",
              "      background-color: #E2EBFA;\n",
              "      box-shadow: 0px 1px 2px rgba(60, 64, 67, 0.3), 0px 1px 3px 1px rgba(60, 64, 67, 0.15);\n",
              "      fill: #174EA6;\n",
              "    }\n",
              "\n",
              "    [theme=dark] .colab-df-convert {\n",
              "      background-color: #3B4455;\n",
              "      fill: #D2E3FC;\n",
              "    }\n",
              "\n",
              "    [theme=dark] .colab-df-convert:hover {\n",
              "      background-color: #434B5C;\n",
              "      box-shadow: 0px 1px 3px 1px rgba(0, 0, 0, 0.15);\n",
              "      filter: drop-shadow(0px 1px 2px rgba(0, 0, 0, 0.3));\n",
              "      fill: #FFFFFF;\n",
              "    }\n",
              "  </style>\n",
              "\n",
              "      <script>\n",
              "        const buttonEl =\n",
              "          document.querySelector('#df-d10320f8-a8fb-4fe9-945e-f30dd334ff44 button.colab-df-convert');\n",
              "        buttonEl.style.display =\n",
              "          google.colab.kernel.accessAllowed ? 'block' : 'none';\n",
              "\n",
              "        async function convertToInteractive(key) {\n",
              "          const element = document.querySelector('#df-d10320f8-a8fb-4fe9-945e-f30dd334ff44');\n",
              "          const dataTable =\n",
              "            await google.colab.kernel.invokeFunction('convertToInteractive',\n",
              "                                                     [key], {});\n",
              "          if (!dataTable) return;\n",
              "\n",
              "          const docLinkHtml = 'Like what you see? Visit the ' +\n",
              "            '<a target=\"_blank\" href=https://colab.research.google.com/notebooks/data_table.ipynb>data table notebook</a>'\n",
              "            + ' to learn more about interactive tables.';\n",
              "          element.innerHTML = '';\n",
              "          dataTable['output_type'] = 'display_data';\n",
              "          await google.colab.output.renderOutput(dataTable, element);\n",
              "          const docLink = document.createElement('div');\n",
              "          docLink.innerHTML = docLinkHtml;\n",
              "          element.appendChild(docLink);\n",
              "        }\n",
              "      </script>\n",
              "    </div>\n",
              "  </div>\n",
              "  "
            ]
          },
          "metadata": {},
          "execution_count": 255
        }
      ],
      "source": [
        "q"
      ]
    },
    {
      "cell_type": "code",
      "execution_count": null,
      "metadata": {
        "colab": {
          "base_uri": "https://localhost:8080/",
          "height": 206
        },
        "id": "JJOXxP4us9o7",
        "outputId": "c76725ea-94b6-4a7a-a015-63bb673227ed"
      },
      "outputs": [
        {
          "output_type": "execute_result",
          "data": {
            "text/plain": [
              "   clusters  Ad - Length   Ad- Width        Ad Size  Available_Impressions  \\\n",
              "0         1   674.518363  332.486884  212101.573977           3.009302e+05   \n",
              "1         2   141.835595  572.067039   75715.881883           8.787287e+05   \n",
              "2         3   146.863024  556.471952   73492.390201           6.217201e+04   \n",
              "3         4   419.310527  148.119219   53766.219351           2.064921e+06   \n",
              "4         5   486.291192  193.190533   75234.140204           1.170445e+07   \n",
              "\n",
              "   Matched_Queries   Impressions        Clicks        Spend       Fee  \\\n",
              "0     1.603219e+05  1.398654e+05  13193.965163  1196.505681  0.349496   \n",
              "1     6.207391e+05  5.238120e+05  71556.263368  7645.819425  0.278819   \n",
              "2     3.864615e+04  2.971179e+04   4106.438759   430.959377  0.349162   \n",
              "3     1.014312e+06  9.747896e+05   3466.709000  1745.126111  0.347269   \n",
              "4     6.337908e+06  6.132361e+06  12534.271120  9673.524311  0.281941   \n",
              "\n",
              "       Revenue        CTR        CPM       CPC  \n",
              "0   779.437411  13.488182  11.856050  0.112954  \n",
              "1  5532.487799  13.774287  15.215559  0.110390  \n",
              "2   283.530730  15.814308  14.614285  0.101779  \n",
              "3  1144.464356   0.387131   1.785053  0.568884  \n",
              "4  7186.205077   0.213804   1.540024  0.752672  "
            ],
            "text/html": [
              "\n",
              "  <div id=\"df-f6994a22-4124-4d6c-acfa-cd77975722ce\">\n",
              "    <div class=\"colab-df-container\">\n",
              "      <div>\n",
              "<style scoped>\n",
              "    .dataframe tbody tr th:only-of-type {\n",
              "        vertical-align: middle;\n",
              "    }\n",
              "\n",
              "    .dataframe tbody tr th {\n",
              "        vertical-align: top;\n",
              "    }\n",
              "\n",
              "    .dataframe thead th {\n",
              "        text-align: right;\n",
              "    }\n",
              "</style>\n",
              "<table border=\"1\" class=\"dataframe\">\n",
              "  <thead>\n",
              "    <tr style=\"text-align: right;\">\n",
              "      <th></th>\n",
              "      <th>clusters</th>\n",
              "      <th>Ad - Length</th>\n",
              "      <th>Ad- Width</th>\n",
              "      <th>Ad Size</th>\n",
              "      <th>Available_Impressions</th>\n",
              "      <th>Matched_Queries</th>\n",
              "      <th>Impressions</th>\n",
              "      <th>Clicks</th>\n",
              "      <th>Spend</th>\n",
              "      <th>Fee</th>\n",
              "      <th>Revenue</th>\n",
              "      <th>CTR</th>\n",
              "      <th>CPM</th>\n",
              "      <th>CPC</th>\n",
              "    </tr>\n",
              "  </thead>\n",
              "  <tbody>\n",
              "    <tr>\n",
              "      <th>0</th>\n",
              "      <td>1</td>\n",
              "      <td>674.518363</td>\n",
              "      <td>332.486884</td>\n",
              "      <td>212101.573977</td>\n",
              "      <td>3.009302e+05</td>\n",
              "      <td>1.603219e+05</td>\n",
              "      <td>1.398654e+05</td>\n",
              "      <td>13193.965163</td>\n",
              "      <td>1196.505681</td>\n",
              "      <td>0.349496</td>\n",
              "      <td>779.437411</td>\n",
              "      <td>13.488182</td>\n",
              "      <td>11.856050</td>\n",
              "      <td>0.112954</td>\n",
              "    </tr>\n",
              "    <tr>\n",
              "      <th>1</th>\n",
              "      <td>2</td>\n",
              "      <td>141.835595</td>\n",
              "      <td>572.067039</td>\n",
              "      <td>75715.881883</td>\n",
              "      <td>8.787287e+05</td>\n",
              "      <td>6.207391e+05</td>\n",
              "      <td>5.238120e+05</td>\n",
              "      <td>71556.263368</td>\n",
              "      <td>7645.819425</td>\n",
              "      <td>0.278819</td>\n",
              "      <td>5532.487799</td>\n",
              "      <td>13.774287</td>\n",
              "      <td>15.215559</td>\n",
              "      <td>0.110390</td>\n",
              "    </tr>\n",
              "    <tr>\n",
              "      <th>2</th>\n",
              "      <td>3</td>\n",
              "      <td>146.863024</td>\n",
              "      <td>556.471952</td>\n",
              "      <td>73492.390201</td>\n",
              "      <td>6.217201e+04</td>\n",
              "      <td>3.864615e+04</td>\n",
              "      <td>2.971179e+04</td>\n",
              "      <td>4106.438759</td>\n",
              "      <td>430.959377</td>\n",
              "      <td>0.349162</td>\n",
              "      <td>283.530730</td>\n",
              "      <td>15.814308</td>\n",
              "      <td>14.614285</td>\n",
              "      <td>0.101779</td>\n",
              "    </tr>\n",
              "    <tr>\n",
              "      <th>3</th>\n",
              "      <td>4</td>\n",
              "      <td>419.310527</td>\n",
              "      <td>148.119219</td>\n",
              "      <td>53766.219351</td>\n",
              "      <td>2.064921e+06</td>\n",
              "      <td>1.014312e+06</td>\n",
              "      <td>9.747896e+05</td>\n",
              "      <td>3466.709000</td>\n",
              "      <td>1745.126111</td>\n",
              "      <td>0.347269</td>\n",
              "      <td>1144.464356</td>\n",
              "      <td>0.387131</td>\n",
              "      <td>1.785053</td>\n",
              "      <td>0.568884</td>\n",
              "    </tr>\n",
              "    <tr>\n",
              "      <th>4</th>\n",
              "      <td>5</td>\n",
              "      <td>486.291192</td>\n",
              "      <td>193.190533</td>\n",
              "      <td>75234.140204</td>\n",
              "      <td>1.170445e+07</td>\n",
              "      <td>6.337908e+06</td>\n",
              "      <td>6.132361e+06</td>\n",
              "      <td>12534.271120</td>\n",
              "      <td>9673.524311</td>\n",
              "      <td>0.281941</td>\n",
              "      <td>7186.205077</td>\n",
              "      <td>0.213804</td>\n",
              "      <td>1.540024</td>\n",
              "      <td>0.752672</td>\n",
              "    </tr>\n",
              "  </tbody>\n",
              "</table>\n",
              "</div>\n",
              "      <button class=\"colab-df-convert\" onclick=\"convertToInteractive('df-f6994a22-4124-4d6c-acfa-cd77975722ce')\"\n",
              "              title=\"Convert this dataframe to an interactive table.\"\n",
              "              style=\"display:none;\">\n",
              "        \n",
              "  <svg xmlns=\"http://www.w3.org/2000/svg\" height=\"24px\"viewBox=\"0 0 24 24\"\n",
              "       width=\"24px\">\n",
              "    <path d=\"M0 0h24v24H0V0z\" fill=\"none\"/>\n",
              "    <path d=\"M18.56 5.44l.94 2.06.94-2.06 2.06-.94-2.06-.94-.94-2.06-.94 2.06-2.06.94zm-11 1L8.5 8.5l.94-2.06 2.06-.94-2.06-.94L8.5 2.5l-.94 2.06-2.06.94zm10 10l.94 2.06.94-2.06 2.06-.94-2.06-.94-.94-2.06-.94 2.06-2.06.94z\"/><path d=\"M17.41 7.96l-1.37-1.37c-.4-.4-.92-.59-1.43-.59-.52 0-1.04.2-1.43.59L10.3 9.45l-7.72 7.72c-.78.78-.78 2.05 0 2.83L4 21.41c.39.39.9.59 1.41.59.51 0 1.02-.2 1.41-.59l7.78-7.78 2.81-2.81c.8-.78.8-2.07 0-2.86zM5.41 20L4 18.59l7.72-7.72 1.47 1.35L5.41 20z\"/>\n",
              "  </svg>\n",
              "      </button>\n",
              "      \n",
              "  <style>\n",
              "    .colab-df-container {\n",
              "      display:flex;\n",
              "      flex-wrap:wrap;\n",
              "      gap: 12px;\n",
              "    }\n",
              "\n",
              "    .colab-df-convert {\n",
              "      background-color: #E8F0FE;\n",
              "      border: none;\n",
              "      border-radius: 50%;\n",
              "      cursor: pointer;\n",
              "      display: none;\n",
              "      fill: #1967D2;\n",
              "      height: 32px;\n",
              "      padding: 0 0 0 0;\n",
              "      width: 32px;\n",
              "    }\n",
              "\n",
              "    .colab-df-convert:hover {\n",
              "      background-color: #E2EBFA;\n",
              "      box-shadow: 0px 1px 2px rgba(60, 64, 67, 0.3), 0px 1px 3px 1px rgba(60, 64, 67, 0.15);\n",
              "      fill: #174EA6;\n",
              "    }\n",
              "\n",
              "    [theme=dark] .colab-df-convert {\n",
              "      background-color: #3B4455;\n",
              "      fill: #D2E3FC;\n",
              "    }\n",
              "\n",
              "    [theme=dark] .colab-df-convert:hover {\n",
              "      background-color: #434B5C;\n",
              "      box-shadow: 0px 1px 3px 1px rgba(0, 0, 0, 0.15);\n",
              "      filter: drop-shadow(0px 1px 2px rgba(0, 0, 0, 0.3));\n",
              "      fill: #FFFFFF;\n",
              "    }\n",
              "  </style>\n",
              "\n",
              "      <script>\n",
              "        const buttonEl =\n",
              "          document.querySelector('#df-f6994a22-4124-4d6c-acfa-cd77975722ce button.colab-df-convert');\n",
              "        buttonEl.style.display =\n",
              "          google.colab.kernel.accessAllowed ? 'block' : 'none';\n",
              "\n",
              "        async function convertToInteractive(key) {\n",
              "          const element = document.querySelector('#df-f6994a22-4124-4d6c-acfa-cd77975722ce');\n",
              "          const dataTable =\n",
              "            await google.colab.kernel.invokeFunction('convertToInteractive',\n",
              "                                                     [key], {});\n",
              "          if (!dataTable) return;\n",
              "\n",
              "          const docLinkHtml = 'Like what you see? Visit the ' +\n",
              "            '<a target=\"_blank\" href=https://colab.research.google.com/notebooks/data_table.ipynb>data table notebook</a>'\n",
              "            + ' to learn more about interactive tables.';\n",
              "          element.innerHTML = '';\n",
              "          dataTable['output_type'] = 'display_data';\n",
              "          await google.colab.output.renderOutput(dataTable, element);\n",
              "          const docLink = document.createElement('div');\n",
              "          docLink.innerHTML = docLinkHtml;\n",
              "          element.appendChild(docLink);\n",
              "        }\n",
              "      </script>\n",
              "    </div>\n",
              "  </div>\n",
              "  "
            ]
          },
          "metadata": {},
          "execution_count": 256
        }
      ],
      "source": [
        "\n",
        "q.reset_index(level=0, inplace=True)\n",
        "q\n"
      ]
    },
    {
      "cell_type": "code",
      "execution_count": null,
      "metadata": {
        "id": "Fvi9N_C1x3IS"
      },
      "outputs": [],
      "source": [
        "q['clusters'] = q['clusters'].astype('category')"
      ]
    },
    {
      "cell_type": "code",
      "execution_count": null,
      "metadata": {
        "id": "HFfcRyO7yeev"
      },
      "outputs": [],
      "source": [
        "q['Revenue/Spend']=q['Revenue']/q['Spend']"
      ]
    },
    {
      "cell_type": "code",
      "execution_count": null,
      "metadata": {
        "colab": {
          "base_uri": "https://localhost:8080/",
          "height": 206
        },
        "id": "EIbfeUO067fo",
        "outputId": "43136ab4-e118-4ae2-e487-dddd8ba6987e"
      },
      "outputs": [
        {
          "output_type": "execute_result",
          "data": {
            "text/plain": [
              "  clusters  Ad - Length   Ad- Width        Ad Size  Available_Impressions  \\\n",
              "0        1   674.518363  332.486884  212101.573977           3.009302e+05   \n",
              "1        2   141.835595  572.067039   75715.881883           8.787287e+05   \n",
              "2        3   146.863024  556.471952   73492.390201           6.217201e+04   \n",
              "3        4   419.310527  148.119219   53766.219351           2.064921e+06   \n",
              "4        5   486.291192  193.190533   75234.140204           1.170445e+07   \n",
              "\n",
              "   Matched_Queries   Impressions        Clicks        Spend       Fee  \\\n",
              "0     1.603219e+05  1.398654e+05  13193.965163  1196.505681  0.349496   \n",
              "1     6.207391e+05  5.238120e+05  71556.263368  7645.819425  0.278819   \n",
              "2     3.864615e+04  2.971179e+04   4106.438759   430.959377  0.349162   \n",
              "3     1.014312e+06  9.747896e+05   3466.709000  1745.126111  0.347269   \n",
              "4     6.337908e+06  6.132361e+06  12534.271120  9673.524311  0.281941   \n",
              "\n",
              "       Revenue        CTR        CPM       CPC  Revenue/Spend  \n",
              "0   779.437411  13.488182  11.856050  0.112954       0.651428  \n",
              "1  5532.487799  13.774287  15.215559  0.110390       0.723596  \n",
              "2   283.530730  15.814308  14.614285  0.101779       0.657906  \n",
              "3  1144.464356   0.387131   1.785053  0.568884       0.655806  \n",
              "4  7186.205077   0.213804   1.540024  0.752672       0.742874  "
            ],
            "text/html": [
              "\n",
              "  <div id=\"df-af66c69c-e8f3-49d4-94a5-ba8eb7bf36f1\">\n",
              "    <div class=\"colab-df-container\">\n",
              "      <div>\n",
              "<style scoped>\n",
              "    .dataframe tbody tr th:only-of-type {\n",
              "        vertical-align: middle;\n",
              "    }\n",
              "\n",
              "    .dataframe tbody tr th {\n",
              "        vertical-align: top;\n",
              "    }\n",
              "\n",
              "    .dataframe thead th {\n",
              "        text-align: right;\n",
              "    }\n",
              "</style>\n",
              "<table border=\"1\" class=\"dataframe\">\n",
              "  <thead>\n",
              "    <tr style=\"text-align: right;\">\n",
              "      <th></th>\n",
              "      <th>clusters</th>\n",
              "      <th>Ad - Length</th>\n",
              "      <th>Ad- Width</th>\n",
              "      <th>Ad Size</th>\n",
              "      <th>Available_Impressions</th>\n",
              "      <th>Matched_Queries</th>\n",
              "      <th>Impressions</th>\n",
              "      <th>Clicks</th>\n",
              "      <th>Spend</th>\n",
              "      <th>Fee</th>\n",
              "      <th>Revenue</th>\n",
              "      <th>CTR</th>\n",
              "      <th>CPM</th>\n",
              "      <th>CPC</th>\n",
              "      <th>Revenue/Spend</th>\n",
              "    </tr>\n",
              "  </thead>\n",
              "  <tbody>\n",
              "    <tr>\n",
              "      <th>0</th>\n",
              "      <td>1</td>\n",
              "      <td>674.518363</td>\n",
              "      <td>332.486884</td>\n",
              "      <td>212101.573977</td>\n",
              "      <td>3.009302e+05</td>\n",
              "      <td>1.603219e+05</td>\n",
              "      <td>1.398654e+05</td>\n",
              "      <td>13193.965163</td>\n",
              "      <td>1196.505681</td>\n",
              "      <td>0.349496</td>\n",
              "      <td>779.437411</td>\n",
              "      <td>13.488182</td>\n",
              "      <td>11.856050</td>\n",
              "      <td>0.112954</td>\n",
              "      <td>0.651428</td>\n",
              "    </tr>\n",
              "    <tr>\n",
              "      <th>1</th>\n",
              "      <td>2</td>\n",
              "      <td>141.835595</td>\n",
              "      <td>572.067039</td>\n",
              "      <td>75715.881883</td>\n",
              "      <td>8.787287e+05</td>\n",
              "      <td>6.207391e+05</td>\n",
              "      <td>5.238120e+05</td>\n",
              "      <td>71556.263368</td>\n",
              "      <td>7645.819425</td>\n",
              "      <td>0.278819</td>\n",
              "      <td>5532.487799</td>\n",
              "      <td>13.774287</td>\n",
              "      <td>15.215559</td>\n",
              "      <td>0.110390</td>\n",
              "      <td>0.723596</td>\n",
              "    </tr>\n",
              "    <tr>\n",
              "      <th>2</th>\n",
              "      <td>3</td>\n",
              "      <td>146.863024</td>\n",
              "      <td>556.471952</td>\n",
              "      <td>73492.390201</td>\n",
              "      <td>6.217201e+04</td>\n",
              "      <td>3.864615e+04</td>\n",
              "      <td>2.971179e+04</td>\n",
              "      <td>4106.438759</td>\n",
              "      <td>430.959377</td>\n",
              "      <td>0.349162</td>\n",
              "      <td>283.530730</td>\n",
              "      <td>15.814308</td>\n",
              "      <td>14.614285</td>\n",
              "      <td>0.101779</td>\n",
              "      <td>0.657906</td>\n",
              "    </tr>\n",
              "    <tr>\n",
              "      <th>3</th>\n",
              "      <td>4</td>\n",
              "      <td>419.310527</td>\n",
              "      <td>148.119219</td>\n",
              "      <td>53766.219351</td>\n",
              "      <td>2.064921e+06</td>\n",
              "      <td>1.014312e+06</td>\n",
              "      <td>9.747896e+05</td>\n",
              "      <td>3466.709000</td>\n",
              "      <td>1745.126111</td>\n",
              "      <td>0.347269</td>\n",
              "      <td>1144.464356</td>\n",
              "      <td>0.387131</td>\n",
              "      <td>1.785053</td>\n",
              "      <td>0.568884</td>\n",
              "      <td>0.655806</td>\n",
              "    </tr>\n",
              "    <tr>\n",
              "      <th>4</th>\n",
              "      <td>5</td>\n",
              "      <td>486.291192</td>\n",
              "      <td>193.190533</td>\n",
              "      <td>75234.140204</td>\n",
              "      <td>1.170445e+07</td>\n",
              "      <td>6.337908e+06</td>\n",
              "      <td>6.132361e+06</td>\n",
              "      <td>12534.271120</td>\n",
              "      <td>9673.524311</td>\n",
              "      <td>0.281941</td>\n",
              "      <td>7186.205077</td>\n",
              "      <td>0.213804</td>\n",
              "      <td>1.540024</td>\n",
              "      <td>0.752672</td>\n",
              "      <td>0.742874</td>\n",
              "    </tr>\n",
              "  </tbody>\n",
              "</table>\n",
              "</div>\n",
              "      <button class=\"colab-df-convert\" onclick=\"convertToInteractive('df-af66c69c-e8f3-49d4-94a5-ba8eb7bf36f1')\"\n",
              "              title=\"Convert this dataframe to an interactive table.\"\n",
              "              style=\"display:none;\">\n",
              "        \n",
              "  <svg xmlns=\"http://www.w3.org/2000/svg\" height=\"24px\"viewBox=\"0 0 24 24\"\n",
              "       width=\"24px\">\n",
              "    <path d=\"M0 0h24v24H0V0z\" fill=\"none\"/>\n",
              "    <path d=\"M18.56 5.44l.94 2.06.94-2.06 2.06-.94-2.06-.94-.94-2.06-.94 2.06-2.06.94zm-11 1L8.5 8.5l.94-2.06 2.06-.94-2.06-.94L8.5 2.5l-.94 2.06-2.06.94zm10 10l.94 2.06.94-2.06 2.06-.94-2.06-.94-.94-2.06-.94 2.06-2.06.94z\"/><path d=\"M17.41 7.96l-1.37-1.37c-.4-.4-.92-.59-1.43-.59-.52 0-1.04.2-1.43.59L10.3 9.45l-7.72 7.72c-.78.78-.78 2.05 0 2.83L4 21.41c.39.39.9.59 1.41.59.51 0 1.02-.2 1.41-.59l7.78-7.78 2.81-2.81c.8-.78.8-2.07 0-2.86zM5.41 20L4 18.59l7.72-7.72 1.47 1.35L5.41 20z\"/>\n",
              "  </svg>\n",
              "      </button>\n",
              "      \n",
              "  <style>\n",
              "    .colab-df-container {\n",
              "      display:flex;\n",
              "      flex-wrap:wrap;\n",
              "      gap: 12px;\n",
              "    }\n",
              "\n",
              "    .colab-df-convert {\n",
              "      background-color: #E8F0FE;\n",
              "      border: none;\n",
              "      border-radius: 50%;\n",
              "      cursor: pointer;\n",
              "      display: none;\n",
              "      fill: #1967D2;\n",
              "      height: 32px;\n",
              "      padding: 0 0 0 0;\n",
              "      width: 32px;\n",
              "    }\n",
              "\n",
              "    .colab-df-convert:hover {\n",
              "      background-color: #E2EBFA;\n",
              "      box-shadow: 0px 1px 2px rgba(60, 64, 67, 0.3), 0px 1px 3px 1px rgba(60, 64, 67, 0.15);\n",
              "      fill: #174EA6;\n",
              "    }\n",
              "\n",
              "    [theme=dark] .colab-df-convert {\n",
              "      background-color: #3B4455;\n",
              "      fill: #D2E3FC;\n",
              "    }\n",
              "\n",
              "    [theme=dark] .colab-df-convert:hover {\n",
              "      background-color: #434B5C;\n",
              "      box-shadow: 0px 1px 3px 1px rgba(0, 0, 0, 0.15);\n",
              "      filter: drop-shadow(0px 1px 2px rgba(0, 0, 0, 0.3));\n",
              "      fill: #FFFFFF;\n",
              "    }\n",
              "  </style>\n",
              "\n",
              "      <script>\n",
              "        const buttonEl =\n",
              "          document.querySelector('#df-af66c69c-e8f3-49d4-94a5-ba8eb7bf36f1 button.colab-df-convert');\n",
              "        buttonEl.style.display =\n",
              "          google.colab.kernel.accessAllowed ? 'block' : 'none';\n",
              "\n",
              "        async function convertToInteractive(key) {\n",
              "          const element = document.querySelector('#df-af66c69c-e8f3-49d4-94a5-ba8eb7bf36f1');\n",
              "          const dataTable =\n",
              "            await google.colab.kernel.invokeFunction('convertToInteractive',\n",
              "                                                     [key], {});\n",
              "          if (!dataTable) return;\n",
              "\n",
              "          const docLinkHtml = 'Like what you see? Visit the ' +\n",
              "            '<a target=\"_blank\" href=https://colab.research.google.com/notebooks/data_table.ipynb>data table notebook</a>'\n",
              "            + ' to learn more about interactive tables.';\n",
              "          element.innerHTML = '';\n",
              "          dataTable['output_type'] = 'display_data';\n",
              "          await google.colab.output.renderOutput(dataTable, element);\n",
              "          const docLink = document.createElement('div');\n",
              "          docLink.innerHTML = docLinkHtml;\n",
              "          element.appendChild(docLink);\n",
              "        }\n",
              "      </script>\n",
              "    </div>\n",
              "  </div>\n",
              "  "
            ]
          },
          "metadata": {},
          "execution_count": 259
        }
      ],
      "source": [
        "q"
      ]
    },
    {
      "cell_type": "code",
      "execution_count": null,
      "metadata": {
        "id": "TC7NE0YkD6ux"
      },
      "outputs": [],
      "source": []
    },
    {
      "cell_type": "code",
      "execution_count": null,
      "metadata": {
        "colab": {
          "base_uri": "https://localhost:8080/",
          "height": 514
        },
        "id": "tKL7KnJgwkKs",
        "outputId": "53333489-ca31-4388-c405-c534c583f336"
      },
      "outputs": [
        {
          "output_type": "execute_result",
          "data": {
            "text/plain": [
              "<matplotlib.axes._subplots.AxesSubplot at 0x7fbabbb32e20>"
            ]
          },
          "metadata": {},
          "execution_count": 260
        },
        {
          "output_type": "display_data",
          "data": {
            "text/plain": [
              "<Figure size 648x576 with 1 Axes>"
            ],
            "image/png": "[encoded data removed]"
          },
          "metadata": {
            "needs_background": "light"
          }
        }
      ],
      "source": [
        "q.plot(x=\"clusters\", y=[\"Revenue/Spend\"], kind=\"line\", figsize=(9, 8))\n",
        "\n",
        "# print bar gr"
      ]
    },
    {
      "cell_type": "code",
      "execution_count": null,
      "metadata": {
        "colab": {
          "base_uri": "https://localhost:8080/",
          "height": 510
        },
        "id": "aI2mOu0ywj6v",
        "outputId": "24190c34-e578-40e2-c96b-1dc94332904f"
      },
      "outputs": [
        {
          "output_type": "execute_result",
          "data": {
            "text/plain": [
              "<matplotlib.axes._subplots.AxesSubplot at 0x7fbabb850fd0>"
            ]
          },
          "metadata": {},
          "execution_count": 261
        },
        {
          "output_type": "display_data",
          "data": {
            "text/plain": [
              "<Figure size 648x576 with 1 Axes>"
            ],
            "image/png": "[encoded data removed]"
          },
          "metadata": {
            "needs_background": "light"
          }
        }
      ],
      "source": [
        "q.plot(x=\"clusters\", y=[\"CTR\",'CPM','CPC'], kind=\"bar\", figsize=(9, 8))"
      ]
    },
    {
      "cell_type": "code",
      "execution_count": null,
      "metadata": {
        "id": "Ok-7gPiNl_Lr"
      },
      "outputs": [],
      "source": []
    },
    {
      "cell_type": "code",
      "execution_count": null,
      "metadata": {
        "colab": {
          "base_uri": "https://localhost:8080/",
          "height": 238
        },
        "id": "ZBHeAJW1Oypg",
        "outputId": "7cbd434b-9607-4cc0-de23-bad8861a7c13"
      },
      "outputs": [
        {
          "output_type": "execute_result",
          "data": {
            "text/plain": [
              "          Ad - Length   Ad- Width        Ad Size  Available_Impressions  \\\n",
              "clusters                                                                  \n",
              "1          674.518363  332.486884  212101.573977           3.009302e+05   \n",
              "2          141.835595  572.067039   75715.881883           8.787287e+05   \n",
              "3          146.863024  556.471952   73492.390201           6.217201e+04   \n",
              "4          419.310527  148.119219   53766.219351           2.064921e+06   \n",
              "5          486.291192  193.190533   75234.140204           1.170445e+07   \n",
              "\n",
              "          Matched_Queries   Impressions        Clicks        Spend       Fee  \\\n",
              "clusters                                                                       \n",
              "1            1.603219e+05  1.398654e+05  13193.965163  1196.505681  0.349496   \n",
              "2            6.207391e+05  5.238120e+05  71556.263368  7645.819425  0.278819   \n",
              "3            3.864615e+04  2.971179e+04   4106.438759   430.959377  0.349162   \n",
              "4            1.014312e+06  9.747896e+05   3466.709000  1745.126111  0.347269   \n",
              "5            6.337908e+06  6.132361e+06  12534.271120  9673.524311  0.281941   \n",
              "\n",
              "              Revenue        CTR        CPM       CPC  \n",
              "clusters                                               \n",
              "1          779.437411  13.488182  11.856050  0.112954  \n",
              "2         5532.487799  13.774287  15.215559  0.110390  \n",
              "3          283.530730  15.814308  14.614285  0.101779  \n",
              "4         1144.464356   0.387131   1.785053  0.568884  \n",
              "5         7186.205077   0.213804   1.540024  0.752672  "
            ],
            "text/html": [
              "\n",
              "  <div id=\"df-68c18c43-67c2-407a-9231-b2c5fddfd83d\">\n",
              "    <div class=\"colab-df-container\">\n",
              "      <div>\n",
              "<style scoped>\n",
              "    .dataframe tbody tr th:only-of-type {\n",
              "        vertical-align: middle;\n",
              "    }\n",
              "\n",
              "    .dataframe tbody tr th {\n",
              "        vertical-align: top;\n",
              "    }\n",
              "\n",
              "    .dataframe thead th {\n",
              "        text-align: right;\n",
              "    }\n",
              "</style>\n",
              "<table border=\"1\" class=\"dataframe\">\n",
              "  <thead>\n",
              "    <tr style=\"text-align: right;\">\n",
              "      <th></th>\n",
              "      <th>Ad - Length</th>\n",
              "      <th>Ad- Width</th>\n",
              "      <th>Ad Size</th>\n",
              "      <th>Available_Impressions</th>\n",
              "      <th>Matched_Queries</th>\n",
              "      <th>Impressions</th>\n",
              "      <th>Clicks</th>\n",
              "      <th>Spend</th>\n",
              "      <th>Fee</th>\n",
              "      <th>Revenue</th>\n",
              "      <th>CTR</th>\n",
              "      <th>CPM</th>\n",
              "      <th>CPC</th>\n",
              "    </tr>\n",
              "    <tr>\n",
              "      <th>clusters</th>\n",
              "      <th></th>\n",
              "      <th></th>\n",
              "      <th></th>\n",
              "      <th></th>\n",
              "      <th></th>\n",
              "      <th></th>\n",
              "      <th></th>\n",
              "      <th></th>\n",
              "      <th></th>\n",
              "      <th></th>\n",
              "      <th></th>\n",
              "      <th></th>\n",
              "      <th></th>\n",
              "    </tr>\n",
              "  </thead>\n",
              "  <tbody>\n",
              "    <tr>\n",
              "      <th>1</th>\n",
              "      <td>674.518363</td>\n",
              "      <td>332.486884</td>\n",
              "      <td>212101.573977</td>\n",
              "      <td>3.009302e+05</td>\n",
              "      <td>1.603219e+05</td>\n",
              "      <td>1.398654e+05</td>\n",
              "      <td>13193.965163</td>\n",
              "      <td>1196.505681</td>\n",
              "      <td>0.349496</td>\n",
              "      <td>779.437411</td>\n",
              "      <td>13.488182</td>\n",
              "      <td>11.856050</td>\n",
              "      <td>0.112954</td>\n",
              "    </tr>\n",
              "    <tr>\n",
              "      <th>2</th>\n",
              "      <td>141.835595</td>\n",
              "      <td>572.067039</td>\n",
              "      <td>75715.881883</td>\n",
              "      <td>8.787287e+05</td>\n",
              "      <td>6.207391e+05</td>\n",
              "      <td>5.238120e+05</td>\n",
              "      <td>71556.263368</td>\n",
              "      <td>7645.819425</td>\n",
              "      <td>0.278819</td>\n",
              "      <td>5532.487799</td>\n",
              "      <td>13.774287</td>\n",
              "      <td>15.215559</td>\n",
              "      <td>0.110390</td>\n",
              "    </tr>\n",
              "    <tr>\n",
              "      <th>3</th>\n",
              "      <td>146.863024</td>\n",
              "      <td>556.471952</td>\n",
              "      <td>73492.390201</td>\n",
              "      <td>6.217201e+04</td>\n",
              "      <td>3.864615e+04</td>\n",
              "      <td>2.971179e+04</td>\n",
              "      <td>4106.438759</td>\n",
              "      <td>430.959377</td>\n",
              "      <td>0.349162</td>\n",
              "      <td>283.530730</td>\n",
              "      <td>15.814308</td>\n",
              "      <td>14.614285</td>\n",
              "      <td>0.101779</td>\n",
              "    </tr>\n",
              "    <tr>\n",
              "      <th>4</th>\n",
              "      <td>419.310527</td>\n",
              "      <td>148.119219</td>\n",
              "      <td>53766.219351</td>\n",
              "      <td>2.064921e+06</td>\n",
              "      <td>1.014312e+06</td>\n",
              "      <td>9.747896e+05</td>\n",
              "      <td>3466.709000</td>\n",
              "      <td>1745.126111</td>\n",
              "      <td>0.347269</td>\n",
              "      <td>1144.464356</td>\n",
              "      <td>0.387131</td>\n",
              "      <td>1.785053</td>\n",
              "      <td>0.568884</td>\n",
              "    </tr>\n",
              "    <tr>\n",
              "      <th>5</th>\n",
              "      <td>486.291192</td>\n",
              "      <td>193.190533</td>\n",
              "      <td>75234.140204</td>\n",
              "      <td>1.170445e+07</td>\n",
              "      <td>6.337908e+06</td>\n",
              "      <td>6.132361e+06</td>\n",
              "      <td>12534.271120</td>\n",
              "      <td>9673.524311</td>\n",
              "      <td>0.281941</td>\n",
              "      <td>7186.205077</td>\n",
              "      <td>0.213804</td>\n",
              "      <td>1.540024</td>\n",
              "      <td>0.752672</td>\n",
              "    </tr>\n",
              "  </tbody>\n",
              "</table>\n",
              "</div>\n",
              "      <button class=\"colab-df-convert\" onclick=\"convertToInteractive('df-68c18c43-67c2-407a-9231-b2c5fddfd83d')\"\n",
              "              title=\"Convert this dataframe to an interactive table.\"\n",
              "              style=\"display:none;\">\n",
              "        \n",
              "  <svg xmlns=\"http://www.w3.org/2000/svg\" height=\"24px\"viewBox=\"0 0 24 24\"\n",
              "       width=\"24px\">\n",
              "    <path d=\"M0 0h24v24H0V0z\" fill=\"none\"/>\n",
              "    <path d=\"M18.56 5.44l.94 2.06.94-2.06 2.06-.94-2.06-.94-.94-2.06-.94 2.06-2.06.94zm-11 1L8.5 8.5l.94-2.06 2.06-.94-2.06-.94L8.5 2.5l-.94 2.06-2.06.94zm10 10l.94 2.06.94-2.06 2.06-.94-2.06-.94-.94-2.06-.94 2.06-2.06.94z\"/><path d=\"M17.41 7.96l-1.37-1.37c-.4-.4-.92-.59-1.43-.59-.52 0-1.04.2-1.43.59L10.3 9.45l-7.72 7.72c-.78.78-.78 2.05 0 2.83L4 21.41c.39.39.9.59 1.41.59.51 0 1.02-.2 1.41-.59l7.78-7.78 2.81-2.81c.8-.78.8-2.07 0-2.86zM5.41 20L4 18.59l7.72-7.72 1.47 1.35L5.41 20z\"/>\n",
              "  </svg>\n",
              "      </button>\n",
              "      \n",
              "  <style>\n",
              "    .colab-df-container {\n",
              "      display:flex;\n",
              "      flex-wrap:wrap;\n",
              "      gap: 12px;\n",
              "    }\n",
              "\n",
              "    .colab-df-convert {\n",
              "      background-color: #E8F0FE;\n",
              "      border: none;\n",
              "      border-radius: 50%;\n",
              "      cursor: pointer;\n",
              "      display: none;\n",
              "      fill: #1967D2;\n",
              "      height: 32px;\n",
              "      padding: 0 0 0 0;\n",
              "      width: 32px;\n",
              "    }\n",
              "\n",
              "    .colab-df-convert:hover {\n",
              "      background-color: #E2EBFA;\n",
              "      box-shadow: 0px 1px 2px rgba(60, 64, 67, 0.3), 0px 1px 3px 1px rgba(60, 64, 67, 0.15);\n",
              "      fill: #174EA6;\n",
              "    }\n",
              "\n",
              "    [theme=dark] .colab-df-convert {\n",
              "      background-color: #3B4455;\n",
              "      fill: #D2E3FC;\n",
              "    }\n",
              "\n",
              "    [theme=dark] .colab-df-convert:hover {\n",
              "      background-color: #434B5C;\n",
              "      box-shadow: 0px 1px 3px 1px rgba(0, 0, 0, 0.15);\n",
              "      filter: drop-shadow(0px 1px 2px rgba(0, 0, 0, 0.3));\n",
              "      fill: #FFFFFF;\n",
              "    }\n",
              "  </style>\n",
              "\n",
              "      <script>\n",
              "        const buttonEl =\n",
              "          document.querySelector('#df-68c18c43-67c2-407a-9231-b2c5fddfd83d button.colab-df-convert');\n",
              "        buttonEl.style.display =\n",
              "          google.colab.kernel.accessAllowed ? 'block' : 'none';\n",
              "\n",
              "        async function convertToInteractive(key) {\n",
              "          const element = document.querySelector('#df-68c18c43-67c2-407a-9231-b2c5fddfd83d');\n",
              "          const dataTable =\n",
              "            await google.colab.kernel.invokeFunction('convertToInteractive',\n",
              "                                                     [key], {});\n",
              "          if (!dataTable) return;\n",
              "\n",
              "          const docLinkHtml = 'Like what you see? Visit the ' +\n",
              "            '<a target=\"_blank\" href=https://colab.research.google.com/notebooks/data_table.ipynb>data table notebook</a>'\n",
              "            + ' to learn more about interactive tables.';\n",
              "          element.innerHTML = '';\n",
              "          dataTable['output_type'] = 'display_data';\n",
              "          await google.colab.output.renderOutput(dataTable, element);\n",
              "          const docLink = document.createElement('div');\n",
              "          docLink.innerHTML = docLinkHtml;\n",
              "          element.appendChild(docLink);\n",
              "        }\n",
              "      </script>\n",
              "    </div>\n",
              "  </div>\n",
              "  "
            ]
          },
          "metadata": {},
          "execution_count": 262
        }
      ],
      "source": [
        "df.groupby('clusters').mean()"
      ]
    },
    {
      "cell_type": "code",
      "source": [],
      "metadata": {
        "id": "WhvczWzsjaUA"
      },
      "execution_count": null,
      "outputs": []
    },
    {
      "cell_type": "code",
      "source": [
        "df2=df[df['clusters']==5]\n",
        "df3=df[df['clusters']==5]"
      ],
      "metadata": {
        "id": "iPJLtx3wjaQc"
      },
      "execution_count": null,
      "outputs": []
    },
    {
      "cell_type": "code",
      "source": [
        "df2.describe(percentiles=[.10,.25,.50,.75,.80,.85])"
      ],
      "metadata": {
        "colab": {
          "base_uri": "https://localhost:8080/",
          "height": 394
        },
        "id": "bFeVedk6jaGc",
        "outputId": "e2321f02-97bf-4c89-a77b-a496dc8a3de8"
      },
      "execution_count": null,
      "outputs": [
        {
          "output_type": "execute_result",
          "data": {
            "text/plain": [
              "       Ad - Length    Ad- Width        Ad Size  Available_Impressions  \\\n",
              "count  3338.000000  3338.000000    3338.000000           3.338000e+03   \n",
              "mean    486.291192   193.190533   75234.140204           1.170445e+07   \n",
              "std     209.260476   108.634592   20305.598536           6.824631e+06   \n",
              "min     300.000000    90.000000   65520.000000           3.770909e+06   \n",
              "10%     300.000000    90.000000   65520.000000           5.137273e+06   \n",
              "25%     300.000000    90.000000   65520.000000           6.021794e+06   \n",
              "50%     336.000000   250.000000   75000.000000           8.205848e+06   \n",
              "75%     728.000000   250.000000   75000.000000           1.808268e+07   \n",
              "80%     728.000000   250.000000   75000.000000           1.964308e+07   \n",
              "85%     728.000000   250.000000   75000.000000           2.117874e+07   \n",
              "max     728.000000   600.000000  180000.000000           2.759286e+07   \n",
              "\n",
              "       Matched_Queries   Impressions        Clicks         Spend          Fee  \\\n",
              "count     3.338000e+03  3.338000e+03   3338.000000   3338.000000  3338.000000   \n",
              "mean      6.337908e+06  6.132361e+06  12534.271120   9673.524311     0.281941   \n",
              "std       3.444029e+06  3.300186e+06   5909.729378   5893.376461     0.042461   \n",
              "min       1.995587e+06  1.855183e+06   2809.000000   2469.020000     0.210000   \n",
              "10%       3.106902e+06  3.035020e+06   6790.700000   4286.906000     0.230000   \n",
              "25%       3.458652e+06  3.377550e+06   7830.750000   4767.517500     0.230000   \n",
              "50%       4.436330e+06  4.319970e+06   9931.500000   5799.840000     0.300000   \n",
              "75%       9.843283e+06  9.457141e+06  18272.250000  15568.340000     0.330000   \n",
              "80%       1.051622e+07  1.012611e+07  19474.800000  16466.788000     0.330000   \n",
              "85%       1.114011e+07  1.074522e+07  20547.100000  17503.467500     0.330000   \n",
              "max       1.470202e+07  1.419477e+07  28734.000000  26931.870000     0.350000   \n",
              "\n",
              "            Revenue          CTR          CPM          CPC  clusters  \n",
              "count   3338.000000  3338.000000  3338.000000  3338.000000    3338.0  \n",
              "mean    7186.205077     0.213804     1.540024     0.752672       5.0  \n",
              "std     4750.148312     0.035027     0.307503     0.244624       0.0  \n",
              "min     1604.860000     0.113154     0.851990     0.292810       5.0  \n",
              "10%     2872.231000     0.166195     1.154425     0.480552       5.0  \n",
              "25%     3194.240000     0.189746     1.320623     0.560580       5.0  \n",
              "50%     4059.890000     0.219225     1.515168     0.738168       5.0  \n",
              "75%    11987.622500     0.240950     1.716925     0.867860       5.0  \n",
              "80%    12679.428000     0.245378     1.771551     0.910666       5.0  \n",
              "85%    13477.670500     0.250314     1.852853     0.980557       5.0  \n",
              "max    21276.180000     0.477096     2.516581     1.801030       5.0  "
            ],
            "text/html": [
              "\n",
              "  <div id=\"df-1b79478a-f0be-4741-aaf5-ede22cca6419\">\n",
              "    <div class=\"colab-df-container\">\n",
              "      <div>\n",
              "<style scoped>\n",
              "    .dataframe tbody tr th:only-of-type {\n",
              "        vertical-align: middle;\n",
              "    }\n",
              "\n",
              "    .dataframe tbody tr th {\n",
              "        vertical-align: top;\n",
              "    }\n",
              "\n",
              "    .dataframe thead th {\n",
              "        text-align: right;\n",
              "    }\n",
              "</style>\n",
              "<table border=\"1\" class=\"dataframe\">\n",
              "  <thead>\n",
              "    <tr style=\"text-align: right;\">\n",
              "      <th></th>\n",
              "      <th>Ad - Length</th>\n",
              "      <th>Ad- Width</th>\n",
              "      <th>Ad Size</th>\n",
              "      <th>Available_Impressions</th>\n",
              "      <th>Matched_Queries</th>\n",
              "      <th>Impressions</th>\n",
              "      <th>Clicks</th>\n",
              "      <th>Spend</th>\n",
              "      <th>Fee</th>\n",
              "      <th>Revenue</th>\n",
              "      <th>CTR</th>\n",
              "      <th>CPM</th>\n",
              "      <th>CPC</th>\n",
              "      <th>clusters</th>\n",
              "    </tr>\n",
              "  </thead>\n",
              "  <tbody>\n",
              "    <tr>\n",
              "      <th>count</th>\n",
              "      <td>3338.000000</td>\n",
              "      <td>3338.000000</td>\n",
              "      <td>3338.000000</td>\n",
              "      <td>3.338000e+03</td>\n",
              "      <td>3.338000e+03</td>\n",
              "      <td>3.338000e+03</td>\n",
              "      <td>3338.000000</td>\n",
              "      <td>3338.000000</td>\n",
              "      <td>3338.000000</td>\n",
              "      <td>3338.000000</td>\n",
              "      <td>3338.000000</td>\n",
              "      <td>3338.000000</td>\n",
              "      <td>3338.000000</td>\n",
              "      <td>3338.0</td>\n",
              "    </tr>\n",
              "    <tr>\n",
              "      <th>mean</th>\n",
              "      <td>486.291192</td>\n",
              "      <td>193.190533</td>\n",
              "      <td>75234.140204</td>\n",
              "      <td>1.170445e+07</td>\n",
              "      <td>6.337908e+06</td>\n",
              "      <td>6.132361e+06</td>\n",
              "      <td>12534.271120</td>\n",
              "      <td>9673.524311</td>\n",
              "      <td>0.281941</td>\n",
              "      <td>7186.205077</td>\n",
              "      <td>0.213804</td>\n",
              "      <td>1.540024</td>\n",
              "      <td>0.752672</td>\n",
              "      <td>5.0</td>\n",
              "    </tr>\n",
              "    <tr>\n",
              "      <th>std</th>\n",
              "      <td>209.260476</td>\n",
              "      <td>108.634592</td>\n",
              "      <td>20305.598536</td>\n",
              "      <td>6.824631e+06</td>\n",
              "      <td>3.444029e+06</td>\n",
              "      <td>3.300186e+06</td>\n",
              "      <td>5909.729378</td>\n",
              "      <td>5893.376461</td>\n",
              "      <td>0.042461</td>\n",
              "      <td>4750.148312</td>\n",
              "      <td>0.035027</td>\n",
              "      <td>0.307503</td>\n",
              "      <td>0.244624</td>\n",
              "      <td>0.0</td>\n",
              "    </tr>\n",
              "    <tr>\n",
              "      <th>min</th>\n",
              "      <td>300.000000</td>\n",
              "      <td>90.000000</td>\n",
              "      <td>65520.000000</td>\n",
              "      <td>3.770909e+06</td>\n",
              "      <td>1.995587e+06</td>\n",
              "      <td>1.855183e+06</td>\n",
              "      <td>2809.000000</td>\n",
              "      <td>2469.020000</td>\n",
              "      <td>0.210000</td>\n",
              "      <td>1604.860000</td>\n",
              "      <td>0.113154</td>\n",
              "      <td>0.851990</td>\n",
              "      <td>0.292810</td>\n",
              "      <td>5.0</td>\n",
              "    </tr>\n",
              "    <tr>\n",
              "      <th>10%</th>\n",
              "      <td>300.000000</td>\n",
              "      <td>90.000000</td>\n",
              "      <td>65520.000000</td>\n",
              "      <td>5.137273e+06</td>\n",
              "      <td>3.106902e+06</td>\n",
              "      <td>3.035020e+06</td>\n",
              "      <td>6790.700000</td>\n",
              "      <td>4286.906000</td>\n",
              "      <td>0.230000</td>\n",
              "      <td>2872.231000</td>\n",
              "      <td>0.166195</td>\n",
              "      <td>1.154425</td>\n",
              "      <td>0.480552</td>\n",
              "      <td>5.0</td>\n",
              "    </tr>\n",
              "    <tr>\n",
              "      <th>25%</th>\n",
              "      <td>300.000000</td>\n",
              "      <td>90.000000</td>\n",
              "      <td>65520.000000</td>\n",
              "      <td>6.021794e+06</td>\n",
              "      <td>3.458652e+06</td>\n",
              "      <td>3.377550e+06</td>\n",
              "      <td>7830.750000</td>\n",
              "      <td>4767.517500</td>\n",
              "      <td>0.230000</td>\n",
              "      <td>3194.240000</td>\n",
              "      <td>0.189746</td>\n",
              "      <td>1.320623</td>\n",
              "      <td>0.560580</td>\n",
              "      <td>5.0</td>\n",
              "    </tr>\n",
              "    <tr>\n",
              "      <th>50%</th>\n",
              "      <td>336.000000</td>\n",
              "      <td>250.000000</td>\n",
              "      <td>75000.000000</td>\n",
              "      <td>8.205848e+06</td>\n",
              "      <td>4.436330e+06</td>\n",
              "      <td>4.319970e+06</td>\n",
              "      <td>9931.500000</td>\n",
              "      <td>5799.840000</td>\n",
              "      <td>0.300000</td>\n",
              "      <td>4059.890000</td>\n",
              "      <td>0.219225</td>\n",
              "      <td>1.515168</td>\n",
              "      <td>0.738168</td>\n",
              "      <td>5.0</td>\n",
              "    </tr>\n",
              "    <tr>\n",
              "      <th>75%</th>\n",
              "      <td>728.000000</td>\n",
              "      <td>250.000000</td>\n",
              "      <td>75000.000000</td>\n",
              "      <td>1.808268e+07</td>\n",
              "      <td>9.843283e+06</td>\n",
              "      <td>9.457141e+06</td>\n",
              "      <td>18272.250000</td>\n",
              "      <td>15568.340000</td>\n",
              "      <td>0.330000</td>\n",
              "      <td>11987.622500</td>\n",
              "      <td>0.240950</td>\n",
              "      <td>1.716925</td>\n",
              "      <td>0.867860</td>\n",
              "      <td>5.0</td>\n",
              "    </tr>\n",
              "    <tr>\n",
              "      <th>80%</th>\n",
              "      <td>728.000000</td>\n",
              "      <td>250.000000</td>\n",
              "      <td>75000.000000</td>\n",
              "      <td>1.964308e+07</td>\n",
              "      <td>1.051622e+07</td>\n",
              "      <td>1.012611e+07</td>\n",
              "      <td>19474.800000</td>\n",
              "      <td>16466.788000</td>\n",
              "      <td>0.330000</td>\n",
              "      <td>12679.428000</td>\n",
              "      <td>0.245378</td>\n",
              "      <td>1.771551</td>\n",
              "      <td>0.910666</td>\n",
              "      <td>5.0</td>\n",
              "    </tr>\n",
              "    <tr>\n",
              "      <th>85%</th>\n",
              "      <td>728.000000</td>\n",
              "      <td>250.000000</td>\n",
              "      <td>75000.000000</td>\n",
              "      <td>2.117874e+07</td>\n",
              "      <td>1.114011e+07</td>\n",
              "      <td>1.074522e+07</td>\n",
              "      <td>20547.100000</td>\n",
              "      <td>17503.467500</td>\n",
              "      <td>0.330000</td>\n",
              "      <td>13477.670500</td>\n",
              "      <td>0.250314</td>\n",
              "      <td>1.852853</td>\n",
              "      <td>0.980557</td>\n",
              "      <td>5.0</td>\n",
              "    </tr>\n",
              "    <tr>\n",
              "      <th>max</th>\n",
              "      <td>728.000000</td>\n",
              "      <td>600.000000</td>\n",
              "      <td>180000.000000</td>\n",
              "      <td>2.759286e+07</td>\n",
              "      <td>1.470202e+07</td>\n",
              "      <td>1.419477e+07</td>\n",
              "      <td>28734.000000</td>\n",
              "      <td>26931.870000</td>\n",
              "      <td>0.350000</td>\n",
              "      <td>21276.180000</td>\n",
              "      <td>0.477096</td>\n",
              "      <td>2.516581</td>\n",
              "      <td>1.801030</td>\n",
              "      <td>5.0</td>\n",
              "    </tr>\n",
              "  </tbody>\n",
              "</table>\n",
              "</div>\n",
              "      <button class=\"colab-df-convert\" onclick=\"convertToInteractive('df-1b79478a-f0be-4741-aaf5-ede22cca6419')\"\n",
              "              title=\"Convert this dataframe to an interactive table.\"\n",
              "              style=\"display:none;\">\n",
              "        \n",
              "  <svg xmlns=\"http://www.w3.org/2000/svg\" height=\"24px\"viewBox=\"0 0 24 24\"\n",
              "       width=\"24px\">\n",
              "    <path d=\"M0 0h24v24H0V0z\" fill=\"none\"/>\n",
              "    <path d=\"M18.56 5.44l.94 2.06.94-2.06 2.06-.94-2.06-.94-.94-2.06-.94 2.06-2.06.94zm-11 1L8.5 8.5l.94-2.06 2.06-.94-2.06-.94L8.5 2.5l-.94 2.06-2.06.94zm10 10l.94 2.06.94-2.06 2.06-.94-2.06-.94-.94-2.06-.94 2.06-2.06.94z\"/><path d=\"M17.41 7.96l-1.37-1.37c-.4-.4-.92-.59-1.43-.59-.52 0-1.04.2-1.43.59L10.3 9.45l-7.72 7.72c-.78.78-.78 2.05 0 2.83L4 21.41c.39.39.9.59 1.41.59.51 0 1.02-.2 1.41-.59l7.78-7.78 2.81-2.81c.8-.78.8-2.07 0-2.86zM5.41 20L4 18.59l7.72-7.72 1.47 1.35L5.41 20z\"/>\n",
              "  </svg>\n",
              "      </button>\n",
              "      \n",
              "  <style>\n",
              "    .colab-df-container {\n",
              "      display:flex;\n",
              "      flex-wrap:wrap;\n",
              "      gap: 12px;\n",
              "    }\n",
              "\n",
              "    .colab-df-convert {\n",
              "      background-color: #E8F0FE;\n",
              "      border: none;\n",
              "      border-radius: 50%;\n",
              "      cursor: pointer;\n",
              "      display: none;\n",
              "      fill: #1967D2;\n",
              "      height: 32px;\n",
              "      padding: 0 0 0 0;\n",
              "      width: 32px;\n",
              "    }\n",
              "\n",
              "    .colab-df-convert:hover {\n",
              "      background-color: #E2EBFA;\n",
              "      box-shadow: 0px 1px 2px rgba(60, 64, 67, 0.3), 0px 1px 3px 1px rgba(60, 64, 67, 0.15);\n",
              "      fill: #174EA6;\n",
              "    }\n",
              "\n",
              "    [theme=dark] .colab-df-convert {\n",
              "      background-color: #3B4455;\n",
              "      fill: #D2E3FC;\n",
              "    }\n",
              "\n",
              "    [theme=dark] .colab-df-convert:hover {\n",
              "      background-color: #434B5C;\n",
              "      box-shadow: 0px 1px 3px 1px rgba(0, 0, 0, 0.15);\n",
              "      filter: drop-shadow(0px 1px 2px rgba(0, 0, 0, 0.3));\n",
              "      fill: #FFFFFF;\n",
              "    }\n",
              "  </style>\n",
              "\n",
              "      <script>\n",
              "        const buttonEl =\n",
              "          document.querySelector('#df-1b79478a-f0be-4741-aaf5-ede22cca6419 button.colab-df-convert');\n",
              "        buttonEl.style.display =\n",
              "          google.colab.kernel.accessAllowed ? 'block' : 'none';\n",
              "\n",
              "        async function convertToInteractive(key) {\n",
              "          const element = document.querySelector('#df-1b79478a-f0be-4741-aaf5-ede22cca6419');\n",
              "          const dataTable =\n",
              "            await google.colab.kernel.invokeFunction('convertToInteractive',\n",
              "                                                     [key], {});\n",
              "          if (!dataTable) return;\n",
              "\n",
              "          const docLinkHtml = 'Like what you see? Visit the ' +\n",
              "            '<a target=\"_blank\" href=https://colab.research.google.com/notebooks/data_table.ipynb>data table notebook</a>'\n",
              "            + ' to learn more about interactive tables.';\n",
              "          element.innerHTML = '';\n",
              "          dataTable['output_type'] = 'display_data';\n",
              "          await google.colab.output.renderOutput(dataTable, element);\n",
              "          const docLink = document.createElement('div');\n",
              "          docLink.innerHTML = docLinkHtml;\n",
              "          element.appendChild(docLink);\n",
              "        }\n",
              "      </script>\n",
              "    </div>\n",
              "  </div>\n",
              "  "
            ]
          },
          "metadata": {},
          "execution_count": 279
        }
      ]
    },
    {
      "cell_type": "code",
      "source": [
        "df3.describe(percentiles=[.10,.25,.50,.75,.80,.85,.90])"
      ],
      "metadata": {
        "colab": {
          "base_uri": "https://localhost:8080/",
          "height": 426
        },
        "id": "05q--h_7jaAL",
        "outputId": "33052177-8aff-4289-9b48-fbb2128e1d36"
      },
      "execution_count": null,
      "outputs": [
        {
          "output_type": "execute_result",
          "data": {
            "text/plain": [
              "       Ad - Length    Ad- Width        Ad Size  Available_Impressions  \\\n",
              "count  3338.000000  3338.000000    3338.000000           3.338000e+03   \n",
              "mean    486.291192   193.190533   75234.140204           1.170445e+07   \n",
              "std     209.260476   108.634592   20305.598536           6.824631e+06   \n",
              "min     300.000000    90.000000   65520.000000           3.770909e+06   \n",
              "10%     300.000000    90.000000   65520.000000           5.137273e+06   \n",
              "25%     300.000000    90.000000   65520.000000           6.021794e+06   \n",
              "50%     336.000000   250.000000   75000.000000           8.205848e+06   \n",
              "75%     728.000000   250.000000   75000.000000           1.808268e+07   \n",
              "80%     728.000000   250.000000   75000.000000           1.964308e+07   \n",
              "85%     728.000000   250.000000   75000.000000           2.117874e+07   \n",
              "90%     728.000000   250.000000   84000.000000           2.252755e+07   \n",
              "max     728.000000   600.000000  180000.000000           2.759286e+07   \n",
              "\n",
              "       Matched_Queries   Impressions        Clicks         Spend          Fee  \\\n",
              "count     3.338000e+03  3.338000e+03   3338.000000   3338.000000  3338.000000   \n",
              "mean      6.337908e+06  6.132361e+06  12534.271120   9673.524311     0.281941   \n",
              "std       3.444029e+06  3.300186e+06   5909.729378   5893.376461     0.042461   \n",
              "min       1.995587e+06  1.855183e+06   2809.000000   2469.020000     0.210000   \n",
              "10%       3.106902e+06  3.035020e+06   6790.700000   4286.906000     0.230000   \n",
              "25%       3.458652e+06  3.377550e+06   7830.750000   4767.517500     0.230000   \n",
              "50%       4.436330e+06  4.319970e+06   9931.500000   5799.840000     0.300000   \n",
              "75%       9.843283e+06  9.457141e+06  18272.250000  15568.340000     0.330000   \n",
              "80%       1.051622e+07  1.012611e+07  19474.800000  16466.788000     0.330000   \n",
              "85%       1.114011e+07  1.074522e+07  20547.100000  17503.467500     0.330000   \n",
              "90%       1.169533e+07  1.128497e+07  21560.300000  18702.422000     0.330000   \n",
              "max       1.470202e+07  1.419477e+07  28734.000000  26931.870000     0.350000   \n",
              "\n",
              "            Revenue          CTR          CPM          CPC  clusters  \n",
              "count   3338.000000  3338.000000  3338.000000  3338.000000    3338.0  \n",
              "mean    7186.205077     0.213804     1.540024     0.752672       5.0  \n",
              "std     4750.148312     0.035027     0.307503     0.244624       0.0  \n",
              "min     1604.860000     0.113154     0.851990     0.292810       5.0  \n",
              "10%     2872.231000     0.166195     1.154425     0.480552       5.0  \n",
              "25%     3194.240000     0.189746     1.320623     0.560580       5.0  \n",
              "50%     4059.890000     0.219225     1.515168     0.738168       5.0  \n",
              "75%    11987.622500     0.240950     1.716925     0.867860       5.0  \n",
              "80%    12679.428000     0.245378     1.771551     0.910666       5.0  \n",
              "85%    13477.670500     0.250314     1.852853     0.980557       5.0  \n",
              "90%    14400.870000     0.255717     1.977098     1.103831       5.0  \n",
              "max    21276.180000     0.477096     2.516581     1.801030       5.0  "
            ],
            "text/html": [
              "\n",
              "  <div id=\"df-025babb6-7bfe-4fc9-8a71-85a410e2ed43\">\n",
              "    <div class=\"colab-df-container\">\n",
              "      <div>\n",
              "<style scoped>\n",
              "    .dataframe tbody tr th:only-of-type {\n",
              "        vertical-align: middle;\n",
              "    }\n",
              "\n",
              "    .dataframe tbody tr th {\n",
              "        vertical-align: top;\n",
              "    }\n",
              "\n",
              "    .dataframe thead th {\n",
              "        text-align: right;\n",
              "    }\n",
              "</style>\n",
              "<table border=\"1\" class=\"dataframe\">\n",
              "  <thead>\n",
              "    <tr style=\"text-align: right;\">\n",
              "      <th></th>\n",
              "      <th>Ad - Length</th>\n",
              "      <th>Ad- Width</th>\n",
              "      <th>Ad Size</th>\n",
              "      <th>Available_Impressions</th>\n",
              "      <th>Matched_Queries</th>\n",
              "      <th>Impressions</th>\n",
              "      <th>Clicks</th>\n",
              "      <th>Spend</th>\n",
              "      <th>Fee</th>\n",
              "      <th>Revenue</th>\n",
              "      <th>CTR</th>\n",
              "      <th>CPM</th>\n",
              "      <th>CPC</th>\n",
              "      <th>clusters</th>\n",
              "    </tr>\n",
              "  </thead>\n",
              "  <tbody>\n",
              "    <tr>\n",
              "      <th>count</th>\n",
              "      <td>3338.000000</td>\n",
              "      <td>3338.000000</td>\n",
              "      <td>3338.000000</td>\n",
              "      <td>3.338000e+03</td>\n",
              "      <td>3.338000e+03</td>\n",
              "      <td>3.338000e+03</td>\n",
              "      <td>3338.000000</td>\n",
              "      <td>3338.000000</td>\n",
              "      <td>3338.000000</td>\n",
              "      <td>3338.000000</td>\n",
              "      <td>3338.000000</td>\n",
              "      <td>3338.000000</td>\n",
              "      <td>3338.000000</td>\n",
              "      <td>3338.0</td>\n",
              "    </tr>\n",
              "    <tr>\n",
              "      <th>mean</th>\n",
              "      <td>486.291192</td>\n",
              "      <td>193.190533</td>\n",
              "      <td>75234.140204</td>\n",
              "      <td>1.170445e+07</td>\n",
              "      <td>6.337908e+06</td>\n",
              "      <td>6.132361e+06</td>\n",
              "      <td>12534.271120</td>\n",
              "      <td>9673.524311</td>\n",
              "      <td>0.281941</td>\n",
              "      <td>7186.205077</td>\n",
              "      <td>0.213804</td>\n",
              "      <td>1.540024</td>\n",
              "      <td>0.752672</td>\n",
              "      <td>5.0</td>\n",
              "    </tr>\n",
              "    <tr>\n",
              "      <th>std</th>\n",
              "      <td>209.260476</td>\n",
              "      <td>108.634592</td>\n",
              "      <td>20305.598536</td>\n",
              "      <td>6.824631e+06</td>\n",
              "      <td>3.444029e+06</td>\n",
              "      <td>3.300186e+06</td>\n",
              "      <td>5909.729378</td>\n",
              "      <td>5893.376461</td>\n",
              "      <td>0.042461</td>\n",
              "      <td>4750.148312</td>\n",
              "      <td>0.035027</td>\n",
              "      <td>0.307503</td>\n",
              "      <td>0.244624</td>\n",
              "      <td>0.0</td>\n",
              "    </tr>\n",
              "    <tr>\n",
              "      <th>min</th>\n",
              "      <td>300.000000</td>\n",
              "      <td>90.000000</td>\n",
              "      <td>65520.000000</td>\n",
              "      <td>3.770909e+06</td>\n",
              "      <td>1.995587e+06</td>\n",
              "      <td>1.855183e+06</td>\n",
              "      <td>2809.000000</td>\n",
              "      <td>2469.020000</td>\n",
              "      <td>0.210000</td>\n",
              "      <td>1604.860000</td>\n",
              "      <td>0.113154</td>\n",
              "      <td>0.851990</td>\n",
              "      <td>0.292810</td>\n",
              "      <td>5.0</td>\n",
              "    </tr>\n",
              "    <tr>\n",
              "      <th>10%</th>\n",
              "      <td>300.000000</td>\n",
              "      <td>90.000000</td>\n",
              "      <td>65520.000000</td>\n",
              "      <td>5.137273e+06</td>\n",
              "      <td>3.106902e+06</td>\n",
              "      <td>3.035020e+06</td>\n",
              "      <td>6790.700000</td>\n",
              "      <td>4286.906000</td>\n",
              "      <td>0.230000</td>\n",
              "      <td>2872.231000</td>\n",
              "      <td>0.166195</td>\n",
              "      <td>1.154425</td>\n",
              "      <td>0.480552</td>\n",
              "      <td>5.0</td>\n",
              "    </tr>\n",
              "    <tr>\n",
              "      <th>25%</th>\n",
              "      <td>300.000000</td>\n",
              "      <td>90.000000</td>\n",
              "      <td>65520.000000</td>\n",
              "      <td>6.021794e+06</td>\n",
              "      <td>3.458652e+06</td>\n",
              "      <td>3.377550e+06</td>\n",
              "      <td>7830.750000</td>\n",
              "      <td>4767.517500</td>\n",
              "      <td>0.230000</td>\n",
              "      <td>3194.240000</td>\n",
              "      <td>0.189746</td>\n",
              "      <td>1.320623</td>\n",
              "      <td>0.560580</td>\n",
              "      <td>5.0</td>\n",
              "    </tr>\n",
              "    <tr>\n",
              "      <th>50%</th>\n",
              "      <td>336.000000</td>\n",
              "      <td>250.000000</td>\n",
              "      <td>75000.000000</td>\n",
              "      <td>8.205848e+06</td>\n",
              "      <td>4.436330e+06</td>\n",
              "      <td>4.319970e+06</td>\n",
              "      <td>9931.500000</td>\n",
              "      <td>5799.840000</td>\n",
              "      <td>0.300000</td>\n",
              "      <td>4059.890000</td>\n",
              "      <td>0.219225</td>\n",
              "      <td>1.515168</td>\n",
              "      <td>0.738168</td>\n",
              "      <td>5.0</td>\n",
              "    </tr>\n",
              "    <tr>\n",
              "      <th>75%</th>\n",
              "      <td>728.000000</td>\n",
              "      <td>250.000000</td>\n",
              "      <td>75000.000000</td>\n",
              "      <td>1.808268e+07</td>\n",
              "      <td>9.843283e+06</td>\n",
              "      <td>9.457141e+06</td>\n",
              "      <td>18272.250000</td>\n",
              "      <td>15568.340000</td>\n",
              "      <td>0.330000</td>\n",
              "      <td>11987.622500</td>\n",
              "      <td>0.240950</td>\n",
              "      <td>1.716925</td>\n",
              "      <td>0.867860</td>\n",
              "      <td>5.0</td>\n",
              "    </tr>\n",
              "    <tr>\n",
              "      <th>80%</th>\n",
              "      <td>728.000000</td>\n",
              "      <td>250.000000</td>\n",
              "      <td>75000.000000</td>\n",
              "      <td>1.964308e+07</td>\n",
              "      <td>1.051622e+07</td>\n",
              "      <td>1.012611e+07</td>\n",
              "      <td>19474.800000</td>\n",
              "      <td>16466.788000</td>\n",
              "      <td>0.330000</td>\n",
              "      <td>12679.428000</td>\n",
              "      <td>0.245378</td>\n",
              "      <td>1.771551</td>\n",
              "      <td>0.910666</td>\n",
              "      <td>5.0</td>\n",
              "    </tr>\n",
              "    <tr>\n",
              "      <th>85%</th>\n",
              "      <td>728.000000</td>\n",
              "      <td>250.000000</td>\n",
              "      <td>75000.000000</td>\n",
              "      <td>2.117874e+07</td>\n",
              "      <td>1.114011e+07</td>\n",
              "      <td>1.074522e+07</td>\n",
              "      <td>20547.100000</td>\n",
              "      <td>17503.467500</td>\n",
              "      <td>0.330000</td>\n",
              "      <td>13477.670500</td>\n",
              "      <td>0.250314</td>\n",
              "      <td>1.852853</td>\n",
              "      <td>0.980557</td>\n",
              "      <td>5.0</td>\n",
              "    </tr>\n",
              "    <tr>\n",
              "      <th>90%</th>\n",
              "      <td>728.000000</td>\n",
              "      <td>250.000000</td>\n",
              "      <td>84000.000000</td>\n",
              "      <td>2.252755e+07</td>\n",
              "      <td>1.169533e+07</td>\n",
              "      <td>1.128497e+07</td>\n",
              "      <td>21560.300000</td>\n",
              "      <td>18702.422000</td>\n",
              "      <td>0.330000</td>\n",
              "      <td>14400.870000</td>\n",
              "      <td>0.255717</td>\n",
              "      <td>1.977098</td>\n",
              "      <td>1.103831</td>\n",
              "      <td>5.0</td>\n",
              "    </tr>\n",
              "    <tr>\n",
              "      <th>max</th>\n",
              "      <td>728.000000</td>\n",
              "      <td>600.000000</td>\n",
              "      <td>180000.000000</td>\n",
              "      <td>2.759286e+07</td>\n",
              "      <td>1.470202e+07</td>\n",
              "      <td>1.419477e+07</td>\n",
              "      <td>28734.000000</td>\n",
              "      <td>26931.870000</td>\n",
              "      <td>0.350000</td>\n",
              "      <td>21276.180000</td>\n",
              "      <td>0.477096</td>\n",
              "      <td>2.516581</td>\n",
              "      <td>1.801030</td>\n",
              "      <td>5.0</td>\n",
              "    </tr>\n",
              "  </tbody>\n",
              "</table>\n",
              "</div>\n",
              "      <button class=\"colab-df-convert\" onclick=\"convertToInteractive('df-025babb6-7bfe-4fc9-8a71-85a410e2ed43')\"\n",
              "              title=\"Convert this dataframe to an interactive table.\"\n",
              "              style=\"display:none;\">\n",
              "        \n",
              "  <svg xmlns=\"http://www.w3.org/2000/svg\" height=\"24px\"viewBox=\"0 0 24 24\"\n",
              "       width=\"24px\">\n",
              "    <path d=\"M0 0h24v24H0V0z\" fill=\"none\"/>\n",
              "    <path d=\"M18.56 5.44l.94 2.06.94-2.06 2.06-.94-2.06-.94-.94-2.06-.94 2.06-2.06.94zm-11 1L8.5 8.5l.94-2.06 2.06-.94-2.06-.94L8.5 2.5l-.94 2.06-2.06.94zm10 10l.94 2.06.94-2.06 2.06-.94-2.06-.94-.94-2.06-.94 2.06-2.06.94z\"/><path d=\"M17.41 7.96l-1.37-1.37c-.4-.4-.92-.59-1.43-.59-.52 0-1.04.2-1.43.59L10.3 9.45l-7.72 7.72c-.78.78-.78 2.05 0 2.83L4 21.41c.39.39.9.59 1.41.59.51 0 1.02-.2 1.41-.59l7.78-7.78 2.81-2.81c.8-.78.8-2.07 0-2.86zM5.41 20L4 18.59l7.72-7.72 1.47 1.35L5.41 20z\"/>\n",
              "  </svg>\n",
              "      </button>\n",
              "      \n",
              "  <style>\n",
              "    .colab-df-container {\n",
              "      display:flex;\n",
              "      flex-wrap:wrap;\n",
              "      gap: 12px;\n",
              "    }\n",
              "\n",
              "    .colab-df-convert {\n",
              "      background-color: #E8F0FE;\n",
              "      border: none;\n",
              "      border-radius: 50%;\n",
              "      cursor: pointer;\n",
              "      display: none;\n",
              "      fill: #1967D2;\n",
              "      height: 32px;\n",
              "      padding: 0 0 0 0;\n",
              "      width: 32px;\n",
              "    }\n",
              "\n",
              "    .colab-df-convert:hover {\n",
              "      background-color: #E2EBFA;\n",
              "      box-shadow: 0px 1px 2px rgba(60, 64, 67, 0.3), 0px 1px 3px 1px rgba(60, 64, 67, 0.15);\n",
              "      fill: #174EA6;\n",
              "    }\n",
              "\n",
              "    [theme=dark] .colab-df-convert {\n",
              "      background-color: #3B4455;\n",
              "      fill: #D2E3FC;\n",
              "    }\n",
              "\n",
              "    [theme=dark] .colab-df-convert:hover {\n",
              "      background-color: #434B5C;\n",
              "      box-shadow: 0px 1px 3px 1px rgba(0, 0, 0, 0.15);\n",
              "      filter: drop-shadow(0px 1px 2px rgba(0, 0, 0, 0.3));\n",
              "      fill: #FFFFFF;\n",
              "    }\n",
              "  </style>\n",
              "\n",
              "      <script>\n",
              "        const buttonEl =\n",
              "          document.querySelector('#df-025babb6-7bfe-4fc9-8a71-85a410e2ed43 button.colab-df-convert');\n",
              "        buttonEl.style.display =\n",
              "          google.colab.kernel.accessAllowed ? 'block' : 'none';\n",
              "\n",
              "        async function convertToInteractive(key) {\n",
              "          const element = document.querySelector('#df-025babb6-7bfe-4fc9-8a71-85a410e2ed43');\n",
              "          const dataTable =\n",
              "            await google.colab.kernel.invokeFunction('convertToInteractive',\n",
              "                                                     [key], {});\n",
              "          if (!dataTable) return;\n",
              "\n",
              "          const docLinkHtml = 'Like what you see? Visit the ' +\n",
              "            '<a target=\"_blank\" href=https://colab.research.google.com/notebooks/data_table.ipynb>data table notebook</a>'\n",
              "            + ' to learn more about interactive tables.';\n",
              "          element.innerHTML = '';\n",
              "          dataTable['output_type'] = 'display_data';\n",
              "          await google.colab.output.renderOutput(dataTable, element);\n",
              "          const docLink = document.createElement('div');\n",
              "          docLink.innerHTML = docLinkHtml;\n",
              "          element.appendChild(docLink);\n",
              "        }\n",
              "      </script>\n",
              "    </div>\n",
              "  </div>\n",
              "  "
            ]
          },
          "metadata": {},
          "execution_count": 269
        }
      ]
    },
    {
      "cell_type": "code",
      "source": [],
      "metadata": {
        "id": "uyl58mgvjZ8y"
      },
      "execution_count": null,
      "outputs": []
    },
    {
      "cell_type": "code",
      "source": [
        "df.columns"
      ],
      "metadata": {
        "colab": {
          "base_uri": "https://localhost:8080/"
        },
        "id": "wXQMTS_XBM37",
        "outputId": "f8bbaeed-4f4b-4eff-eb32-d59e18e84c12"
      },
      "execution_count": null,
      "outputs": [
        {
          "output_type": "execute_result",
          "data": {
            "text/plain": [
              "Index(['Timestamp', 'InventoryType', 'Ad - Length', 'Ad- Width', 'Ad Size',\n",
              "       'Ad Type', 'Platform', 'Device Type', 'Format', 'Available_Impressions',\n",
              "       'Matched_Queries', 'Impressions', 'Clicks', 'Spend', 'Fee', 'Revenue',\n",
              "       'CTR', 'CPM', 'CPC', 'clusters'],\n",
              "      dtype='object')"
            ]
          },
          "metadata": {},
          "execution_count": 190
        }
      ]
    },
    {
      "cell_type": "code",
      "execution_count": null,
      "metadata": {
        "id": "sGvjaArfParl",
        "colab": {
          "base_uri": "https://localhost:8080/",
          "height": 1000
        },
        "outputId": "bb96574f-0293-4f85-8846-931aa4c4eeef"
      },
      "outputs": [
        {
          "output_type": "display_data",
          "data": {
            "text/plain": [
              "<Figure size 432x288 with 1 Axes>"
            ],
            "image/png": "[encoded data removed]"
          },
          "metadata": {
            "needs_background": "light"
          }
        },
        {
          "output_type": "display_data",
          "data": {
            "text/plain": [
              "<Figure size 432x288 with 1 Axes>"
            ],
            "image/png": "[encoded data removed]"
          },
          "metadata": {
            "needs_background": "light"
          }
        },
        {
          "output_type": "display_data",
          "data": {
            "text/plain": [
              "<Figure size 432x288 with 1 Axes>"
            ],
            "image/png": "[encoded data removed]"
          },
          "metadata": {
            "needs_background": "light"
          }
        },
        {
          "output_type": "display_data",
          "data": {
            "text/plain": [
              "<Figure size 432x288 with 1 Axes>"
            ],
            "image/png": "[encoded data removed]"
          },
          "metadata": {
            "needs_background": "light"
          }
        },
        {
          "output_type": "display_data",
          "data": {
            "text/plain": [
              "<Figure size 432x288 with 1 Axes>"
            ],
            "image/png": "[encoded data removed]"
          },
          "metadata": {
            "needs_background": "light"
          }
        },
        {
          "output_type": "display_data",
          "data": {
            "text/plain": [
              "<Figure size 432x288 with 1 Axes>"
            ],
            "image/png": "[encoded data removed]"
          },
          "metadata": {
            "needs_background": "light"
          }
        },
        {
          "output_type": "display_data",
          "data": {
            "text/plain": [
              "<Figure size 432x288 with 1 Axes>"
            ],
            "image/png": "[encoded data removed]"
          },
          "metadata": {
            "needs_background": "light"
          }
        }
      ],
      "source": [
        "cols_visualise = ['Clicks', 'Spend', 'Fee', 'Revenue',\n",
        "       'CTR', 'CPM', 'CPC']\n",
        "\n",
        "for col in cols_visualise:\n",
        "    sns.boxplot(x = 'clusters', y = col, data = df)\n",
        "    plt.show()"
      ]
    },
    {
      "cell_type": "code",
      "execution_count": null,
      "metadata": {
        "id": "hTGI1EEAPaoN"
      },
      "outputs": [],
      "source": []
    },
    {
      "cell_type": "code",
      "execution_count": null,
      "metadata": {
        "id": "U4N49QDOPalP"
      },
      "outputs": [],
      "source": []
    },
    {
      "cell_type": "code",
      "execution_count": null,
      "metadata": {
        "id": "a95rKQJPPacU"
      },
      "outputs": [],
      "source": []
    },
    {
      "cell_type": "code",
      "execution_count": null,
      "metadata": {
        "id": "F4Hns2U4QzCy"
      },
      "outputs": [],
      "source": [
        "wss=[]"
      ]
    },
    {
      "cell_type": "code",
      "execution_count": null,
      "metadata": {
        "id": "ZDDmCSvqQT-i"
      },
      "outputs": [],
      "source": [
        "for i in range(1,11):\n",
        "    KM = KMeans(n_clusters=i)\n",
        "    KM.fit(df_num_scaled)\n",
        "    wss.append(KM.inertia_)"
      ]
    },
    {
      "cell_type": "code",
      "execution_count": null,
      "metadata": {
        "id": "n5W33G71Puvk"
      },
      "outputs": [],
      "source": []
    },
    {
      "cell_type": "code",
      "execution_count": null,
      "metadata": {
        "colab": {
          "base_uri": "https://localhost:8080/"
        },
        "id": "-JWqhISgQ5ml",
        "outputId": "28762ba5-10da-463d-af6a-0b4a69c090f9"
      },
      "outputs": [
        {
          "data": {
            "text/plain": [
              "[299857.9999999997,\n",
              " 185050.3041263554,\n",
              " 130170.52762608045,\n",
              " 92547.51769870284,\n",
              " 58793.284302754095,\n",
              " 49128.65346558434,\n",
              " 44024.84954409239,\n",
              " 39545.811318625376,\n",
              " 35658.30862193047,\n",
              " 32174.15592695886]"
            ]
          },
          "execution_count": 66,
          "metadata": {},
          "output_type": "execute_result"
        }
      ],
      "source": [
        "wss\n"
      ]
    },
    {
      "cell_type": "code",
      "execution_count": null,
      "metadata": {
        "colab": {
          "base_uri": "https://localhost:8080/",
          "height": 283
        },
        "id": "0BZCzXGRQ9ps",
        "outputId": "f5e54ddc-bb68-4ef8-c8c6-e9cbe2061aad"
      },
      "outputs": [
        {
          "data": {
            "text/plain": [
              "[<matplotlib.lines.Line2D at 0x7f76b4c67e50>]"
            ]
          },
          "execution_count": 67,
          "metadata": {},
          "output_type": "execute_result"
        },
        {
          "data": {
            "image/png": "[encoded data removed]",
            "text/plain": [
              "<Figure size 432x288 with 1 Axes>"
            ]
          },
          "metadata": {},
          "output_type": "display_data"
        }
      ],
      "source": [
        "plt.plot(range(1,11), wss)"
      ]
    },
    {
      "cell_type": "code",
      "execution_count": null,
      "metadata": {
        "id": "8PS_lop3Sedd"
      },
      "outputs": [],
      "source": [
        "from sklearn.metrics import silhouette_samples, silhouette_score"
      ]
    },
    {
      "cell_type": "code",
      "execution_count": null,
      "metadata": {
        "colab": {
          "base_uri": "https://localhost:8080/",
          "height": 279
        },
        "id": "5at2u-sIRJR8",
        "outputId": "3d498d10-182a-405b-ae05-0cd2a256ffe0"
      },
      "outputs": [
        {
          "output_type": "display_data",
          "data": {
            "text/plain": [
              "<Figure size 432x288 with 1 Axes>"
            ],
            "image/png": "[encoded data removed]"
          },
          "metadata": {
            "needs_background": "light"
          }
        }
      ],
      "source": [
        "sc = {}\n",
        "\n",
        "# iterate for a range of Ks and fit the scaled data to the algorithm. Store the Silhouette score for that k\n",
        "for k in range(2, 11):\n",
        "    kmeans = KMeans(n_clusters=k, random_state=1).fit(df_num_scaled)\n",
        "    labels = kmeans.predict(df_num_scaled)\n",
        "    sc[k] = silhouette_score(df_num_scaled, labels)\n",
        "\n",
        "#Elbow plot\n",
        "plt.figure()\n",
        "plt.plot(list(sc.keys()), list(sc.values()), 'bx-')\n",
        "plt.xlabel(\"Number of cluster\")\n",
        "plt.ylabel(\"Silhouette Score\")\n",
        "plt.show()"
      ]
    },
    {
      "cell_type": "code",
      "source": [
        "sc"
      ],
      "metadata": {
        "colab": {
          "base_uri": "https://localhost:8080/"
        },
        "id": "uyGL52LX9lcF",
        "outputId": "d7b51f8d-f7b5-4dbb-97de-e6039140512e"
      },
      "execution_count": null,
      "outputs": [
        {
          "output_type": "execute_result",
          "data": {
            "text/plain": [
              "{2: 0.38320404510746076,\n",
              " 3: 0.3846874161187068,\n",
              " 4: 0.471647290736531,\n",
              " 5: 0.5412367198148101,\n",
              " 6: 0.5251926387404259,\n",
              " 7: 0.49708286026356147,\n",
              " 8: 0.4709766172130915,\n",
              " 9: 0.4088746841500217,\n",
              " 10: 0.42385467788396436}"
            ]
          },
          "metadata": {},
          "execution_count": 176
        }
      ]
    },
    {
      "cell_type": "code",
      "source": [
        "pd.DataFrame(list(sc.items()),columns = ['No._of_clusters','Silhouette Score'])"
      ],
      "metadata": {
        "colab": {
          "base_uri": "https://localhost:8080/",
          "height": 332
        },
        "id": "1PLMyyE57yk3",
        "outputId": "9f125a97-fc80-4165-fbdd-9978277e39eb"
      },
      "execution_count": null,
      "outputs": [
        {
          "output_type": "execute_result",
          "data": {
            "text/plain": [
              "   No._of_clusters  Silhouette Score\n",
              "0                2          0.383204\n",
              "1                3          0.384687\n",
              "2                4          0.471647\n",
              "3                5          0.541237\n",
              "4                6          0.525193\n",
              "5                7          0.497083\n",
              "6                8          0.470977\n",
              "7                9          0.408875\n",
              "8               10          0.423855"
            ],
            "text/html": [
              "\n",
              "  <div id=\"df-05aa55fe-f8e6-47f5-8a56-fd4715af825e\">\n",
              "    <div class=\"colab-df-container\">\n",
              "      <div>\n",
              "<style scoped>\n",
              "    .dataframe tbody tr th:only-of-type {\n",
              "        vertical-align: middle;\n",
              "    }\n",
              "\n",
              "    .dataframe tbody tr th {\n",
              "        vertical-align: top;\n",
              "    }\n",
              "\n",
              "    .dataframe thead th {\n",
              "        text-align: right;\n",
              "    }\n",
              "</style>\n",
              "<table border=\"1\" class=\"dataframe\">\n",
              "  <thead>\n",
              "    <tr style=\"text-align: right;\">\n",
              "      <th></th>\n",
              "      <th>No._of_clusters</th>\n",
              "      <th>Silhouette Score</th>\n",
              "    </tr>\n",
              "  </thead>\n",
              "  <tbody>\n",
              "    <tr>\n",
              "      <th>0</th>\n",
              "      <td>2</td>\n",
              "      <td>0.383204</td>\n",
              "    </tr>\n",
              "    <tr>\n",
              "      <th>1</th>\n",
              "      <td>3</td>\n",
              "      <td>0.384687</td>\n",
              "    </tr>\n",
              "    <tr>\n",
              "      <th>2</th>\n",
              "      <td>4</td>\n",
              "      <td>0.471647</td>\n",
              "    </tr>\n",
              "    <tr>\n",
              "      <th>3</th>\n",
              "      <td>5</td>\n",
              "      <td>0.541237</td>\n",
              "    </tr>\n",
              "    <tr>\n",
              "      <th>4</th>\n",
              "      <td>6</td>\n",
              "      <td>0.525193</td>\n",
              "    </tr>\n",
              "    <tr>\n",
              "      <th>5</th>\n",
              "      <td>7</td>\n",
              "      <td>0.497083</td>\n",
              "    </tr>\n",
              "    <tr>\n",
              "      <th>6</th>\n",
              "      <td>8</td>\n",
              "      <td>0.470977</td>\n",
              "    </tr>\n",
              "    <tr>\n",
              "      <th>7</th>\n",
              "      <td>9</td>\n",
              "      <td>0.408875</td>\n",
              "    </tr>\n",
              "    <tr>\n",
              "      <th>8</th>\n",
              "      <td>10</td>\n",
              "      <td>0.423855</td>\n",
              "    </tr>\n",
              "  </tbody>\n",
              "</table>\n",
              "</div>\n",
              "      <button class=\"colab-df-convert\" onclick=\"convertToInteractive('df-05aa55fe-f8e6-47f5-8a56-fd4715af825e')\"\n",
              "              title=\"Convert this dataframe to an interactive table.\"\n",
              "              style=\"display:none;\">\n",
              "        \n",
              "  <svg xmlns=\"http://www.w3.org/2000/svg\" height=\"24px\"viewBox=\"0 0 24 24\"\n",
              "       width=\"24px\">\n",
              "    <path d=\"M0 0h24v24H0V0z\" fill=\"none\"/>\n",
              "    <path d=\"M18.56 5.44l.94 2.06.94-2.06 2.06-.94-2.06-.94-.94-2.06-.94 2.06-2.06.94zm-11 1L8.5 8.5l.94-2.06 2.06-.94-2.06-.94L8.5 2.5l-.94 2.06-2.06.94zm10 10l.94 2.06.94-2.06 2.06-.94-2.06-.94-.94-2.06-.94 2.06-2.06.94z\"/><path d=\"M17.41 7.96l-1.37-1.37c-.4-.4-.92-.59-1.43-.59-.52 0-1.04.2-1.43.59L10.3 9.45l-7.72 7.72c-.78.78-.78 2.05 0 2.83L4 21.41c.39.39.9.59 1.41.59.51 0 1.02-.2 1.41-.59l7.78-7.78 2.81-2.81c.8-.78.8-2.07 0-2.86zM5.41 20L4 18.59l7.72-7.72 1.47 1.35L5.41 20z\"/>\n",
              "  </svg>\n",
              "      </button>\n",
              "      \n",
              "  <style>\n",
              "    .colab-df-container {\n",
              "      display:flex;\n",
              "      flex-wrap:wrap;\n",
              "      gap: 12px;\n",
              "    }\n",
              "\n",
              "    .colab-df-convert {\n",
              "      background-color: #E8F0FE;\n",
              "      border: none;\n",
              "      border-radius: 50%;\n",
              "      cursor: pointer;\n",
              "      display: none;\n",
              "      fill: #1967D2;\n",
              "      height: 32px;\n",
              "      padding: 0 0 0 0;\n",
              "      width: 32px;\n",
              "    }\n",
              "\n",
              "    .colab-df-convert:hover {\n",
              "      background-color: #E2EBFA;\n",
              "      box-shadow: 0px 1px 2px rgba(60, 64, 67, 0.3), 0px 1px 3px 1px rgba(60, 64, 67, 0.15);\n",
              "      fill: #174EA6;\n",
              "    }\n",
              "\n",
              "    [theme=dark] .colab-df-convert {\n",
              "      background-color: #3B4455;\n",
              "      fill: #D2E3FC;\n",
              "    }\n",
              "\n",
              "    [theme=dark] .colab-df-convert:hover {\n",
              "      background-color: #434B5C;\n",
              "      box-shadow: 0px 1px 3px 1px rgba(0, 0, 0, 0.15);\n",
              "      filter: drop-shadow(0px 1px 2px rgba(0, 0, 0, 0.3));\n",
              "      fill: #FFFFFF;\n",
              "    }\n",
              "  </style>\n",
              "\n",
              "      <script>\n",
              "        const buttonEl =\n",
              "          document.querySelector('#df-05aa55fe-f8e6-47f5-8a56-fd4715af825e button.colab-df-convert');\n",
              "        buttonEl.style.display =\n",
              "          google.colab.kernel.accessAllowed ? 'block' : 'none';\n",
              "\n",
              "        async function convertToInteractive(key) {\n",
              "          const element = document.querySelector('#df-05aa55fe-f8e6-47f5-8a56-fd4715af825e');\n",
              "          const dataTable =\n",
              "            await google.colab.kernel.invokeFunction('convertToInteractive',\n",
              "                                                     [key], {});\n",
              "          if (!dataTable) return;\n",
              "\n",
              "          const docLinkHtml = 'Like what you see? Visit the ' +\n",
              "            '<a target=\"_blank\" href=https://colab.research.google.com/notebooks/data_table.ipynb>data table notebook</a>'\n",
              "            + ' to learn more about interactive tables.';\n",
              "          element.innerHTML = '';\n",
              "          dataTable['output_type'] = 'display_data';\n",
              "          await google.colab.output.renderOutput(dataTable, element);\n",
              "          const docLink = document.createElement('div');\n",
              "          docLink.innerHTML = docLinkHtml;\n",
              "          element.appendChild(docLink);\n",
              "        }\n",
              "      </script>\n",
              "    </div>\n",
              "  </div>\n",
              "  "
            ]
          },
          "metadata": {},
          "execution_count": 192
        }
      ]
    },
    {
      "cell_type": "code",
      "execution_count": null,
      "metadata": {
        "id": "yJtRZiv_TC9p"
      },
      "outputs": [],
      "source": [
        "k_means = KMeans(n_clusters = 5)\n",
        "k_means.fit(df_num_scaled)\n",
        "labels = k_means.labels_"
      ]
    },
    {
      "cell_type": "code",
      "execution_count": null,
      "metadata": {
        "colab": {
          "base_uri": "https://localhost:8080/"
        },
        "id": "Tfo5pGQDTMVZ",
        "outputId": "cfef4f96-1df0-4212-e462-87547e7d3df8"
      },
      "outputs": [
        {
          "output_type": "execute_result",
          "data": {
            "text/plain": [
              "0.5412389195931974"
            ]
          },
          "metadata": {},
          "execution_count": 198
        }
      ],
      "source": [
        "silhouette_score(df_num_scaled,labels)"
      ]
    },
    {
      "cell_type": "code",
      "execution_count": null,
      "metadata": {
        "id": "U22nHbU-WJQr"
      },
      "outputs": [],
      "source": [
        "x=silhouette_samples(df_num_scaled,labels)<0"
      ]
    },
    {
      "cell_type": "code",
      "execution_count": null,
      "metadata": {
        "colab": {
          "base_uri": "https://localhost:8080/"
        },
        "id": "M7bjHzlOX3XD",
        "outputId": "21bd63c5-0d2e-43be-8bd9-91ab43f06a47"
      },
      "outputs": [
        {
          "output_type": "execute_result",
          "data": {
            "text/plain": [
              "74"
            ]
          },
          "metadata": {},
          "execution_count": 200
        }
      ],
      "source": [
        "sum(x)"
      ]
    },
    {
      "cell_type": "code",
      "source": [
        "df[\"Clus_kmeans\"] = labels\n",
        "df.head(5)"
      ],
      "metadata": {
        "colab": {
          "base_uri": "https://localhost:8080/",
          "height": 236
        },
        "id": "fgSKKoHBFMV_",
        "outputId": "83edd254-82b3-436c-96da-d78920ced49d"
      },
      "execution_count": null,
      "outputs": [
        {
          "output_type": "execute_result",
          "data": {
            "text/plain": [
              "     Timestamp InventoryType  Ad - Length  Ad- Width  Ad Size   Ad Type  \\\n",
              "0  2020-9-2-17       Format1          300        250    75000  Inter222   \n",
              "1  2020-9-2-10       Format1          300        250    75000  Inter227   \n",
              "2  2020-9-1-22       Format1          300        250    75000  Inter222   \n",
              "3  2020-9-3-20       Format1          300        250    75000  Inter228   \n",
              "4  2020-9-4-15       Format1          300        250    75000  Inter217   \n",
              "\n",
              "  Platform Device Type   Format  Available_Impressions  ...  Impressions  \\\n",
              "0    Video     Desktop  Display                   1806  ...          323   \n",
              "1      App      Mobile    Video                   1780  ...          285   \n",
              "2    Video     Desktop  Display                   2727  ...          355   \n",
              "3    Video      Mobile    Video                   2430  ...          495   \n",
              "4      Web     Desktop    Video                   1218  ...          242   \n",
              "\n",
              "   Clicks  Spend   Fee  Revenue       CTR  CPM  CPC  clusters  Clus_kmeans  \n",
              "0       1    0.0  0.35      0.0  0.309598  0.0  0.0         4            0  \n",
              "1       1    0.0  0.35      0.0  0.350877  0.0  0.0         4            0  \n",
              "2       1    0.0  0.35      0.0  0.281690  0.0  0.0         4            0  \n",
              "3       1    0.0  0.35      0.0  0.202020  0.0  0.0         4            0  \n",
              "4       1    0.0  0.35      0.0  0.413223  0.0  0.0         4            0  \n",
              "\n",
              "[5 rows x 21 columns]"
            ],
            "text/html": [
              "\n",
              "  <div id=\"df-9c4a2068-9068-432a-b056-b2aa152e743a\">\n",
              "    <div class=\"colab-df-container\">\n",
              "      <div>\n",
              "<style scoped>\n",
              "    .dataframe tbody tr th:only-of-type {\n",
              "        vertical-align: middle;\n",
              "    }\n",
              "\n",
              "    .dataframe tbody tr th {\n",
              "        vertical-align: top;\n",
              "    }\n",
              "\n",
              "    .dataframe thead th {\n",
              "        text-align: right;\n",
              "    }\n",
              "</style>\n",
              "<table border=\"1\" class=\"dataframe\">\n",
              "  <thead>\n",
              "    <tr style=\"text-align: right;\">\n",
              "      <th></th>\n",
              "      <th>Timestamp</th>\n",
              "      <th>InventoryType</th>\n",
              "      <th>Ad - Length</th>\n",
              "      <th>Ad- Width</th>\n",
              "      <th>Ad Size</th>\n",
              "      <th>Ad Type</th>\n",
              "      <th>Platform</th>\n",
              "      <th>Device Type</th>\n",
              "      <th>Format</th>\n",
              "      <th>Available_Impressions</th>\n",
              "      <th>...</th>\n",
              "      <th>Impressions</th>\n",
              "      <th>Clicks</th>\n",
              "      <th>Spend</th>\n",
              "      <th>Fee</th>\n",
              "      <th>Revenue</th>\n",
              "      <th>CTR</th>\n",
              "      <th>CPM</th>\n",
              "      <th>CPC</th>\n",
              "      <th>clusters</th>\n",
              "      <th>Clus_kmeans</th>\n",
              "    </tr>\n",
              "  </thead>\n",
              "  <tbody>\n",
              "    <tr>\n",
              "      <th>0</th>\n",
              "      <td>2020-9-2-17</td>\n",
              "      <td>Format1</td>\n",
              "      <td>300</td>\n",
              "      <td>250</td>\n",
              "      <td>75000</td>\n",
              "      <td>Inter222</td>\n",
              "      <td>Video</td>\n",
              "      <td>Desktop</td>\n",
              "      <td>Display</td>\n",
              "      <td>1806</td>\n",
              "      <td>...</td>\n",
              "      <td>323</td>\n",
              "      <td>1</td>\n",
              "      <td>0.0</td>\n",
              "      <td>0.35</td>\n",
              "      <td>0.0</td>\n",
              "      <td>0.309598</td>\n",
              "      <td>0.0</td>\n",
              "      <td>0.0</td>\n",
              "      <td>4</td>\n",
              "      <td>0</td>\n",
              "    </tr>\n",
              "    <tr>\n",
              "      <th>1</th>\n",
              "      <td>2020-9-2-10</td>\n",
              "      <td>Format1</td>\n",
              "      <td>300</td>\n",
              "      <td>250</td>\n",
              "      <td>75000</td>\n",
              "      <td>Inter227</td>\n",
              "      <td>App</td>\n",
              "      <td>Mobile</td>\n",
              "      <td>Video</td>\n",
              "      <td>1780</td>\n",
              "      <td>...</td>\n",
              "      <td>285</td>\n",
              "      <td>1</td>\n",
              "      <td>0.0</td>\n",
              "      <td>0.35</td>\n",
              "      <td>0.0</td>\n",
              "      <td>0.350877</td>\n",
              "      <td>0.0</td>\n",
              "      <td>0.0</td>\n",
              "      <td>4</td>\n",
              "      <td>0</td>\n",
              "    </tr>\n",
              "    <tr>\n",
              "      <th>2</th>\n",
              "      <td>2020-9-1-22</td>\n",
              "      <td>Format1</td>\n",
              "      <td>300</td>\n",
              "      <td>250</td>\n",
              "      <td>75000</td>\n",
              "      <td>Inter222</td>\n",
              "      <td>Video</td>\n",
              "      <td>Desktop</td>\n",
              "      <td>Display</td>\n",
              "      <td>2727</td>\n",
              "      <td>...</td>\n",
              "      <td>355</td>\n",
              "      <td>1</td>\n",
              "      <td>0.0</td>\n",
              "      <td>0.35</td>\n",
              "      <td>0.0</td>\n",
              "      <td>0.281690</td>\n",
              "      <td>0.0</td>\n",
              "      <td>0.0</td>\n",
              "      <td>4</td>\n",
              "      <td>0</td>\n",
              "    </tr>\n",
              "    <tr>\n",
              "      <th>3</th>\n",
              "      <td>2020-9-3-20</td>\n",
              "      <td>Format1</td>\n",
              "      <td>300</td>\n",
              "      <td>250</td>\n",
              "      <td>75000</td>\n",
              "      <td>Inter228</td>\n",
              "      <td>Video</td>\n",
              "      <td>Mobile</td>\n",
              "      <td>Video</td>\n",
              "      <td>2430</td>\n",
              "      <td>...</td>\n",
              "      <td>495</td>\n",
              "      <td>1</td>\n",
              "      <td>0.0</td>\n",
              "      <td>0.35</td>\n",
              "      <td>0.0</td>\n",
              "      <td>0.202020</td>\n",
              "      <td>0.0</td>\n",
              "      <td>0.0</td>\n",
              "      <td>4</td>\n",
              "      <td>0</td>\n",
              "    </tr>\n",
              "    <tr>\n",
              "      <th>4</th>\n",
              "      <td>2020-9-4-15</td>\n",
              "      <td>Format1</td>\n",
              "      <td>300</td>\n",
              "      <td>250</td>\n",
              "      <td>75000</td>\n",
              "      <td>Inter217</td>\n",
              "      <td>Web</td>\n",
              "      <td>Desktop</td>\n",
              "      <td>Video</td>\n",
              "      <td>1218</td>\n",
              "      <td>...</td>\n",
              "      <td>242</td>\n",
              "      <td>1</td>\n",
              "      <td>0.0</td>\n",
              "      <td>0.35</td>\n",
              "      <td>0.0</td>\n",
              "      <td>0.413223</td>\n",
              "      <td>0.0</td>\n",
              "      <td>0.0</td>\n",
              "      <td>4</td>\n",
              "      <td>0</td>\n",
              "    </tr>\n",
              "  </tbody>\n",
              "</table>\n",
              "<p>5 rows × 21 columns</p>\n",
              "</div>\n",
              "      <button class=\"colab-df-convert\" onclick=\"convertToInteractive('df-9c4a2068-9068-432a-b056-b2aa152e743a')\"\n",
              "              title=\"Convert this dataframe to an interactive table.\"\n",
              "              style=\"display:none;\">\n",
              "        \n",
              "  <svg xmlns=\"http://www.w3.org/2000/svg\" height=\"24px\"viewBox=\"0 0 24 24\"\n",
              "       width=\"24px\">\n",
              "    <path d=\"M0 0h24v24H0V0z\" fill=\"none\"/>\n",
              "    <path d=\"M18.56 5.44l.94 2.06.94-2.06 2.06-.94-2.06-.94-.94-2.06-.94 2.06-2.06.94zm-11 1L8.5 8.5l.94-2.06 2.06-.94-2.06-.94L8.5 2.5l-.94 2.06-2.06.94zm10 10l.94 2.06.94-2.06 2.06-.94-2.06-.94-.94-2.06-.94 2.06-2.06.94z\"/><path d=\"M17.41 7.96l-1.37-1.37c-.4-.4-.92-.59-1.43-.59-.52 0-1.04.2-1.43.59L10.3 9.45l-7.72 7.72c-.78.78-.78 2.05 0 2.83L4 21.41c.39.39.9.59 1.41.59.51 0 1.02-.2 1.41-.59l7.78-7.78 2.81-2.81c.8-.78.8-2.07 0-2.86zM5.41 20L4 18.59l7.72-7.72 1.47 1.35L5.41 20z\"/>\n",
              "  </svg>\n",
              "      </button>\n",
              "      \n",
              "  <style>\n",
              "    .colab-df-container {\n",
              "      display:flex;\n",
              "      flex-wrap:wrap;\n",
              "      gap: 12px;\n",
              "    }\n",
              "\n",
              "    .colab-df-convert {\n",
              "      background-color: #E8F0FE;\n",
              "      border: none;\n",
              "      border-radius: 50%;\n",
              "      cursor: pointer;\n",
              "      display: none;\n",
              "      fill: #1967D2;\n",
              "      height: 32px;\n",
              "      padding: 0 0 0 0;\n",
              "      width: 32px;\n",
              "    }\n",
              "\n",
              "    .colab-df-convert:hover {\n",
              "      background-color: #E2EBFA;\n",
              "      box-shadow: 0px 1px 2px rgba(60, 64, 67, 0.3), 0px 1px 3px 1px rgba(60, 64, 67, 0.15);\n",
              "      fill: #174EA6;\n",
              "    }\n",
              "\n",
              "    [theme=dark] .colab-df-convert {\n",
              "      background-color: #3B4455;\n",
              "      fill: #D2E3FC;\n",
              "    }\n",
              "\n",
              "    [theme=dark] .colab-df-convert:hover {\n",
              "      background-color: #434B5C;\n",
              "      box-shadow: 0px 1px 3px 1px rgba(0, 0, 0, 0.15);\n",
              "      filter: drop-shadow(0px 1px 2px rgba(0, 0, 0, 0.3));\n",
              "      fill: #FFFFFF;\n",
              "    }\n",
              "  </style>\n",
              "\n",
              "      <script>\n",
              "        const buttonEl =\n",
              "          document.querySelector('#df-9c4a2068-9068-432a-b056-b2aa152e743a button.colab-df-convert');\n",
              "        buttonEl.style.display =\n",
              "          google.colab.kernel.accessAllowed ? 'block' : 'none';\n",
              "\n",
              "        async function convertToInteractive(key) {\n",
              "          const element = document.querySelector('#df-9c4a2068-9068-432a-b056-b2aa152e743a');\n",
              "          const dataTable =\n",
              "            await google.colab.kernel.invokeFunction('convertToInteractive',\n",
              "                                                     [key], {});\n",
              "          if (!dataTable) return;\n",
              "\n",
              "          const docLinkHtml = 'Like what you see? Visit the ' +\n",
              "            '<a target=\"_blank\" href=https://colab.research.google.com/notebooks/data_table.ipynb>data table notebook</a>'\n",
              "            + ' to learn more about interactive tables.';\n",
              "          element.innerHTML = '';\n",
              "          dataTable['output_type'] = 'display_data';\n",
              "          await google.colab.output.renderOutput(dataTable, element);\n",
              "          const docLink = document.createElement('div');\n",
              "          docLink.innerHTML = docLinkHtml;\n",
              "          element.appendChild(docLink);\n",
              "        }\n",
              "      </script>\n",
              "    </div>\n",
              "  </div>\n",
              "  "
            ]
          },
          "metadata": {},
          "execution_count": 202
        }
      ]
    },
    {
      "cell_type": "code",
      "execution_count": null,
      "metadata": {
        "colab": {
          "base_uri": "https://localhost:8080/"
        },
        "id": "Q-V3m9EOW1ya",
        "outputId": "42a61913-1f15-4344-8cbb-411976ced777"
      },
      "outputs": [
        {
          "output_type": "execute_result",
          "data": {
            "text/plain": [
              "Index(['Timestamp', 'InventoryType', 'Ad - Length', 'Ad- Width', 'Ad Size',\n",
              "       'Ad Type', 'Platform', 'Device Type', 'Format', 'Available_Impressions',\n",
              "       'Matched_Queries', 'Impressions', 'Clicks', 'Spend', 'Fee', 'Revenue',\n",
              "       'CTR', 'CPM', 'CPC', 'clusters', 'Clus_kmeans'],\n",
              "      dtype='object')"
            ]
          },
          "metadata": {},
          "execution_count": 203
        }
      ],
      "source": [
        "df.columns"
      ]
    },
    {
      "cell_type": "code",
      "execution_count": null,
      "metadata": {
        "id": "GaQs2P8qXSjs"
      },
      "outputs": [],
      "source": [
        "df1=df.copy()"
      ]
    },
    {
      "cell_type": "code",
      "execution_count": null,
      "metadata": {
        "colab": {
          "base_uri": "https://localhost:8080/"
        },
        "id": "re8H0iREYoM1",
        "outputId": "22942c31-b077-4392-93f0-ee2d024da374"
      },
      "outputs": [
        {
          "output_type": "execute_result",
          "data": {
            "text/plain": [
              "Index(['Timestamp', 'InventoryType', 'Ad - Length', 'Ad- Width', 'Ad Size',\n",
              "       'Ad Type', 'Platform', 'Device Type', 'Format', 'Available_Impressions',\n",
              "       'Matched_Queries', 'Impressions', 'Clicks', 'Spend', 'Fee', 'Revenue',\n",
              "       'CTR', 'CPM', 'CPC', 'clusters', 'Clus_kmeans', 'profit'],\n",
              "      dtype='object')"
            ]
          },
          "metadata": {},
          "execution_count": 234
        }
      ],
      "source": [
        "df1.columns"
      ]
    },
    {
      "cell_type": "code",
      "execution_count": null,
      "metadata": {
        "colab": {
          "base_uri": "https://localhost:8080/",
          "height": 296
        },
        "id": "8qDjcBDdTCiK",
        "outputId": "5f360182-7989-4e3d-ddb3-9744e4fd628d"
      },
      "outputs": [
        {
          "output_type": "execute_result",
          "data": {
            "text/plain": [
              "<matplotlib.axes._subplots.AxesSubplot at 0x7f76b4e73fd0>"
            ]
          },
          "metadata": {},
          "execution_count": 235
        },
        {
          "output_type": "display_data",
          "data": {
            "text/plain": [
              "<Figure size 432x288 with 1 Axes>"
            ],
            "image/png": "[encoded data removed]"
          },
          "metadata": {
            "needs_background": "light"
          }
        }
      ],
      "source": [
        "df1 = df1.groupby(['clusters', 'Device Type']).agg(Clicks=(\"Clicks\", 'mean'))\n",
        "df1 = df1.reset_index()\n",
        "\n",
        "# plot barplot\n",
        "sns.barplot(x=\"clusters\",\n",
        "           y=\"Clicks\",\n",
        "           hue=\"Device Type\",\n",
        "           data=df1)"
      ]
    },
    {
      "cell_type": "code",
      "execution_count": null,
      "metadata": {
        "id": "WEQoY9RBMeIh"
      },
      "outputs": [],
      "source": [
        "df1=df.copy()"
      ]
    },
    {
      "cell_type": "code",
      "execution_count": null,
      "metadata": {
        "colab": {
          "base_uri": "https://localhost:8080/"
        },
        "id": "Uf_eYhFdyc1I",
        "outputId": "c6e5bdba-1dae-4042-c107-3876dae8c2e6"
      },
      "outputs": [
        {
          "output_type": "stream",
          "name": "stderr",
          "text": [
            "<ipython-input-216-33721773ebbf>:1: FutureWarning: Indexing with multiple keys (implicitly converted to a tuple of keys) will be deprecated, use a list instead.\n",
            "  x=df1.groupby(['clusters',])['Revenue','Spend'].aggregate('sum').unstack()\n"
          ]
        },
        {
          "output_type": "execute_result",
          "data": {
            "text/plain": [
              "         clusters\n",
              "Revenue  1           3.714019e+06\n",
              "         2           6.932207e+06\n",
              "         3           1.956079e+06\n",
              "         4           7.794947e+06\n",
              "         5           2.398755e+07\n",
              "Spend    1           5.701350e+06\n",
              "         2           9.580212e+06\n",
              "         3           2.973189e+06\n",
              "         4           1.188605e+07\n",
              "         5           3.229022e+07\n",
              "dtype: float64"
            ]
          },
          "metadata": {},
          "execution_count": 216
        }
      ],
      "source": [
        "x=df1.groupby(['clusters',])['Revenue','Spend'].aggregate('sum').unstack()\n",
        "x"
      ]
    },
    {
      "cell_type": "code",
      "execution_count": null,
      "metadata": {
        "id": "JYcft5Wbz28j"
      },
      "outputs": [],
      "source": [
        "df['profit']=df['Revenue']-df['Spend']"
      ]
    },
    {
      "cell_type": "code",
      "execution_count": null,
      "metadata": {
        "colab": {
          "base_uri": "https://localhost:8080/",
          "height": 238
        },
        "id": "xFVZkKmEt9p_",
        "outputId": "df235c25-ced8-4337-d102-ac95fcc0388c"
      },
      "outputs": [
        {
          "output_type": "execute_result",
          "data": {
            "text/plain": [
              "Device Type  Desktop  Mobile\n",
              "clusters                    \n",
              "1               1715    3050\n",
              "2                456     797\n",
              "3               2465    4434\n",
              "4               2430    4381\n",
              "5               1194    2144"
            ],
            "text/html": [
              "\n",
              "  <div id=\"df-4caedf11-b654-4a8e-945f-ead9981ebf4c\">\n",
              "    <div class=\"colab-df-container\">\n",
              "      <div>\n",
              "<style scoped>\n",
              "    .dataframe tbody tr th:only-of-type {\n",
              "        vertical-align: middle;\n",
              "    }\n",
              "\n",
              "    .dataframe tbody tr th {\n",
              "        vertical-align: top;\n",
              "    }\n",
              "\n",
              "    .dataframe thead th {\n",
              "        text-align: right;\n",
              "    }\n",
              "</style>\n",
              "<table border=\"1\" class=\"dataframe\">\n",
              "  <thead>\n",
              "    <tr style=\"text-align: right;\">\n",
              "      <th>Device Type</th>\n",
              "      <th>Desktop</th>\n",
              "      <th>Mobile</th>\n",
              "    </tr>\n",
              "    <tr>\n",
              "      <th>clusters</th>\n",
              "      <th></th>\n",
              "      <th></th>\n",
              "    </tr>\n",
              "  </thead>\n",
              "  <tbody>\n",
              "    <tr>\n",
              "      <th>1</th>\n",
              "      <td>1715</td>\n",
              "      <td>3050</td>\n",
              "    </tr>\n",
              "    <tr>\n",
              "      <th>2</th>\n",
              "      <td>456</td>\n",
              "      <td>797</td>\n",
              "    </tr>\n",
              "    <tr>\n",
              "      <th>3</th>\n",
              "      <td>2465</td>\n",
              "      <td>4434</td>\n",
              "    </tr>\n",
              "    <tr>\n",
              "      <th>4</th>\n",
              "      <td>2430</td>\n",
              "      <td>4381</td>\n",
              "    </tr>\n",
              "    <tr>\n",
              "      <th>5</th>\n",
              "      <td>1194</td>\n",
              "      <td>2144</td>\n",
              "    </tr>\n",
              "  </tbody>\n",
              "</table>\n",
              "</div>\n",
              "      <button class=\"colab-df-convert\" onclick=\"convertToInteractive('df-4caedf11-b654-4a8e-945f-ead9981ebf4c')\"\n",
              "              title=\"Convert this dataframe to an interactive table.\"\n",
              "              style=\"display:none;\">\n",
              "        \n",
              "  <svg xmlns=\"http://www.w3.org/2000/svg\" height=\"24px\"viewBox=\"0 0 24 24\"\n",
              "       width=\"24px\">\n",
              "    <path d=\"M0 0h24v24H0V0z\" fill=\"none\"/>\n",
              "    <path d=\"M18.56 5.44l.94 2.06.94-2.06 2.06-.94-2.06-.94-.94-2.06-.94 2.06-2.06.94zm-11 1L8.5 8.5l.94-2.06 2.06-.94-2.06-.94L8.5 2.5l-.94 2.06-2.06.94zm10 10l.94 2.06.94-2.06 2.06-.94-2.06-.94-.94-2.06-.94 2.06-2.06.94z\"/><path d=\"M17.41 7.96l-1.37-1.37c-.4-.4-.92-.59-1.43-.59-.52 0-1.04.2-1.43.59L10.3 9.45l-7.72 7.72c-.78.78-.78 2.05 0 2.83L4 21.41c.39.39.9.59 1.41.59.51 0 1.02-.2 1.41-.59l7.78-7.78 2.81-2.81c.8-.78.8-2.07 0-2.86zM5.41 20L4 18.59l7.72-7.72 1.47 1.35L5.41 20z\"/>\n",
              "  </svg>\n",
              "      </button>\n",
              "      \n",
              "  <style>\n",
              "    .colab-df-container {\n",
              "      display:flex;\n",
              "      flex-wrap:wrap;\n",
              "      gap: 12px;\n",
              "    }\n",
              "\n",
              "    .colab-df-convert {\n",
              "      background-color: #E8F0FE;\n",
              "      border: none;\n",
              "      border-radius: 50%;\n",
              "      cursor: pointer;\n",
              "      display: none;\n",
              "      fill: #1967D2;\n",
              "      height: 32px;\n",
              "      padding: 0 0 0 0;\n",
              "      width: 32px;\n",
              "    }\n",
              "\n",
              "    .colab-df-convert:hover {\n",
              "      background-color: #E2EBFA;\n",
              "      box-shadow: 0px 1px 2px rgba(60, 64, 67, 0.3), 0px 1px 3px 1px rgba(60, 64, 67, 0.15);\n",
              "      fill: #174EA6;\n",
              "    }\n",
              "\n",
              "    [theme=dark] .colab-df-convert {\n",
              "      background-color: #3B4455;\n",
              "      fill: #D2E3FC;\n",
              "    }\n",
              "\n",
              "    [theme=dark] .colab-df-convert:hover {\n",
              "      background-color: #434B5C;\n",
              "      box-shadow: 0px 1px 3px 1px rgba(0, 0, 0, 0.15);\n",
              "      filter: drop-shadow(0px 1px 2px rgba(0, 0, 0, 0.3));\n",
              "      fill: #FFFFFF;\n",
              "    }\n",
              "  </style>\n",
              "\n",
              "      <script>\n",
              "        const buttonEl =\n",
              "          document.querySelector('#df-4caedf11-b654-4a8e-945f-ead9981ebf4c button.colab-df-convert');\n",
              "        buttonEl.style.display =\n",
              "          google.colab.kernel.accessAllowed ? 'block' : 'none';\n",
              "\n",
              "        async function convertToInteractive(key) {\n",
              "          const element = document.querySelector('#df-4caedf11-b654-4a8e-945f-ead9981ebf4c');\n",
              "          const dataTable =\n",
              "            await google.colab.kernel.invokeFunction('convertToInteractive',\n",
              "                                                     [key], {});\n",
              "          if (!dataTable) return;\n",
              "\n",
              "          const docLinkHtml = 'Like what you see? Visit the ' +\n",
              "            '<a target=\"_blank\" href=https://colab.research.google.com/notebooks/data_table.ipynb>data table notebook</a>'\n",
              "            + ' to learn more about interactive tables.';\n",
              "          element.innerHTML = '';\n",
              "          dataTable['output_type'] = 'display_data';\n",
              "          await google.colab.output.renderOutput(dataTable, element);\n",
              "          const docLink = document.createElement('div');\n",
              "          docLink.innerHTML = docLinkHtml;\n",
              "          element.appendChild(docLink);\n",
              "        }\n",
              "      </script>\n",
              "    </div>\n",
              "  </div>\n",
              "  "
            ]
          },
          "metadata": {},
          "execution_count": 219
        }
      ],
      "source": [
        "a=df1.groupby(['clusters'])['Device Type'].value_counts()\n",
        "a.unstack()"
      ]
    },
    {
      "cell_type": "code",
      "execution_count": null,
      "metadata": {
        "id": "yWarRI5dbyQU"
      },
      "outputs": [],
      "source": [
        "df1=df.copy()"
      ]
    },
    {
      "cell_type": "code",
      "execution_count": null,
      "metadata": {
        "colab": {
          "base_uri": "https://localhost:8080/",
          "height": 300
        },
        "id": "XRTA6vf0cNIy",
        "outputId": "2149af56-d8e5-45c0-ecde-ebc2e0658c13"
      },
      "outputs": [
        {
          "output_type": "execute_result",
          "data": {
            "text/plain": [
              "<matplotlib.axes._subplots.AxesSubplot at 0x7f76b5d24130>"
            ]
          },
          "metadata": {},
          "execution_count": 221
        },
        {
          "output_type": "display_data",
          "data": {
            "text/plain": [
              "<Figure size 432x288 with 1 Axes>"
            ],
            "image/png": "[encoded data removed]"
          },
          "metadata": {
            "needs_background": "light"
          }
        }
      ],
      "source": [
        "df1 = df1.groupby(['clusters', 'Device Type']).agg(CPM=(\"CPM\", 'mean'))\n",
        "df1 = df1.reset_index()\n",
        "\n",
        "# plot barplot\n",
        "sns.barplot(x=\"clusters\",\n",
        "           y=\"CPM\",\n",
        "           hue=\"Device Type\",\n",
        "           data=df1)"
      ]
    },
    {
      "cell_type": "code",
      "execution_count": null,
      "metadata": {
        "id": "uI4EL0yw1Itu"
      },
      "outputs": [],
      "source": [
        "\n",
        "\n"
      ]
    },
    {
      "cell_type": "code",
      "execution_count": null,
      "metadata": {
        "id": "iIQtYJIHc_Pv"
      },
      "outputs": [],
      "source": [
        "df1=df.copy()"
      ]
    },
    {
      "cell_type": "code",
      "execution_count": null,
      "metadata": {
        "colab": {
          "base_uri": "https://localhost:8080/",
          "height": 301
        },
        "id": "ivvJH1mxdHKI",
        "outputId": "a381075a-de39-4c11-c143-a57492438314"
      },
      "outputs": [
        {
          "data": {
            "text/plain": [
              "<matplotlib.axes._subplots.AxesSubplot at 0x7fc6a9f8cf10>"
            ]
          },
          "execution_count": 390,
          "metadata": {},
          "output_type": "execute_result"
        },
        {
          "data": {
            "image/png": "[encoded data removed]",
            "text/plain": [
              "<Figure size 432x288 with 1 Axes>"
            ]
          },
          "metadata": {},
          "output_type": "display_data"
        }
      ],
      "source": [
        "df1 = df1.groupby(['Clus_kmeans', 'Device Type']).agg(CPC=(\"CPC\", 'mean'))\n",
        "df1 = df1.reset_index()\n",
        "\n",
        "# plot barplot\n",
        "sns.barplot(x=\"Clus_kmeans\",\n",
        "           y=\"CPC\",\n",
        "           hue=\"Device Type\",\n",
        "           data=df1)"
      ]
    },
    {
      "cell_type": "code",
      "execution_count": null,
      "metadata": {
        "id": "7poLoKikoCx4"
      },
      "outputs": [],
      "source": [
        "df1=df.copy()"
      ]
    },
    {
      "cell_type": "code",
      "execution_count": null,
      "metadata": {
        "colab": {
          "base_uri": "https://localhost:8080/",
          "height": 298
        },
        "id": "s4SltGuLoCPI",
        "outputId": "53230fc4-e30e-4a03-e469-7f9a43c451a3"
      },
      "outputs": [
        {
          "data": {
            "text/plain": [
              "<matplotlib.axes._subplots.AxesSubplot at 0x7fc6aa62df70>"
            ]
          },
          "execution_count": 392,
          "metadata": {},
          "output_type": "execute_result"
        },
        {
          "data": {
            "image/png": "[encoded data removed]",
            "text/plain": [
              "<Figure size 432x288 with 1 Axes>"
            ]
          },
          "metadata": {},
          "output_type": "display_data"
        }
      ],
      "source": [
        "df1 = df1.groupby(['Clus_kmeans', 'Device Type']).agg(Revenue=(\"Revenue\", 'mean'))\n",
        "df1 = df1.reset_index()\n",
        "\n",
        "# plot barplot\n",
        "sns.barplot(x=\"Clus_kmeans\",\n",
        "           y=\"Revenue\",\n",
        "           hue=\"Device Type\",\n",
        "           data=df1)"
      ]
    }
  ],
  "metadata": {
    "colab": {
      "provenance": []
    },
    "kernelspec": {
      "display_name": "Python 3",
      "name": "python3"
    },
    "language_info": {
      "name": "python"
    }
  },
  "nbformat": 4,
  "nbformat_minor": 0
}